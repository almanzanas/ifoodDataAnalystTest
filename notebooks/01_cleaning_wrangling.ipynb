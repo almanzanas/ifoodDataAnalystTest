{
 "cells": [
  {
   "cell_type": "markdown",
   "metadata": {},
   "source": [
    "# Data Cleaning and Data Wrangling\n",
    "\n",
    "## Data\n",
    "\n",
    "Dataset contains socio-demographic and firmographic features about 2.240 \n",
    "customers.\n",
    "\n",
    "|Feature |Description|\n",
    "|--:|---|\n",
    "|AcceptedCmp1| 1 if customer accepted the offer in the 1st campaign, 0 otherwise|\n",
    "|AcceptedCmp2| 1 if customer accepted the offer in the 2nd campaign, 0 otherwise|\n",
    "|AcceptedCmp3| 1 if customer accepted the offer in the 3rd campaign, 0 otherwise|\n",
    "|AcceptedCmp4| 1 if customer accepted the offer in the 4th campaign, 0 otherwise|\n",
    "|AcceptedCmp5| 1 if customer accepted the offer in the 5th campaign, 0 otherwise|\n",
    "|Response (target)| 1 if customer accepted the offer in the last campaign, 0 otherwise|\n",
    "|Complain| 1 if customer complained in the last 2 years|\n",
    "|DtCustomer| date of customer's enrollment with the company|\n",
    "|Education| customer's level of education|\n",
    "|Marital| customer's marital status|\n",
    "|Kidhome| number of small children in customer's household|\n",
    "|Teenhome |number of teenagers in customer's household|\n",
    "|Income| customer's yearly household income|\n",
    "|MntFishProducts| amount spent on fish products in the last 2 years|\n",
    "|MntMeatProducts| amount spent on meat products in the last 2 years|\n",
    "|MntFruits| amount spent on fruits products in the last 2 years|\n",
    "|MntSweetProducts| amount spent on sweet products in the last 2 years|\n",
    "|MntWines| amount spent on wines products in the last 2 years|\n",
    "|MntGoldProds| amount spent on gold products in the last 2 years|\n",
    "|NumDealsPurchases| number of purchases made with discount|\n",
    "|NunCatalogPurchases| number of purchases made using catalog|\n",
    "|NunStorePurchases| number of purchases made directly in stores|\n",
    "|NumWebPurchases| number of purchases made through company's web site|\n",
    "|NumWebVisitsMonth| number of visits to company's web site in the last month|\n",
    "|Recency|number of days since the last purchase|\n",
    "|Z_Revenue|revenue from the new gadget|\n",
    "|Z_CostContact|cost of contact for the sixth campaign|"
   ]
  },
  {
   "cell_type": "code",
   "execution_count": 31,
   "metadata": {},
   "outputs": [],
   "source": [
    "import numpy as np\n",
    "import pandas as pd\n",
    "import json\n",
    "from pathlib import Path\n",
    "from datetime import datetime\n",
    "from scipy import stats\n",
    "from scipy.stats import kstest\n",
    "\n",
    "import psutil\n",
    "import warnings\n",
    "warnings.filterwarnings(\"ignore\")"
   ]
  },
  {
   "cell_type": "markdown",
   "metadata": {},
   "source": [
    "## Data Exploration"
   ]
  },
  {
   "cell_type": "code",
   "execution_count": 32,
   "metadata": {},
   "outputs": [
    {
     "data": {
      "text/html": [
       "<div>\n",
       "<style scoped>\n",
       "    .dataframe tbody tr th:only-of-type {\n",
       "        vertical-align: middle;\n",
       "    }\n",
       "\n",
       "    .dataframe tbody tr th {\n",
       "        vertical-align: top;\n",
       "    }\n",
       "\n",
       "    .dataframe thead th {\n",
       "        text-align: right;\n",
       "    }\n",
       "</style>\n",
       "<table border=\"1\" class=\"dataframe\">\n",
       "  <thead>\n",
       "    <tr style=\"text-align: right;\">\n",
       "      <th></th>\n",
       "      <th>ID</th>\n",
       "      <th>Year_Birth</th>\n",
       "      <th>Education</th>\n",
       "      <th>Marital_Status</th>\n",
       "      <th>Income</th>\n",
       "      <th>Kidhome</th>\n",
       "      <th>Teenhome</th>\n",
       "      <th>Dt_Customer</th>\n",
       "      <th>Recency</th>\n",
       "      <th>MntWines</th>\n",
       "      <th>...</th>\n",
       "      <th>NumWebVisitsMonth</th>\n",
       "      <th>AcceptedCmp3</th>\n",
       "      <th>AcceptedCmp4</th>\n",
       "      <th>AcceptedCmp5</th>\n",
       "      <th>AcceptedCmp1</th>\n",
       "      <th>AcceptedCmp2</th>\n",
       "      <th>Complain</th>\n",
       "      <th>Z_CostContact</th>\n",
       "      <th>Z_Revenue</th>\n",
       "      <th>Response</th>\n",
       "    </tr>\n",
       "  </thead>\n",
       "  <tbody>\n",
       "    <tr>\n",
       "      <th>758</th>\n",
       "      <td>10470</td>\n",
       "      <td>1979</td>\n",
       "      <td>Master</td>\n",
       "      <td>Married</td>\n",
       "      <td>40662.0</td>\n",
       "      <td>1</td>\n",
       "      <td>0</td>\n",
       "      <td>2013-03-15</td>\n",
       "      <td>0</td>\n",
       "      <td>40</td>\n",
       "      <td>...</td>\n",
       "      <td>4</td>\n",
       "      <td>0</td>\n",
       "      <td>0</td>\n",
       "      <td>0</td>\n",
       "      <td>0</td>\n",
       "      <td>0</td>\n",
       "      <td>0</td>\n",
       "      <td>3</td>\n",
       "      <td>11</td>\n",
       "      <td>0</td>\n",
       "    </tr>\n",
       "    <tr>\n",
       "      <th>2004</th>\n",
       "      <td>9923</td>\n",
       "      <td>1972</td>\n",
       "      <td>Master</td>\n",
       "      <td>Single</td>\n",
       "      <td>46423.0</td>\n",
       "      <td>1</td>\n",
       "      <td>1</td>\n",
       "      <td>2013-09-18</td>\n",
       "      <td>6</td>\n",
       "      <td>68</td>\n",
       "      <td>...</td>\n",
       "      <td>7</td>\n",
       "      <td>0</td>\n",
       "      <td>0</td>\n",
       "      <td>0</td>\n",
       "      <td>0</td>\n",
       "      <td>0</td>\n",
       "      <td>0</td>\n",
       "      <td>3</td>\n",
       "      <td>11</td>\n",
       "      <td>0</td>\n",
       "    </tr>\n",
       "    <tr>\n",
       "      <th>631</th>\n",
       "      <td>9624</td>\n",
       "      <td>1958</td>\n",
       "      <td>PhD</td>\n",
       "      <td>Together</td>\n",
       "      <td>65488.0</td>\n",
       "      <td>0</td>\n",
       "      <td>0</td>\n",
       "      <td>2014-06-13</td>\n",
       "      <td>46</td>\n",
       "      <td>603</td>\n",
       "      <td>...</td>\n",
       "      <td>1</td>\n",
       "      <td>0</td>\n",
       "      <td>0</td>\n",
       "      <td>0</td>\n",
       "      <td>0</td>\n",
       "      <td>0</td>\n",
       "      <td>0</td>\n",
       "      <td>3</td>\n",
       "      <td>11</td>\n",
       "      <td>0</td>\n",
       "    </tr>\n",
       "    <tr>\n",
       "      <th>148</th>\n",
       "      <td>5885</td>\n",
       "      <td>1973</td>\n",
       "      <td>2n Cycle</td>\n",
       "      <td>Married</td>\n",
       "      <td>35688.0</td>\n",
       "      <td>2</td>\n",
       "      <td>1</td>\n",
       "      <td>2012-08-22</td>\n",
       "      <td>94</td>\n",
       "      <td>73</td>\n",
       "      <td>...</td>\n",
       "      <td>8</td>\n",
       "      <td>0</td>\n",
       "      <td>0</td>\n",
       "      <td>0</td>\n",
       "      <td>0</td>\n",
       "      <td>0</td>\n",
       "      <td>0</td>\n",
       "      <td>3</td>\n",
       "      <td>11</td>\n",
       "      <td>0</td>\n",
       "    </tr>\n",
       "    <tr>\n",
       "      <th>1333</th>\n",
       "      <td>5147</td>\n",
       "      <td>1948</td>\n",
       "      <td>Graduation</td>\n",
       "      <td>Single</td>\n",
       "      <td>90842.0</td>\n",
       "      <td>0</td>\n",
       "      <td>0</td>\n",
       "      <td>2013-07-29</td>\n",
       "      <td>57</td>\n",
       "      <td>774</td>\n",
       "      <td>...</td>\n",
       "      <td>1</td>\n",
       "      <td>0</td>\n",
       "      <td>0</td>\n",
       "      <td>0</td>\n",
       "      <td>0</td>\n",
       "      <td>0</td>\n",
       "      <td>0</td>\n",
       "      <td>3</td>\n",
       "      <td>11</td>\n",
       "      <td>0</td>\n",
       "    </tr>\n",
       "    <tr>\n",
       "      <th>551</th>\n",
       "      <td>5371</td>\n",
       "      <td>1989</td>\n",
       "      <td>Graduation</td>\n",
       "      <td>Single</td>\n",
       "      <td>21474.0</td>\n",
       "      <td>1</td>\n",
       "      <td>0</td>\n",
       "      <td>2014-04-08</td>\n",
       "      <td>0</td>\n",
       "      <td>6</td>\n",
       "      <td>...</td>\n",
       "      <td>7</td>\n",
       "      <td>1</td>\n",
       "      <td>0</td>\n",
       "      <td>0</td>\n",
       "      <td>0</td>\n",
       "      <td>0</td>\n",
       "      <td>0</td>\n",
       "      <td>3</td>\n",
       "      <td>11</td>\n",
       "      <td>1</td>\n",
       "    </tr>\n",
       "    <tr>\n",
       "      <th>2155</th>\n",
       "      <td>8933</td>\n",
       "      <td>1983</td>\n",
       "      <td>2n Cycle</td>\n",
       "      <td>Married</td>\n",
       "      <td>32146.0</td>\n",
       "      <td>1</td>\n",
       "      <td>0</td>\n",
       "      <td>2014-05-12</td>\n",
       "      <td>16</td>\n",
       "      <td>26</td>\n",
       "      <td>...</td>\n",
       "      <td>6</td>\n",
       "      <td>0</td>\n",
       "      <td>0</td>\n",
       "      <td>0</td>\n",
       "      <td>0</td>\n",
       "      <td>0</td>\n",
       "      <td>0</td>\n",
       "      <td>3</td>\n",
       "      <td>11</td>\n",
       "      <td>0</td>\n",
       "    </tr>\n",
       "    <tr>\n",
       "      <th>1371</th>\n",
       "      <td>9140</td>\n",
       "      <td>1960</td>\n",
       "      <td>2n Cycle</td>\n",
       "      <td>Together</td>\n",
       "      <td>50523.0</td>\n",
       "      <td>1</td>\n",
       "      <td>1</td>\n",
       "      <td>2013-12-25</td>\n",
       "      <td>89</td>\n",
       "      <td>51</td>\n",
       "      <td>...</td>\n",
       "      <td>6</td>\n",
       "      <td>0</td>\n",
       "      <td>0</td>\n",
       "      <td>0</td>\n",
       "      <td>0</td>\n",
       "      <td>0</td>\n",
       "      <td>0</td>\n",
       "      <td>3</td>\n",
       "      <td>11</td>\n",
       "      <td>0</td>\n",
       "    </tr>\n",
       "  </tbody>\n",
       "</table>\n",
       "<p>8 rows × 29 columns</p>\n",
       "</div>"
      ],
      "text/plain": [
       "         ID  Year_Birth   Education Marital_Status   Income  Kidhome  \\\n",
       "758   10470        1979      Master        Married  40662.0        1   \n",
       "2004   9923        1972      Master         Single  46423.0        1   \n",
       "631    9624        1958         PhD       Together  65488.0        0   \n",
       "148    5885        1973    2n Cycle        Married  35688.0        2   \n",
       "1333   5147        1948  Graduation         Single  90842.0        0   \n",
       "551    5371        1989  Graduation         Single  21474.0        1   \n",
       "2155   8933        1983    2n Cycle        Married  32146.0        1   \n",
       "1371   9140        1960    2n Cycle       Together  50523.0        1   \n",
       "\n",
       "      Teenhome Dt_Customer  Recency  MntWines  ...  NumWebVisitsMonth  \\\n",
       "758          0  2013-03-15        0        40  ...                  4   \n",
       "2004         1  2013-09-18        6        68  ...                  7   \n",
       "631          0  2014-06-13       46       603  ...                  1   \n",
       "148          1  2012-08-22       94        73  ...                  8   \n",
       "1333         0  2013-07-29       57       774  ...                  1   \n",
       "551          0  2014-04-08        0         6  ...                  7   \n",
       "2155         0  2014-05-12       16        26  ...                  6   \n",
       "1371         1  2013-12-25       89        51  ...                  6   \n",
       "\n",
       "      AcceptedCmp3  AcceptedCmp4  AcceptedCmp5  AcceptedCmp1  AcceptedCmp2  \\\n",
       "758              0             0             0             0             0   \n",
       "2004             0             0             0             0             0   \n",
       "631              0             0             0             0             0   \n",
       "148              0             0             0             0             0   \n",
       "1333             0             0             0             0             0   \n",
       "551              1             0             0             0             0   \n",
       "2155             0             0             0             0             0   \n",
       "1371             0             0             0             0             0   \n",
       "\n",
       "      Complain  Z_CostContact  Z_Revenue  Response  \n",
       "758          0              3         11         0  \n",
       "2004         0              3         11         0  \n",
       "631          0              3         11         0  \n",
       "148          0              3         11         0  \n",
       "1333         0              3         11         0  \n",
       "551          0              3         11         1  \n",
       "2155         0              3         11         0  \n",
       "1371         0              3         11         0  \n",
       "\n",
       "[8 rows x 29 columns]"
      ]
     },
     "execution_count": 32,
     "metadata": {},
     "output_type": "execute_result"
    }
   ],
   "source": [
    "# Storing path\n",
    "path = Path(\"../data/ifood_customers.csv\")\n",
    "\n",
    "# Read CSV with pandas\n",
    "data = pd.read_csv(path)\n",
    "\n",
    "# showing a sample of the dataset\n",
    "data.sample(8)"
   ]
  },
  {
   "cell_type": "code",
   "execution_count": 33,
   "metadata": {},
   "outputs": [
    {
     "name": "stdout",
     "output_type": "stream",
     "text": [
      "<class 'pandas.core.frame.DataFrame'>\n",
      "RangeIndex: 2240 entries, 0 to 2239\n",
      "Data columns (total 29 columns):\n",
      " #   Column               Non-Null Count  Dtype  \n",
      "---  ------               --------------  -----  \n",
      " 0   ID                   2240 non-null   int64  \n",
      " 1   Year_Birth           2240 non-null   int64  \n",
      " 2   Education            2240 non-null   object \n",
      " 3   Marital_Status       2240 non-null   object \n",
      " 4   Income               2216 non-null   float64\n",
      " 5   Kidhome              2240 non-null   int64  \n",
      " 6   Teenhome             2240 non-null   int64  \n",
      " 7   Dt_Customer          2240 non-null   object \n",
      " 8   Recency              2240 non-null   int64  \n",
      " 9   MntWines             2240 non-null   int64  \n",
      " 10  MntFruits            2240 non-null   int64  \n",
      " 11  MntMeatProducts      2240 non-null   int64  \n",
      " 12  MntFishProducts      2240 non-null   int64  \n",
      " 13  MntSweetProducts     2240 non-null   int64  \n",
      " 14  MntGoldProds         2240 non-null   int64  \n",
      " 15  NumDealsPurchases    2240 non-null   int64  \n",
      " 16  NumWebPurchases      2240 non-null   int64  \n",
      " 17  NumCatalogPurchases  2240 non-null   int64  \n",
      " 18  NumStorePurchases    2240 non-null   int64  \n",
      " 19  NumWebVisitsMonth    2240 non-null   int64  \n",
      " 20  AcceptedCmp3         2240 non-null   int64  \n",
      " 21  AcceptedCmp4         2240 non-null   int64  \n",
      " 22  AcceptedCmp5         2240 non-null   int64  \n",
      " 23  AcceptedCmp1         2240 non-null   int64  \n",
      " 24  AcceptedCmp2         2240 non-null   int64  \n",
      " 25  Complain             2240 non-null   int64  \n",
      " 26  Z_CostContact        2240 non-null   int64  \n",
      " 27  Z_Revenue            2240 non-null   int64  \n",
      " 28  Response             2240 non-null   int64  \n",
      "dtypes: float64(1), int64(25), object(3)\n",
      "memory usage: 507.6+ KB\n"
     ]
    }
   ],
   "source": [
    "# Exploring the columns and dtype\n",
    "\n",
    "data.info()"
   ]
  },
  {
   "cell_type": "code",
   "execution_count": 34,
   "metadata": {},
   "outputs": [
    {
     "name": "stdout",
     "output_type": "stream",
     "text": [
      "\n",
      "'Education' Column Values:\n",
      "\t['Graduation' 'PhD' 'Master' 'Basic' '2n Cycle']\n",
      "\n",
      "'Marital_Status' Column Values:\n",
      "\t['Single' 'Together' 'Married' 'Divorced' 'Widow' 'Alone' 'Absurd' 'YOLO']\n",
      "\n",
      "'Dt_Customer' Column sample:\n",
      "135     2013-03-17\n",
      "1585    2014-05-19\n",
      "1204    2013-08-17\n",
      "Name: Dt_Customer, dtype: object\n",
      "\t\n"
     ]
    }
   ],
   "source": [
    "# Exploring unique values in some columns\n",
    "\n",
    "print(\"\\n'Education' Column Values:\\n\", \"\\t\",\n",
    "      data[\"Education\"].unique(),\n",
    "      sep=''\n",
    "      )\n",
    "\n",
    "print(\"\\n'Marital_Status' Column Values:\\n\", \"\\t\",\n",
    "      data[\"Marital_Status\"].unique(),\n",
    "      sep=''\n",
    "      )\n",
    "\n",
    "print(\"\\n'Dt_Customer' Column sample:\\n\",\n",
    "      data[\"Dt_Customer\"].sample(3), \"\\n\", \"\\t\",\n",
    "      sep=''\n",
    "      )\n"
   ]
  },
  {
   "cell_type": "markdown",
   "metadata": {},
   "source": [
    "## Creating columns"
   ]
  },
  {
   "cell_type": "code",
   "execution_count": 35,
   "metadata": {},
   "outputs": [
    {
     "name": "stdout",
     "output_type": "stream",
     "text": [
      "<class 'pandas.core.frame.DataFrame'>\n",
      "RangeIndex: 2240 entries, 0 to 2239\n",
      "Data columns (total 29 columns):\n",
      " #   Column               Non-Null Count  Dtype         \n",
      "---  ------               --------------  -----         \n",
      " 0   ID                   2240 non-null   int64         \n",
      " 1   Year_Birth           2240 non-null   int64         \n",
      " 2   Education            2240 non-null   category      \n",
      " 3   Marital_Status       2240 non-null   category      \n",
      " 4   Income               2216 non-null   Int64         \n",
      " 5   Kidhome              2240 non-null   int64         \n",
      " 6   Teenhome             2240 non-null   int64         \n",
      " 7   Dt_Customer          2240 non-null   datetime64[ns]\n",
      " 8   Recency              2240 non-null   int64         \n",
      " 9   MntWines             2240 non-null   int64         \n",
      " 10  MntFruits            2240 non-null   int64         \n",
      " 11  MntMeatProducts      2240 non-null   int64         \n",
      " 12  MntFishProducts      2240 non-null   int64         \n",
      " 13  MntSweetProducts     2240 non-null   int64         \n",
      " 14  MntGoldProds         2240 non-null   int64         \n",
      " 15  NumDealsPurchases    2240 non-null   int64         \n",
      " 16  NumWebPurchases      2240 non-null   int64         \n",
      " 17  NumCatalogPurchases  2240 non-null   int64         \n",
      " 18  NumStorePurchases    2240 non-null   int64         \n",
      " 19  NumWebVisitsMonth    2240 non-null   int64         \n",
      " 20  AcceptedCmp3         2240 non-null   int64         \n",
      " 21  AcceptedCmp4         2240 non-null   int64         \n",
      " 22  AcceptedCmp5         2240 non-null   int64         \n",
      " 23  AcceptedCmp1         2240 non-null   int64         \n",
      " 24  AcceptedCmp2         2240 non-null   int64         \n",
      " 25  Complain             2240 non-null   int64         \n",
      " 26  Z_CostContact        2240 non-null   int64         \n",
      " 27  Z_Revenue            2240 non-null   int64         \n",
      " 28  Response             2240 non-null   int64         \n",
      "dtypes: Int64(1), category(2), datetime64[ns](1), int64(25)\n",
      "memory usage: 479.8 KB\n"
     ]
    }
   ],
   "source": [
    "# Stabilizing dtype 'category' to Education and Marital_Status columns\n",
    "# Also Dt_Customer to Datetime dtype and Income to 'Int64'\n",
    "\n",
    "data[\"Income\"] = data[\"Income\"].astype(\"Int64\")\n",
    "data[\"Education\"] = data[\"Education\"].astype(\"category\")\n",
    "data[\"Marital_Status\"] = data[\"Marital_Status\"].astype(\"category\")\n",
    "data[\"Dt_Customer\"] = pd.to_datetime(data[\"Dt_Customer\"], format=\"%Y-%m-%d\")\n",
    "\n",
    "data.info()\n"
   ]
  },
  {
   "cell_type": "code",
   "execution_count": 36,
   "metadata": {},
   "outputs": [
    {
     "data": {
      "text/html": [
       "<div>\n",
       "<style scoped>\n",
       "    .dataframe tbody tr th:only-of-type {\n",
       "        vertical-align: middle;\n",
       "    }\n",
       "\n",
       "    .dataframe tbody tr th {\n",
       "        vertical-align: top;\n",
       "    }\n",
       "\n",
       "    .dataframe thead th {\n",
       "        text-align: right;\n",
       "    }\n",
       "</style>\n",
       "<table border=\"1\" class=\"dataframe\">\n",
       "  <thead>\n",
       "    <tr style=\"text-align: right;\">\n",
       "      <th></th>\n",
       "      <th>Year_Old</th>\n",
       "      <th>CustomerFor</th>\n",
       "    </tr>\n",
       "  </thead>\n",
       "  <tbody>\n",
       "    <tr>\n",
       "      <th>510</th>\n",
       "      <td>43</td>\n",
       "      <td>4066 days</td>\n",
       "    </tr>\n",
       "    <tr>\n",
       "      <th>871</th>\n",
       "      <td>65</td>\n",
       "      <td>3840 days</td>\n",
       "    </tr>\n",
       "    <tr>\n",
       "      <th>1498</th>\n",
       "      <td>65</td>\n",
       "      <td>4259 days</td>\n",
       "    </tr>\n",
       "    <tr>\n",
       "      <th>1449</th>\n",
       "      <td>51</td>\n",
       "      <td>3764 days</td>\n",
       "    </tr>\n",
       "    <tr>\n",
       "      <th>357</th>\n",
       "      <td>55</td>\n",
       "      <td>4230 days</td>\n",
       "    </tr>\n",
       "  </tbody>\n",
       "</table>\n",
       "</div>"
      ],
      "text/plain": [
       "      Year_Old CustomerFor\n",
       "510         43   4066 days\n",
       "871         65   3840 days\n",
       "1498        65   4259 days\n",
       "1449        51   3764 days\n",
       "357         55   4230 days"
      ]
     },
     "execution_count": 36,
     "metadata": {},
     "output_type": "execute_result"
    }
   ],
   "source": [
    "# Creating new columns: customer year old and days since becoming customer\n",
    "\n",
    "today = pd.to_datetime(datetime.today().strftime('%Y-%m-%d'))\n",
    "\n",
    "data[\"Year_Old\"] = (today.year - data[\"Year_Birth\"])\n",
    "data[\"CustomerFor\"] = (today - data[\"Dt_Customer\"])\n",
    "\n",
    "data[[\"Year_Old\", \"CustomerFor\"]].sample(5)"
   ]
  },
  {
   "cell_type": "code",
   "execution_count": 37,
   "metadata": {},
   "outputs": [
    {
     "name": "stdout",
     "output_type": "stream",
     "text": [
      "<class 'pandas.core.frame.DataFrame'>\n",
      "RangeIndex: 2240 entries, 0 to 2239\n",
      "Data columns (total 31 columns):\n",
      " #   Column               Non-Null Count  Dtype          \n",
      "---  ------               --------------  -----          \n",
      " 0   ID                   2240 non-null   int64          \n",
      " 1   Year_Birth           2240 non-null   int64          \n",
      " 2   Year_Old             2240 non-null   int64          \n",
      " 3   CustomerFor          2240 non-null   timedelta64[ns]\n",
      " 4   Dt_Customer          2240 non-null   datetime64[ns] \n",
      " 5   Education            2240 non-null   category       \n",
      " 6   Marital_Status       2240 non-null   category       \n",
      " 7   Income               2216 non-null   Int64          \n",
      " 8   Kidhome              2240 non-null   int64          \n",
      " 9   Teenhome             2240 non-null   int64          \n",
      " 10  Recency              2240 non-null   int64          \n",
      " 11  MntWines             2240 non-null   int64          \n",
      " 12  MntFruits            2240 non-null   int64          \n",
      " 13  MntMeatProducts      2240 non-null   int64          \n",
      " 14  MntFishProducts      2240 non-null   int64          \n",
      " 15  MntSweetProducts     2240 non-null   int64          \n",
      " 16  MntGoldProds         2240 non-null   int64          \n",
      " 17  NumDealsPurchases    2240 non-null   int64          \n",
      " 18  NumWebPurchases      2240 non-null   int64          \n",
      " 19  NumCatalogPurchases  2240 non-null   int64          \n",
      " 20  NumStorePurchases    2240 non-null   int64          \n",
      " 21  NumWebVisitsMonth    2240 non-null   int64          \n",
      " 22  AcceptedCmp3         2240 non-null   int64          \n",
      " 23  AcceptedCmp4         2240 non-null   int64          \n",
      " 24  AcceptedCmp5         2240 non-null   int64          \n",
      " 25  AcceptedCmp1         2240 non-null   int64          \n",
      " 26  AcceptedCmp2         2240 non-null   int64          \n",
      " 27  Complain             2240 non-null   int64          \n",
      " 28  Z_CostContact        2240 non-null   int64          \n",
      " 29  Z_Revenue            2240 non-null   int64          \n",
      " 30  Response             2240 non-null   int64          \n",
      "dtypes: Int64(1), category(2), datetime64[ns](1), int64(26), timedelta64[ns](1)\n",
      "memory usage: 514.8 KB\n"
     ]
    }
   ],
   "source": [
    "# Reordering columns\n",
    "\n",
    "pop_column = data.pop(\"Dt_Customer\")\n",
    "data.insert(2, \"Dt_Customer\", pop_column)\n",
    "\n",
    "last_columns = data.columns[-2:]\n",
    "first_columns = data.columns[:2]\n",
    "middle_columns = data.columns[2:-2]\n",
    "new_order = list(first_columns) + list(last_columns) + list(middle_columns)\n",
    "\n",
    "data = data[new_order]\n",
    "\n",
    "data.info()"
   ]
  },
  {
   "cell_type": "code",
   "execution_count": 38,
   "metadata": {},
   "outputs": [
    {
     "name": "stdout",
     "output_type": "stream",
     "text": [
      "1351    1\n",
      "1143    0\n",
      "490     1\n",
      "48      0\n",
      "1046    0\n",
      "Name: PurchaseLastMonth, dtype: int64\n"
     ]
    }
   ],
   "source": [
    "# Checking if the customer bought in the last month\n",
    "\n",
    "data[\"PurchaseLastMonth\"] = (data[\"Recency\"] < 30)\n",
    "data[\"PurchaseLastMonth\"] = data[\"PurchaseLastMonth\"].replace({True:1, \n",
    "                                                               False:0})\n",
    "\n",
    "print(data[\"PurchaseLastMonth\"].sample(5))"
   ]
  },
  {
   "cell_type": "code",
   "execution_count": 39,
   "metadata": {},
   "outputs": [
    {
     "name": "stdout",
     "output_type": "stream",
     "text": [
      "2166    1338\n",
      "458      270\n",
      "1503     747\n",
      "1294      62\n",
      "1992    2217\n",
      "Name: MntSpentTotal, dtype: int64\n"
     ]
    }
   ],
   "source": [
    "# Calculating total amount spent per customer\n",
    "\n",
    "MntSpentTotal_sum = [\"MntFishProducts\", \"MntFruits\", \"MntGoldProds\", \n",
    "                     \"MntMeatProducts\", \"MntSweetProducts\", \"MntWines\"]\n",
    "data[\"MntSpentTotal\"] = data[MntSpentTotal_sum].sum(axis=1)\n",
    "\n",
    "print(data[\"MntSpentTotal\"].sample(5))"
   ]
  },
  {
   "cell_type": "code",
   "execution_count": 40,
   "metadata": {},
   "outputs": [
    {
     "data": {
      "text/plain": [
       "1409    1\n",
       "280     0\n",
       "340     0\n",
       "1947    0\n",
       "2022    0\n",
       "Name: AcceptedCmpTotal, dtype: int64"
      ]
     },
     "execution_count": 40,
     "metadata": {},
     "output_type": "execute_result"
    }
   ],
   "source": [
    "# How many campaigns the customer accepted\n",
    "\n",
    "AcceptedCmpTotal_sum = [\"AcceptedCmp1\", \"AcceptedCmp2\", \"AcceptedCmp3\", \n",
    "                        \"AcceptedCmp4\", \"AcceptedCmp5\", \"Response\"]\n",
    "data[\"AcceptedCmpTotal\"] = data[AcceptedCmpTotal_sum].sum(axis=1)\n",
    "\n",
    "data[\"AcceptedCmpTotal\"].sample(5)"
   ]
  },
  {
   "cell_type": "code",
   "execution_count": 41,
   "metadata": {},
   "outputs": [
    {
     "data": {
      "text/plain": [
       "67      1\n",
       "130     1\n",
       "897     1\n",
       "2050    2\n",
       "1492    0\n",
       "Name: ChildrenHome, dtype: int64"
      ]
     },
     "execution_count": 41,
     "metadata": {},
     "output_type": "execute_result"
    }
   ],
   "source": [
    "# How many children (Kids and teenagers) the customer has at home\n",
    "\n",
    "ChildrenHome_sum = [\"Kidhome\", \"Teenhome\"]\n",
    "data[\"ChildrenHome\"] = data[ChildrenHome_sum].sum(axis=\"columns\")\n",
    "\n",
    "data[\"ChildrenHome\"].sample(5)"
   ]
  },
  {
   "cell_type": "markdown",
   "metadata": {},
   "source": [
    "### Columns reordered"
   ]
  },
  {
   "cell_type": "code",
   "execution_count": 42,
   "metadata": {},
   "outputs": [
    {
     "name": "stdout",
     "output_type": "stream",
     "text": [
      "<class 'pandas.core.frame.DataFrame'>\n",
      "RangeIndex: 2240 entries, 0 to 2239\n",
      "Data columns (total 35 columns):\n",
      " #   Column               Non-Null Count  Dtype          \n",
      "---  ------               --------------  -----          \n",
      " 0   ID                   2240 non-null   int64          \n",
      " 1   Year_Birth           2240 non-null   int64          \n",
      " 2   Year_Old             2240 non-null   int64          \n",
      " 3   CustomerFor          2240 non-null   timedelta64[ns]\n",
      " 4   Dt_Customer          2240 non-null   datetime64[ns] \n",
      " 5   Education            2240 non-null   category       \n",
      " 6   Marital_Status       2240 non-null   category       \n",
      " 7   Income               2216 non-null   Int64          \n",
      " 8   Kidhome              2240 non-null   int64          \n",
      " 9   Teenhome             2240 non-null   int64          \n",
      " 10  ChildrenHome         2240 non-null   int64          \n",
      " 11  Recency              2240 non-null   int64          \n",
      " 12  MntSpentTotal        2240 non-null   int64          \n",
      " 13  MntWines             2240 non-null   int64          \n",
      " 14  MntFruits            2240 non-null   int64          \n",
      " 15  MntMeatProducts      2240 non-null   int64          \n",
      " 16  MntFishProducts      2240 non-null   int64          \n",
      " 17  MntSweetProducts     2240 non-null   int64          \n",
      " 18  MntGoldProds         2240 non-null   int64          \n",
      " 19  PurchaseLastMonth    2240 non-null   int64          \n",
      " 20  NumDealsPurchases    2240 non-null   int64          \n",
      " 21  NumWebPurchases      2240 non-null   int64          \n",
      " 22  NumCatalogPurchases  2240 non-null   int64          \n",
      " 23  NumStorePurchases    2240 non-null   int64          \n",
      " 24  NumWebVisitsMonth    2240 non-null   int64          \n",
      " 25  AcceptedCmp1         2240 non-null   int64          \n",
      " 26  AcceptedCmp2         2240 non-null   int64          \n",
      " 27  AcceptedCmp3         2240 non-null   int64          \n",
      " 28  AcceptedCmp4         2240 non-null   int64          \n",
      " 29  AcceptedCmp5         2240 non-null   int64          \n",
      " 30  Response             2240 non-null   int64          \n",
      " 31  AcceptedCmpTotal     2240 non-null   int64          \n",
      " 32  Complain             2240 non-null   int64          \n",
      " 33  Z_CostContact        2240 non-null   int64          \n",
      " 34  Z_Revenue            2240 non-null   int64          \n",
      "dtypes: Int64(1), category(2), datetime64[ns](1), int64(30), timedelta64[ns](1)\n",
      "memory usage: 584.8 KB\n"
     ]
    }
   ],
   "source": [
    "# Reordering columns\n",
    "\n",
    "pop_column = data.pop(\"AcceptedCmpTotal\")\n",
    "data.insert(27, \"AcceptedCmpTotal\", pop_column)\n",
    "\n",
    "pop_column = data.pop(\"PurchaseLastMonth\")\n",
    "data.insert(17, \"PurchaseLastMonth\", pop_column)\n",
    "\n",
    "pop_column = data.pop(\"MntSpentTotal\")\n",
    "data.insert(11, \"MntSpentTotal\", pop_column)\n",
    "\n",
    "pop_column = data.pop(\"ChildrenHome\")\n",
    "data.insert(10, \"ChildrenHome\", pop_column)\n",
    "\n",
    "pop_column = data.pop(\"AcceptedCmp2\")\n",
    "data.insert(25, \"AcceptedCmp2\", pop_column)\n",
    "\n",
    "pop_column = data.pop(\"AcceptedCmp1\")\n",
    "data.insert(25, \"AcceptedCmp1\", pop_column)\n",
    "\n",
    "pop_column = data.pop(\"Response\")\n",
    "data.insert(30, \"Response\", pop_column)\n",
    "\n",
    "data.info()"
   ]
  },
  {
   "cell_type": "markdown",
   "metadata": {},
   "source": [
    "## Data Cleaning"
   ]
  },
  {
   "cell_type": "code",
   "execution_count": 43,
   "metadata": {},
   "outputs": [
    {
     "name": "stdout",
     "output_type": "stream",
     "text": [
      "Customers with missing values:  24\n"
     ]
    }
   ],
   "source": [
    "# Missing Values\n",
    "\n",
    "row_nan = data[data.isna().any(axis=1)]\n",
    "print(\"Customers with missing values: \", len(row_nan))\n",
    "\n",
    "data.drop(row_nan.index, inplace=True)"
   ]
  },
  {
   "cell_type": "code",
   "execution_count": 44,
   "metadata": {},
   "outputs": [
    {
     "name": "stdout",
     "output_type": "stream",
     "text": [
      "Customers with a logically incoherent Marital Status:  7\n"
     ]
    }
   ],
   "source": [
    "# Identifying logically incoherent customers and dropping from the dataframe\n",
    "\n",
    "marital_filt = data[data[\"Marital_Status\"].isin(['Alone', 'Absurd', 'YOLO'])]\n",
    "print(\"Customers with a logically incoherent Marital Status: \", \n",
    "      len(marital_filt))\n",
    "\n",
    "data.drop(marital_filt.index, inplace=True)"
   ]
  },
  {
   "cell_type": "markdown",
   "metadata": {},
   "source": [
    "### Kolmogorov-Smirnov test"
   ]
  },
  {
   "cell_type": "code",
   "execution_count": 45,
   "metadata": {},
   "outputs": [
    {
     "name": "stdout",
     "output_type": "stream",
     "text": [
      "Test statistic: 0.0590\n",
      "p Value: 0.0000\n"
     ]
    }
   ],
   "source": [
    "# KS-Test on 'Year_Old' column\n",
    "ks_result = kstest(data[\"Year_Old\"], stats.norm.cdf, \n",
    "                   args=(data[\"Year_Old\"].mean(), data[\"Year_Old\"].std()))\n",
    "\n",
    "print(f\"Test statistic: {ks_result.statistic:.4f}\")\n",
    "print(f\"p Value: {ks_result.pvalue:.4f}\")"
   ]
  },
  {
   "cell_type": "code",
   "execution_count": 46,
   "metadata": {},
   "outputs": [
    {
     "name": "stdout",
     "output_type": "stream",
     "text": [
      "Test statistic: 0.0542\n",
      "p Value: 0.0000\n"
     ]
    }
   ],
   "source": [
    "# KS-Test on 'Year_Old' column\n",
    "ks_result = kstest(data[\"Income\"], stats.norm.cdf, \n",
    "                   args=(data[\"Income\"].mean(), data[\"Income\"].std()))\n",
    "\n",
    "print(f\"Test statistic: {ks_result.statistic:.4f}\")\n",
    "print(f\"p Value: {ks_result.pvalue:.4f}\")"
   ]
  },
  {
   "cell_type": "markdown",
   "metadata": {},
   "source": [
    "### Obtaining outliers"
   ]
  },
  {
   "cell_type": "code",
   "execution_count": 47,
   "metadata": {},
   "outputs": [
    {
     "name": "stdout",
     "output_type": "stream",
     "text": [
      "IQR:  18.0\n",
      "outliers: \n",
      "        ID  Year_Old  Income CustomerFor Marital_Status  MntSpentTotal\n",
      "192   7829       124   36640   3942 days       Divorced             65\n",
      "239  11004       131   60182   3709 days         Single             22\n",
      "339   1150       125   83532   3942 days       Together           1853\n"
     ]
    }
   ],
   "source": [
    "# Quartiles and IQR\n",
    "quartiles = data[\"Year_Old\"].quantile([0.25, 0.75])\n",
    "iqr = quartiles[0.75] - quartiles[0.25]\n",
    "\n",
    "# Identify Outliers\n",
    "lower_bound = quartiles[0.25] - 1.5 * iqr\n",
    "upper_bound = quartiles[0.75] + 1.5 * iqr\n",
    "\n",
    "# Filtering\n",
    "Year_Old_outliers = data[(data[\"Year_Old\"] < lower_bound) | \n",
    "                (data[\"Year_Old\"] > upper_bound)]\n",
    "\n",
    "print(\"IQR: \", iqr)\n",
    "print(\"outliers: \")\n",
    "print(Year_Old_outliers[[\"ID\", \"Year_Old\", \"Income\", \"CustomerFor\", \n",
    "                \"Marital_Status\", \"MntSpentTotal\"]])\n",
    "\n",
    "# Extracting Outliers from the Dataset\n",
    "data.drop(Year_Old_outliers.index, inplace=True)"
   ]
  },
  {
   "cell_type": "code",
   "execution_count": 48,
   "metadata": {},
   "outputs": [
    {
     "name": "stdout",
     "output_type": "stream",
     "text": [
      "IQR:  33383.5\n",
      "outliers: \n",
      "         ID  Year_Old  Income CustomerFor Marital_Status  MntSpentTotal\n",
      "2233   9432        47  666666   4058 days       Together             62\n",
      "617    1503        48  162397   4057 days       Together            107\n",
      "687    1501        42  160803   4360 days        Married           1717\n",
      "1300   5336        53  157733   4056 days       Together             59\n",
      "164    8475        51  157243   3786 days        Married           1608\n",
      "1653   4931        47  157146   4092 days       Together           1730\n",
      "2132  11181        75  156924   3970 days        Married              8\n",
      "655    5555        49  153924   3808 days       Divorced              6\n"
     ]
    }
   ],
   "source": [
    "# Quartiles and IQR\n",
    "quartiles = data[\"Income\"].quantile([0.25, 0.75])\n",
    "iqr = quartiles[0.75] - quartiles[0.25]\n",
    "\n",
    "# Identify Outliers\n",
    "lower_bound = quartiles[0.25] - 1.5 * iqr\n",
    "upper_bound = quartiles[0.75] + 1.5 * iqr\n",
    "\n",
    "# Filtering\n",
    "income_outliers = data[(data[\"Income\"] < lower_bound) | \n",
    "                (data[\"Income\"] > upper_bound)]\n",
    "\n",
    "print(\"IQR: \", iqr)\n",
    "print(\"outliers: \")\n",
    "print(income_outliers[[\"ID\", \"Year_Old\", \"Income\", \"CustomerFor\", \n",
    "                \"Marital_Status\", \"MntSpentTotal\"]]\\\n",
    "                    .sort_values(\"Income\", ascending=False))\n",
    "\n",
    "# Extracting logically incoherent Outlier from the Dataset\n",
    "income_excluded = data.drop(2233, inplace=True)"
   ]
  },
  {
   "cell_type": "code",
   "execution_count": 49,
   "metadata": {},
   "outputs": [
    {
     "name": "stdout",
     "output_type": "stream",
     "text": [
      "         ID  Year_Old  Income CustomerFor Marital_Status  MntSpentTotal\n",
      "153      92        36   34176   3714 days          Alone             89\n",
      "131     433        66   61331   4142 days          Alone            632\n",
      "2177    492        51   48432   4285 days           YOLO            424\n",
      "339    1150       125   83532   3942 days       Together           1853\n",
      "133    1295        61    <NA>   3988 days        Married            725\n",
      "2061   1612        43    <NA>   4060 days         Single             47\n",
      "10     1994        41    <NA>   3892 days        Married             19\n",
      "312    2437        35    <NA>   4057 days        Married           1611\n",
      "319    2863        54    <NA>   3976 days         Single           1052\n",
      "1382   2902        66    <NA>   4330 days       Together             45\n",
      "2081   3117        69    <NA>   3920 days         Single            450\n",
      "1386   3769        52    <NA>   3785 days       Together             42\n",
      "1383   4345        60    <NA>   3834 days         Single             21\n",
      "2134   4369        67   65487   3836 days         Absurd           1169\n",
      "2078   5079        53    <NA>   4149 days        Married             97\n",
      "2084   5250        81    <NA>   3908 days          Widow           1564\n",
      "27     5255        38    <NA>   4160 days         Single            637\n",
      "92     5798        51    <NA>   3884 days       Together            985\n",
      "2059   7187        55    <NA>   4073 days       Together            721\n",
      "48     7244        73    <NA>   3845 days         Single            124\n",
      "43     7281        65    <NA>   3902 days         Single            186\n",
      "138    7660        51   35860   3707 days          Alone             49\n",
      "2093   7734        31   79244   4223 days         Absurd           1216\n",
      "192    7829       124   36640   3942 days       Divorced             65\n",
      "128    8268        63    <NA>   4019 days        Married            404\n",
      "58     8557        42    <NA>   4043 days         Single             46\n",
      "2228   8720        46    <NA>   4352 days       Together           1679\n",
      "90     8996        67    <NA>   4253 days        Married            603\n",
      "91     9235        67    <NA>   3699 days         Single             18\n",
      "2079  10339        70    <NA>   4037 days       Together            207\n",
      "1379  10475        54    <NA>   4120 days       Together            317\n",
      "71    10629        51    <NA>   4319 days        Married            109\n",
      "239   11004       131   60182   3709 days         Single             22\n",
      "2202  11133        51   48432   4285 days           YOLO            424\n"
     ]
    }
   ],
   "source": [
    "# Storing excluded entries\n",
    "\n",
    "data_excluded = pd.concat([income_excluded, \n",
    "                          Year_Old_outliers, \n",
    "                          marital_filt, \n",
    "                          row_nan])\n",
    "\n",
    "print(data_excluded[[\"ID\", \"Year_Old\", \"Income\", \"CustomerFor\", \n",
    "                \"Marital_Status\", \"MntSpentTotal\"]]\\\n",
    "                    .sort_values(\"ID\"))"
   ]
  },
  {
   "cell_type": "markdown",
   "metadata": {},
   "source": [
    "## New Categorical columns"
   ]
  },
  {
   "cell_type": "code",
   "execution_count": 50,
   "metadata": {},
   "outputs": [
    {
     "name": "stdout",
     "output_type": "stream",
     "text": [
      "min     28.000000\n",
      "mean    55.101134\n",
      "max     84.000000\n",
      "Name: Year_Old, dtype: float64\n",
      "\n",
      "         ID  Year_Old Age_cat  Income\n",
      "1037     67        52   45_54   46423\n",
      "781   10839        48   45_54   36283\n",
      "1952   3434        73   65_74   80872\n",
      "86      273        54   45_54   36138\n",
      "51     4114        60   55_64   79143\n"
     ]
    }
   ],
   "source": [
    "# Age binning categories\n",
    "\n",
    "print(data[\"Year_Old\"].describe()[[\"min\", \"mean\", \"max\"]])\n",
    "\n",
    "bins = [25, 35, 45, 55, 65, 75, 2000]\n",
    "labels = [\"25_34\", \"35_44\", \"45_54\", \"55_64\", \"65_74\", \"75_above\"]\n",
    "\n",
    "data[\"Age_cat\"] = pd.cut(data[\"Year_Old\"], bins, labels=labels, right=False)\n",
    "\n",
    "print(\"\\n\", data[[\"ID\", \"Year_Old\", \"Age_cat\", \"Income\"]].sample(5), sep='')"
   ]
  },
  {
   "cell_type": "code",
   "execution_count": 51,
   "metadata": {},
   "outputs": [
    {
     "name": "stdout",
     "output_type": "stream",
     "text": [
      "min          1730.0\n",
      "mean    51954.61542\n",
      "max        162397.0\n",
      "Name: Income, dtype: Float64\n",
      "\n",
      "        ID   Age_cat  Income Income_cat\n",
      "1141   523     35_44   37155         D3\n",
      "636   6945     65_74   84574         D6\n",
      "611   4587  75_above   45006         D3\n",
      "716   3619     55_64   87305         D6\n",
      "1209   945     55_64   36317         D3\n"
     ]
    }
   ],
   "source": [
    "# Income binning categories\n",
    "\n",
    "print(data[\"Income\"].describe()[[\"min\", \"mean\", \"max\"]])\n",
    "\n",
    "labels = [f\"D{i+1}\" for i in np.arange(0,10)]\n",
    "\n",
    "data[\"Income_cat\"] = pd.cut(data[\"Income\"], 10, precision=0, labels=labels)\n",
    "\n",
    "print(\"\\n\", data[[\"ID\", \"Age_cat\", \"Income\", \"Income_cat\"]].sample(5), sep='')\n"
   ]
  },
  {
   "cell_type": "code",
   "execution_count": 52,
   "metadata": {},
   "outputs": [
    {
     "name": "stdout",
     "output_type": "stream",
     "text": [
      "min        5.000000\n",
      "mean     607.380499\n",
      "max     2525.000000\n",
      "Name: MntSpentTotal, dtype: float64\n",
      "\n",
      "        ID Age_cat  Income     MntTotal_cat  MntSpentTotal\n",
      "764   4508   65_74   75127   [425.0, 845.0)            833\n",
      "2097   975   65_74   54252   [256.0, 340.0)            264\n",
      "279   4391   55_64   63841  [845.0, 1265.0)            908\n",
      "1208  8955   65_74   40451      [2.0, 87.0)             49\n",
      "123   7386   45_54   30992      [2.0, 87.0)             43\n"
     ]
    }
   ],
   "source": [
    "# Total amount spent binning categories\n",
    "\n",
    "print(data[\"MntSpentTotal\"].describe()[[\"min\", \"mean\", \"max\"]])\n",
    "\n",
    "data[\"MntTotal_cat\"], intervals = pd.cut(data[\"MntSpentTotal\"], 6, \n",
    "                                         precision=0, retbins=True)\n",
    "\n",
    "# Exploring bins:\n",
    "# print(\"\\n\", data[\"MntTotal_cat\"].value_counts().sort_index(), sep='')\n",
    "\n",
    "# Creating new, more descriptive bins\n",
    "temp, first_int = pd.cut(np.arange(2, 426), 5, retbins=True)\n",
    "bins = list(first_int) + list(intervals[2:])\n",
    "\n",
    "data[\"MntTotal_cat\"], intervals = pd.cut(data[\"MntSpentTotal\"], bins, \n",
    "                                         precision=0, right=False, \n",
    "                                         retbins=True)\n",
    "\n",
    "print(\"\\n\", data[[\"ID\", \"Age_cat\", \n",
    "                  \"Income\", \"MntTotal_cat\", \n",
    "                  \"MntSpentTotal\"]].sample(5), sep='')\n"
   ]
  },
  {
   "cell_type": "code",
   "execution_count": 53,
   "metadata": {},
   "outputs": [
    {
     "name": "stdout",
     "output_type": "stream",
     "text": [
      "min      0.000000\n",
      "mean    49.082993\n",
      "max     99.000000\n",
      "Name: Recency, dtype: float64\n",
      "\n",
      "         MntTotal_cat Age_cat Income_cat Recency_cat\n",
      "78        [2.0, 87.0)   45_54         D2        0_24\n",
      "1597   [256.0, 340.0)   35_44         D3       50_74\n",
      "482    [256.0, 340.0)   45_54         D2       25_49\n",
      "570    [340.0, 425.0)   45_54         D3       25_49\n",
      "261   [845.0, 1265.0)   55_64         D5       25_49\n"
     ]
    }
   ],
   "source": [
    "# Recency binning categories\n",
    "\n",
    "print(data[\"Recency\"].describe()[[\"min\", \"mean\", \"max\"]])\n",
    "\n",
    "labels = [\"0_24\", \"25_49\", \"50_74\", \"75_99\"]\n",
    "\n",
    "data[\"Recency_cat\"] = pd.cut(data[\"Recency\"], 4, precision=0, labels=labels)\n",
    "\n",
    "print(\"\\n\", data[[\"MntTotal_cat\", \"Age_cat\", \n",
    "                  \"Income_cat\", \"Recency_cat\"]].sample(5), sep='')\n"
   ]
  },
  {
   "cell_type": "code",
   "execution_count": 58,
   "metadata": {},
   "outputs": [
    {
     "name": "stdout",
     "output_type": "stream",
     "text": [
      "There are duplicated customer based on 'ID' column?: False\n",
      "\n",
      "Are you sure?:  {True}\n"
     ]
    }
   ],
   "source": [
    "# Check duplicated customers\n",
    "duplicated = data[\"ID\"].duplicated().any()\n",
    "print(f\"There are duplicated customers based on 'ID' column?: {duplicated}\")"
   ]
  },
  {
   "cell_type": "markdown",
   "metadata": {},
   "source": [
    "## Saving new Dataset"
   ]
  },
  {
   "cell_type": "code",
   "execution_count": 24,
   "metadata": {},
   "outputs": [
    {
     "name": "stdout",
     "output_type": "stream",
     "text": [
      "<class 'pandas.core.frame.DataFrame'>\n",
      "Index: 2205 entries, 0 to 2239\n",
      "Data columns (total 39 columns):\n",
      " #   Column               Non-Null Count  Dtype          \n",
      "---  ------               --------------  -----          \n",
      " 0   ID                   2205 non-null   int64          \n",
      " 1   Year_Birth           2205 non-null   int64          \n",
      " 2   Year_Old             2205 non-null   int64          \n",
      " 3   CustomerFor          2205 non-null   timedelta64[ns]\n",
      " 4   Dt_Customer          2205 non-null   datetime64[ns] \n",
      " 5   Education            2205 non-null   category       \n",
      " 6   Marital_Status       2205 non-null   category       \n",
      " 7   Income               2205 non-null   Int64          \n",
      " 8   Kidhome              2205 non-null   int64          \n",
      " 9   Teenhome             2205 non-null   int64          \n",
      " 10  ChildrenHome         2205 non-null   int64          \n",
      " 11  Recency              2205 non-null   int64          \n",
      " 12  MntSpentTotal        2205 non-null   int64          \n",
      " 13  MntWines             2205 non-null   int64          \n",
      " 14  MntFruits            2205 non-null   int64          \n",
      " 15  MntMeatProducts      2205 non-null   int64          \n",
      " 16  MntFishProducts      2205 non-null   int64          \n",
      " 17  MntSweetProducts     2205 non-null   int64          \n",
      " 18  MntGoldProds         2205 non-null   int64          \n",
      " 19  PurchaseLastMonth    2205 non-null   int64          \n",
      " 20  NumDealsPurchases    2205 non-null   int64          \n",
      " 21  NumWebPurchases      2205 non-null   int64          \n",
      " 22  NumCatalogPurchases  2205 non-null   int64          \n",
      " 23  NumStorePurchases    2205 non-null   int64          \n",
      " 24  NumWebVisitsMonth    2205 non-null   int64          \n",
      " 25  AcceptedCmp1         2205 non-null   int64          \n",
      " 26  AcceptedCmp2         2205 non-null   int64          \n",
      " 27  AcceptedCmp3         2205 non-null   int64          \n",
      " 28  AcceptedCmp4         2205 non-null   int64          \n",
      " 29  AcceptedCmp5         2205 non-null   int64          \n",
      " 30  Response             2205 non-null   int64          \n",
      " 31  AcceptedCmpTotal     2205 non-null   int64          \n",
      " 32  Complain             2205 non-null   int64          \n",
      " 33  Z_CostContact        2205 non-null   int64          \n",
      " 34  Z_Revenue            2205 non-null   int64          \n",
      " 35  Age_cat              2205 non-null   category       \n",
      " 36  Income_cat           2205 non-null   category       \n",
      " 37  MntTotal_cat         2203 non-null   category       \n",
      " 38  Recency_cat          2205 non-null   category       \n",
      "dtypes: Int64(1), category(6), datetime64[ns](1), int64(30), timedelta64[ns](1)\n",
      "memory usage: 602.6 KB\n"
     ]
    }
   ],
   "source": [
    "data.info()"
   ]
  },
  {
   "cell_type": "code",
   "execution_count": 25,
   "metadata": {},
   "outputs": [],
   "source": [
    "# Saving DataFrame as csv\n",
    "data.to_csv(\"../data/ifood_cleaned.csv\", index=False)\n",
    "\n",
    "# Saving dtypes of each column\n",
    "data_dtypes = data.dtypes.to_frame('dtypes').reset_index()\n",
    "dict = data_dtypes.set_index('index')['dtypes'].astype(str).to_dict()\n",
    "\n",
    "with open('../data/cleaned_dtypes.json', 'w') as f:\n",
    "    json.dump(dict, f)\n",
    "\n",
    "# Storing excluded rows\n",
    "data.to_csv(\"../data/ifood_excluded.csv\", index=False)"
   ]
  },
  {
   "cell_type": "code",
   "execution_count": 26,
   "metadata": {},
   "outputs": [
    {
     "name": "stdout",
     "output_type": "stream",
     "text": [
      "Package                   Version\n",
      "\tMemory used: 146.00 MB\n",
      "\n",
      "------------------------- ---------\n",
      "asttokens                 2.4.1\n",
      "attrs                     23.2.0\n",
      "Brotli                    1.1.0\n",
      "certifi                   2024.6.2\n",
      "charset-normalizer        3.3.2\n",
      "colorama                  0.4.6\n",
      "comm                      0.2.2\n",
      "contourpy                 1.2.1\n",
      "cycler                    0.12.1\n",
      "Cython                    3.0.10\n",
      "debugpy                   1.8.1\n",
      "decorator                 5.1.1\n",
      "exceptiongroup            1.2.0\n",
      "executing                 2.0.1\n",
      "fastjsonschema            2.20.0\n",
      "fonttools                 4.51.0\n",
      "idna                      3.7\n",
      "importlib_metadata        7.1.0\n",
      "importlib_resources       6.4.0\n",
      "iniconfig                 2.0.0\n",
      "ipykernel                 6.29.4\n",
      "ipython                   8.24.0\n",
      "ipywidgets                8.1.2\n",
      "jedi                      0.19.1\n",
      "jsonschema                4.22.0\n",
      "jsonschema-specifications 2023.12.1\n",
      "jupyter_client            8.6.2\n",
      "jupyter_core              5.7.2\n",
      "jupyterlab_widgets        3.0.10\n",
      "kaleido                   0.2.1\n",
      "kiwisolver                1.4.5\n",
      "matplotlib                3.8.4\n",
      "matplotlib-inline         0.1.7\n",
      "munkres                   1.1.4\n",
      "nbformat                  5.10.4\n",
      "nest_asyncio              1.6.0\n",
      "numpy                     1.26.4\n",
      "packaging                 24.0\n",
      "pandas                    2.2.2\n",
      "parso                     0.8.4\n",
      "patsy                     0.5.6\n",
      "pickleshare               0.7.5\n",
      "pillow                    10.3.0\n",
      "pip                       24.0\n",
      "pkgutil_resolve_name      1.3.10\n",
      "platformdirs              4.2.2\n",
      "plotly                    5.22.0\n",
      "plotly-express            0.4.1\n",
      "pluggy                    1.5.0\n",
      "ply                       3.11\n",
      "prompt-toolkit            3.0.42\n",
      "psutil                    5.9.8\n",
      "pure-eval                 0.2.2\n",
      "Pygments                  2.18.0\n",
      "pyparsing                 3.1.2\n",
      "PyQt5                     5.15.9\n",
      "PyQt5-sip                 12.12.2\n",
      "PySocks                   1.7.1\n",
      "pytest                    8.1.1\n",
      "python-dateutil           2.9.0\n",
      "pytz                      2024.1\n",
      "pywin32                   306\n",
      "pyzmq                     26.0.3\n",
      "referencing               0.35.1\n",
      "requests                  2.32.3\n",
      "rpds-py                   0.18.1\n",
      "scipy                     1.13.1\n",
      "setuptools                70.0.0\n",
      "sip                       6.7.12\n",
      "six                       1.16.0\n",
      "stack-data                0.6.2\n",
      "statsmodels               0.14.2\n",
      "tenacity                  8.2.3\n",
      "toml                      0.10.2\n",
      "tomli                     2.0.1\n",
      "tornado                   6.4\n",
      "traitlets                 5.14.3\n",
      "typing_extensions         4.11.0\n",
      "tzdata                    2024.1\n",
      "urllib3                   2.2.1\n",
      "wcwidth                   0.2.13\n",
      "wheel                     0.43.0\n",
      "widgetsnbextension        4.0.10\n",
      "win-inet-pton             1.1.0\n",
      "zipp                      3.19.2\n"
     ]
    }
   ],
   "source": [
    "# Notebook info\n",
    "\n",
    "!pip list\n",
    "\n",
    "process = psutil.Process()\n",
    "memory_used = process.memory_info().rss / (1024 ** 2)  # MB\n",
    "\n",
    "print(f\"\\n\\tMemory used: {memory_used:.2f} MB\")\n"
   ]
  }
 ],
 "metadata": {
  "kernelspec": {
   "display_name": "learning",
   "language": "python",
   "name": "python3"
  },
  "language_info": {
   "codemirror_mode": {
    "name": "ipython",
    "version": 3
   },
   "file_extension": ".py",
   "mimetype": "text/x-python",
   "name": "python",
   "nbconvert_exporter": "python",
   "pygments_lexer": "ipython3",
   "version": "3.12.4"
  }
 },
 "nbformat": 4,
 "nbformat_minor": 2
}
