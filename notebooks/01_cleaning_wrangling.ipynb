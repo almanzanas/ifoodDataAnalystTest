{
 "cells": [
  {
   "cell_type": "markdown",
   "metadata": {},
   "source": [
    "# Data Cleaning and Data Wrangling\n",
    "\n",
    "## Data\n",
    "\n",
    "Dataset contains socio-demographic and firmographic features about 2.240 \n",
    "customers.\n",
    "\n",
    "|Feature |Description|\n",
    "|--:|---|\n",
    "|AcceptedCmp1| 1 if customer accepted the offer in the 1st campaign, 0 otherwise|\n",
    "|AcceptedCmp2| 1 if customer accepted the offer in the 2nd campaign, 0 otherwise|\n",
    "|AcceptedCmp3| 1 if customer accepted the offer in the 3rd campaign, 0 otherwise|\n",
    "|AcceptedCmp4| 1 if customer accepted the offer in the 4th campaign, 0 otherwise|\n",
    "|AcceptedCmp5| 1 if customer accepted the offer in the 5th campaign, 0 otherwise|\n",
    "|Response (target)| 1 if customer accepted the offer in the last campaign, 0 otherwise|\n",
    "|Complain| 1 if customer complained in the last 2 years|\n",
    "|DtCustomer| date of customer's enrollment with the company|\n",
    "|Education| customer's level of education|\n",
    "|Marital| customer's marital status|\n",
    "|Kidhome| number of small children in customer's household|\n",
    "|Teenhome |number of teenagers in customer's household|\n",
    "|Income| customer's yearly household income|\n",
    "|MntFishProducts| amount spent on fish products in the last 2 years|\n",
    "|MntMeatProducts| amount spent on meat products in the last 2 years|\n",
    "|MntFruits| amount spent on fruits products in the last 2 years|\n",
    "|MntSweetProducts| amount spent on sweet products in the last 2 years|\n",
    "|MntWines| amount spent on wines products in the last 2 years|\n",
    "|MntGoldProds| amount spent on gold products in the last 2 years|\n",
    "|NumDealsPurchases| number of purchases made with discount|\n",
    "|NunCatalogPurchases| number of purchases made using catalog|\n",
    "|NunStorePurchases| number of purchases made directly in stores|\n",
    "|NumWebPurchases| number of purchases made through company's web site|\n",
    "|NumWebVisitsMonth| number of visits to company's web site in the last month|\n",
    "|Recency|number of days since the last purchase|\n",
    "|Z_Revenue|revenue from the new gadget|\n",
    "|Z_CostContact|cost of contact for the sixth campaign|"
   ]
  },
  {
   "cell_type": "code",
   "execution_count": 30,
   "metadata": {},
   "outputs": [],
   "source": [
    "import numpy as np\n",
    "import pandas as pd\n",
    "import json\n",
    "from pathlib import Path\n",
    "from datetime import datetime\n",
    "from scipy import stats\n",
    "from scipy.stats import kstest\n",
    "\n",
    "import psutil\n",
    "import warnings\n",
    "from sinfo import sinfo\n",
    "warnings.filterwarnings(\"ignore\")"
   ]
  },
  {
   "cell_type": "markdown",
   "metadata": {},
   "source": [
    "## Data Exploration"
   ]
  },
  {
   "cell_type": "code",
   "execution_count": 2,
   "metadata": {},
   "outputs": [
    {
     "data": {
      "text/html": [
       "<div>\n",
       "<style scoped>\n",
       "    .dataframe tbody tr th:only-of-type {\n",
       "        vertical-align: middle;\n",
       "    }\n",
       "\n",
       "    .dataframe tbody tr th {\n",
       "        vertical-align: top;\n",
       "    }\n",
       "\n",
       "    .dataframe thead th {\n",
       "        text-align: right;\n",
       "    }\n",
       "</style>\n",
       "<table border=\"1\" class=\"dataframe\">\n",
       "  <thead>\n",
       "    <tr style=\"text-align: right;\">\n",
       "      <th></th>\n",
       "      <th>ID</th>\n",
       "      <th>Year_Birth</th>\n",
       "      <th>Education</th>\n",
       "      <th>Marital_Status</th>\n",
       "      <th>Income</th>\n",
       "      <th>Kidhome</th>\n",
       "      <th>Teenhome</th>\n",
       "      <th>Dt_Customer</th>\n",
       "      <th>Recency</th>\n",
       "      <th>MntWines</th>\n",
       "      <th>...</th>\n",
       "      <th>NumWebVisitsMonth</th>\n",
       "      <th>AcceptedCmp3</th>\n",
       "      <th>AcceptedCmp4</th>\n",
       "      <th>AcceptedCmp5</th>\n",
       "      <th>AcceptedCmp1</th>\n",
       "      <th>AcceptedCmp2</th>\n",
       "      <th>Complain</th>\n",
       "      <th>Z_CostContact</th>\n",
       "      <th>Z_Revenue</th>\n",
       "      <th>Response</th>\n",
       "    </tr>\n",
       "  </thead>\n",
       "  <tbody>\n",
       "    <tr>\n",
       "      <th>1954</th>\n",
       "      <td>5626</td>\n",
       "      <td>1964</td>\n",
       "      <td>PhD</td>\n",
       "      <td>Single</td>\n",
       "      <td>61798.0</td>\n",
       "      <td>0</td>\n",
       "      <td>0</td>\n",
       "      <td>2013-11-23</td>\n",
       "      <td>13</td>\n",
       "      <td>338</td>\n",
       "      <td>...</td>\n",
       "      <td>4</td>\n",
       "      <td>0</td>\n",
       "      <td>0</td>\n",
       "      <td>0</td>\n",
       "      <td>0</td>\n",
       "      <td>0</td>\n",
       "      <td>0</td>\n",
       "      <td>3</td>\n",
       "      <td>11</td>\n",
       "      <td>0</td>\n",
       "    </tr>\n",
       "    <tr>\n",
       "      <th>2095</th>\n",
       "      <td>11031</td>\n",
       "      <td>1950</td>\n",
       "      <td>PhD</td>\n",
       "      <td>Married</td>\n",
       "      <td>48699.0</td>\n",
       "      <td>1</td>\n",
       "      <td>1</td>\n",
       "      <td>2013-05-21</td>\n",
       "      <td>90</td>\n",
       "      <td>26</td>\n",
       "      <td>...</td>\n",
       "      <td>5</td>\n",
       "      <td>0</td>\n",
       "      <td>0</td>\n",
       "      <td>0</td>\n",
       "      <td>0</td>\n",
       "      <td>0</td>\n",
       "      <td>0</td>\n",
       "      <td>3</td>\n",
       "      <td>11</td>\n",
       "      <td>0</td>\n",
       "    </tr>\n",
       "    <tr>\n",
       "      <th>947</th>\n",
       "      <td>8405</td>\n",
       "      <td>1979</td>\n",
       "      <td>Graduation</td>\n",
       "      <td>Divorced</td>\n",
       "      <td>68274.0</td>\n",
       "      <td>1</td>\n",
       "      <td>1</td>\n",
       "      <td>2013-09-30</td>\n",
       "      <td>83</td>\n",
       "      <td>135</td>\n",
       "      <td>...</td>\n",
       "      <td>3</td>\n",
       "      <td>0</td>\n",
       "      <td>0</td>\n",
       "      <td>0</td>\n",
       "      <td>0</td>\n",
       "      <td>0</td>\n",
       "      <td>0</td>\n",
       "      <td>3</td>\n",
       "      <td>11</td>\n",
       "      <td>0</td>\n",
       "    </tr>\n",
       "    <tr>\n",
       "      <th>403</th>\n",
       "      <td>615</td>\n",
       "      <td>1960</td>\n",
       "      <td>Graduation</td>\n",
       "      <td>Together</td>\n",
       "      <td>30507.0</td>\n",
       "      <td>0</td>\n",
       "      <td>0</td>\n",
       "      <td>2013-03-11</td>\n",
       "      <td>29</td>\n",
       "      <td>65</td>\n",
       "      <td>...</td>\n",
       "      <td>7</td>\n",
       "      <td>0</td>\n",
       "      <td>0</td>\n",
       "      <td>0</td>\n",
       "      <td>0</td>\n",
       "      <td>0</td>\n",
       "      <td>0</td>\n",
       "      <td>3</td>\n",
       "      <td>11</td>\n",
       "      <td>0</td>\n",
       "    </tr>\n",
       "    <tr>\n",
       "      <th>1851</th>\n",
       "      <td>11148</td>\n",
       "      <td>1975</td>\n",
       "      <td>Graduation</td>\n",
       "      <td>Together</td>\n",
       "      <td>22280.0</td>\n",
       "      <td>1</td>\n",
       "      <td>0</td>\n",
       "      <td>2013-05-19</td>\n",
       "      <td>85</td>\n",
       "      <td>2</td>\n",
       "      <td>...</td>\n",
       "      <td>8</td>\n",
       "      <td>0</td>\n",
       "      <td>0</td>\n",
       "      <td>0</td>\n",
       "      <td>0</td>\n",
       "      <td>0</td>\n",
       "      <td>0</td>\n",
       "      <td>3</td>\n",
       "      <td>11</td>\n",
       "      <td>0</td>\n",
       "    </tr>\n",
       "    <tr>\n",
       "      <th>2207</th>\n",
       "      <td>4333</td>\n",
       "      <td>1954</td>\n",
       "      <td>Graduation</td>\n",
       "      <td>Together</td>\n",
       "      <td>32144.0</td>\n",
       "      <td>1</td>\n",
       "      <td>1</td>\n",
       "      <td>2014-03-23</td>\n",
       "      <td>76</td>\n",
       "      <td>41</td>\n",
       "      <td>...</td>\n",
       "      <td>7</td>\n",
       "      <td>0</td>\n",
       "      <td>1</td>\n",
       "      <td>0</td>\n",
       "      <td>0</td>\n",
       "      <td>0</td>\n",
       "      <td>0</td>\n",
       "      <td>3</td>\n",
       "      <td>11</td>\n",
       "      <td>0</td>\n",
       "    </tr>\n",
       "    <tr>\n",
       "      <th>203</th>\n",
       "      <td>2798</td>\n",
       "      <td>1977</td>\n",
       "      <td>PhD</td>\n",
       "      <td>Together</td>\n",
       "      <td>102160.0</td>\n",
       "      <td>0</td>\n",
       "      <td>0</td>\n",
       "      <td>2012-11-02</td>\n",
       "      <td>54</td>\n",
       "      <td>763</td>\n",
       "      <td>...</td>\n",
       "      <td>4</td>\n",
       "      <td>0</td>\n",
       "      <td>1</td>\n",
       "      <td>1</td>\n",
       "      <td>1</td>\n",
       "      <td>0</td>\n",
       "      <td>0</td>\n",
       "      <td>3</td>\n",
       "      <td>11</td>\n",
       "      <td>1</td>\n",
       "    </tr>\n",
       "    <tr>\n",
       "      <th>407</th>\n",
       "      <td>8890</td>\n",
       "      <td>1971</td>\n",
       "      <td>PhD</td>\n",
       "      <td>Divorced</td>\n",
       "      <td>65808.0</td>\n",
       "      <td>1</td>\n",
       "      <td>1</td>\n",
       "      <td>2014-05-30</td>\n",
       "      <td>1</td>\n",
       "      <td>155</td>\n",
       "      <td>...</td>\n",
       "      <td>6</td>\n",
       "      <td>0</td>\n",
       "      <td>0</td>\n",
       "      <td>0</td>\n",
       "      <td>0</td>\n",
       "      <td>0</td>\n",
       "      <td>0</td>\n",
       "      <td>3</td>\n",
       "      <td>11</td>\n",
       "      <td>0</td>\n",
       "    </tr>\n",
       "  </tbody>\n",
       "</table>\n",
       "<p>8 rows × 29 columns</p>\n",
       "</div>"
      ],
      "text/plain": [
       "         ID  Year_Birth   Education Marital_Status    Income  Kidhome  \\\n",
       "1954   5626        1964         PhD         Single   61798.0        0   \n",
       "2095  11031        1950         PhD        Married   48699.0        1   \n",
       "947    8405        1979  Graduation       Divorced   68274.0        1   \n",
       "403     615        1960  Graduation       Together   30507.0        0   \n",
       "1851  11148        1975  Graduation       Together   22280.0        1   \n",
       "2207   4333        1954  Graduation       Together   32144.0        1   \n",
       "203    2798        1977         PhD       Together  102160.0        0   \n",
       "407    8890        1971         PhD       Divorced   65808.0        1   \n",
       "\n",
       "      Teenhome Dt_Customer  Recency  MntWines  ...  NumWebVisitsMonth  \\\n",
       "1954         0  2013-11-23       13       338  ...                  4   \n",
       "2095         1  2013-05-21       90        26  ...                  5   \n",
       "947          1  2013-09-30       83       135  ...                  3   \n",
       "403          0  2013-03-11       29        65  ...                  7   \n",
       "1851         0  2013-05-19       85         2  ...                  8   \n",
       "2207         1  2014-03-23       76        41  ...                  7   \n",
       "203          0  2012-11-02       54       763  ...                  4   \n",
       "407          1  2014-05-30        1       155  ...                  6   \n",
       "\n",
       "      AcceptedCmp3  AcceptedCmp4  AcceptedCmp5  AcceptedCmp1  AcceptedCmp2  \\\n",
       "1954             0             0             0             0             0   \n",
       "2095             0             0             0             0             0   \n",
       "947              0             0             0             0             0   \n",
       "403              0             0             0             0             0   \n",
       "1851             0             0             0             0             0   \n",
       "2207             0             1             0             0             0   \n",
       "203              0             1             1             1             0   \n",
       "407              0             0             0             0             0   \n",
       "\n",
       "      Complain  Z_CostContact  Z_Revenue  Response  \n",
       "1954         0              3         11         0  \n",
       "2095         0              3         11         0  \n",
       "947          0              3         11         0  \n",
       "403          0              3         11         0  \n",
       "1851         0              3         11         0  \n",
       "2207         0              3         11         0  \n",
       "203          0              3         11         1  \n",
       "407          0              3         11         0  \n",
       "\n",
       "[8 rows x 29 columns]"
      ]
     },
     "execution_count": 2,
     "metadata": {},
     "output_type": "execute_result"
    }
   ],
   "source": [
    "# Storing path\n",
    "path = Path(\"../data/ifood_customers.csv\")\n",
    "\n",
    "# Read CSV with pandas\n",
    "data = pd.read_csv(path)\n",
    "\n",
    "# showing a sample of the dataset\n",
    "data.sample(8)"
   ]
  },
  {
   "cell_type": "code",
   "execution_count": 3,
   "metadata": {},
   "outputs": [
    {
     "name": "stdout",
     "output_type": "stream",
     "text": [
      "<class 'pandas.core.frame.DataFrame'>\n",
      "RangeIndex: 2240 entries, 0 to 2239\n",
      "Data columns (total 29 columns):\n",
      " #   Column               Non-Null Count  Dtype  \n",
      "---  ------               --------------  -----  \n",
      " 0   ID                   2240 non-null   int64  \n",
      " 1   Year_Birth           2240 non-null   int64  \n",
      " 2   Education            2240 non-null   object \n",
      " 3   Marital_Status       2240 non-null   object \n",
      " 4   Income               2216 non-null   float64\n",
      " 5   Kidhome              2240 non-null   int64  \n",
      " 6   Teenhome             2240 non-null   int64  \n",
      " 7   Dt_Customer          2240 non-null   object \n",
      " 8   Recency              2240 non-null   int64  \n",
      " 9   MntWines             2240 non-null   int64  \n",
      " 10  MntFruits            2240 non-null   int64  \n",
      " 11  MntMeatProducts      2240 non-null   int64  \n",
      " 12  MntFishProducts      2240 non-null   int64  \n",
      " 13  MntSweetProducts     2240 non-null   int64  \n",
      " 14  MntGoldProds         2240 non-null   int64  \n",
      " 15  NumDealsPurchases    2240 non-null   int64  \n",
      " 16  NumWebPurchases      2240 non-null   int64  \n",
      " 17  NumCatalogPurchases  2240 non-null   int64  \n",
      " 18  NumStorePurchases    2240 non-null   int64  \n",
      " 19  NumWebVisitsMonth    2240 non-null   int64  \n",
      " 20  AcceptedCmp3         2240 non-null   int64  \n",
      " 21  AcceptedCmp4         2240 non-null   int64  \n",
      " 22  AcceptedCmp5         2240 non-null   int64  \n",
      " 23  AcceptedCmp1         2240 non-null   int64  \n",
      " 24  AcceptedCmp2         2240 non-null   int64  \n",
      " 25  Complain             2240 non-null   int64  \n",
      " 26  Z_CostContact        2240 non-null   int64  \n",
      " 27  Z_Revenue            2240 non-null   int64  \n",
      " 28  Response             2240 non-null   int64  \n",
      "dtypes: float64(1), int64(25), object(3)\n",
      "memory usage: 507.6+ KB\n"
     ]
    }
   ],
   "source": [
    "# Exploring the columns and dtype\n",
    "\n",
    "data.info()"
   ]
  },
  {
   "cell_type": "code",
   "execution_count": 4,
   "metadata": {},
   "outputs": [
    {
     "name": "stdout",
     "output_type": "stream",
     "text": [
      "\n",
      "'Education' Column Values:\n",
      "\t['Graduation' 'PhD' 'Master' 'Basic' '2n Cycle']\n",
      "\n",
      "'Marital_Status' Column Values:\n",
      "\t['Single' 'Together' 'Married' 'Divorced' 'Widow' 'Alone' 'Absurd' 'YOLO']\n",
      "\n",
      "'Dt_Customer' Column sample:\n",
      "1787    2013-12-09\n",
      "725     2014-06-08\n",
      "829     2014-03-01\n",
      "Name: Dt_Customer, dtype: object\n",
      "\t\n"
     ]
    }
   ],
   "source": [
    "# Exploring unique values in some columns\n",
    "\n",
    "print(\"\\n'Education' Column Values:\\n\", \"\\t\",\n",
    "      data[\"Education\"].unique(),\n",
    "      sep=''\n",
    "      )\n",
    "\n",
    "print(\"\\n'Marital_Status' Column Values:\\n\", \"\\t\",\n",
    "      data[\"Marital_Status\"].unique(),\n",
    "      sep=''\n",
    "      )\n",
    "\n",
    "print(\"\\n'Dt_Customer' Column sample:\\n\",\n",
    "      data[\"Dt_Customer\"].sample(3), \"\\n\", \"\\t\",\n",
    "      sep=''\n",
    "      )\n"
   ]
  },
  {
   "cell_type": "markdown",
   "metadata": {},
   "source": [
    "## Creating columns"
   ]
  },
  {
   "cell_type": "code",
   "execution_count": 5,
   "metadata": {},
   "outputs": [
    {
     "name": "stdout",
     "output_type": "stream",
     "text": [
      "<class 'pandas.core.frame.DataFrame'>\n",
      "RangeIndex: 2240 entries, 0 to 2239\n",
      "Data columns (total 29 columns):\n",
      " #   Column               Non-Null Count  Dtype         \n",
      "---  ------               --------------  -----         \n",
      " 0   ID                   2240 non-null   int64         \n",
      " 1   Year_Birth           2240 non-null   int64         \n",
      " 2   Education            2240 non-null   category      \n",
      " 3   Marital_Status       2240 non-null   category      \n",
      " 4   Income               2216 non-null   Int64         \n",
      " 5   Kidhome              2240 non-null   int64         \n",
      " 6   Teenhome             2240 non-null   int64         \n",
      " 7   Dt_Customer          2240 non-null   datetime64[ns]\n",
      " 8   Recency              2240 non-null   int64         \n",
      " 9   MntWines             2240 non-null   int64         \n",
      " 10  MntFruits            2240 non-null   int64         \n",
      " 11  MntMeatProducts      2240 non-null   int64         \n",
      " 12  MntFishProducts      2240 non-null   int64         \n",
      " 13  MntSweetProducts     2240 non-null   int64         \n",
      " 14  MntGoldProds         2240 non-null   int64         \n",
      " 15  NumDealsPurchases    2240 non-null   int64         \n",
      " 16  NumWebPurchases      2240 non-null   int64         \n",
      " 17  NumCatalogPurchases  2240 non-null   int64         \n",
      " 18  NumStorePurchases    2240 non-null   int64         \n",
      " 19  NumWebVisitsMonth    2240 non-null   int64         \n",
      " 20  AcceptedCmp3         2240 non-null   int64         \n",
      " 21  AcceptedCmp4         2240 non-null   int64         \n",
      " 22  AcceptedCmp5         2240 non-null   int64         \n",
      " 23  AcceptedCmp1         2240 non-null   int64         \n",
      " 24  AcceptedCmp2         2240 non-null   int64         \n",
      " 25  Complain             2240 non-null   int64         \n",
      " 26  Z_CostContact        2240 non-null   int64         \n",
      " 27  Z_Revenue            2240 non-null   int64         \n",
      " 28  Response             2240 non-null   int64         \n",
      "dtypes: Int64(1), category(2), datetime64[ns](1), int64(25)\n",
      "memory usage: 479.8 KB\n"
     ]
    }
   ],
   "source": [
    "# Stabilizing dtype 'category' to Education and Marital_Status columns\n",
    "# Also Dt_Customer to Datetime dtype and Income to 'Int64'\n",
    "\n",
    "data[\"Income\"] = data[\"Income\"].astype(\"Int64\")\n",
    "data[\"Education\"] = data[\"Education\"].astype(\"category\")\n",
    "data[\"Marital_Status\"] = data[\"Marital_Status\"].astype(\"category\")\n",
    "data[\"Dt_Customer\"] = pd.to_datetime(data[\"Dt_Customer\"], format=\"%Y-%m-%d\")\n",
    "\n",
    "data.info()\n"
   ]
  },
  {
   "cell_type": "code",
   "execution_count": 6,
   "metadata": {},
   "outputs": [
    {
     "data": {
      "text/html": [
       "<div>\n",
       "<style scoped>\n",
       "    .dataframe tbody tr th:only-of-type {\n",
       "        vertical-align: middle;\n",
       "    }\n",
       "\n",
       "    .dataframe tbody tr th {\n",
       "        vertical-align: top;\n",
       "    }\n",
       "\n",
       "    .dataframe thead th {\n",
       "        text-align: right;\n",
       "    }\n",
       "</style>\n",
       "<table border=\"1\" class=\"dataframe\">\n",
       "  <thead>\n",
       "    <tr style=\"text-align: right;\">\n",
       "      <th></th>\n",
       "      <th>Year_Old</th>\n",
       "      <th>CustomerFor</th>\n",
       "    </tr>\n",
       "  </thead>\n",
       "  <tbody>\n",
       "    <tr>\n",
       "      <th>134</th>\n",
       "      <td>60</td>\n",
       "      <td>3988 days</td>\n",
       "    </tr>\n",
       "    <tr>\n",
       "      <th>1012</th>\n",
       "      <td>46</td>\n",
       "      <td>4148 days</td>\n",
       "    </tr>\n",
       "    <tr>\n",
       "      <th>1141</th>\n",
       "      <td>35</td>\n",
       "      <td>4183 days</td>\n",
       "    </tr>\n",
       "    <tr>\n",
       "      <th>928</th>\n",
       "      <td>31</td>\n",
       "      <td>3725 days</td>\n",
       "    </tr>\n",
       "    <tr>\n",
       "      <th>910</th>\n",
       "      <td>58</td>\n",
       "      <td>4034 days</td>\n",
       "    </tr>\n",
       "  </tbody>\n",
       "</table>\n",
       "</div>"
      ],
      "text/plain": [
       "      Year_Old CustomerFor\n",
       "134         60   3988 days\n",
       "1012        46   4148 days\n",
       "1141        35   4183 days\n",
       "928         31   3725 days\n",
       "910         58   4034 days"
      ]
     },
     "execution_count": 6,
     "metadata": {},
     "output_type": "execute_result"
    }
   ],
   "source": [
    "# Creating new columns: customer year old and days since becoming customer\n",
    "\n",
    "today = pd.to_datetime(datetime.today().strftime('%Y-%m-%d'))\n",
    "\n",
    "data[\"Year_Old\"] = (today.year - data[\"Year_Birth\"])\n",
    "data[\"CustomerFor\"] = (today - data[\"Dt_Customer\"])\n",
    "\n",
    "data[[\"Year_Old\", \"CustomerFor\"]].sample(5)"
   ]
  },
  {
   "cell_type": "code",
   "execution_count": 7,
   "metadata": {},
   "outputs": [
    {
     "name": "stdout",
     "output_type": "stream",
     "text": [
      "<class 'pandas.core.frame.DataFrame'>\n",
      "RangeIndex: 2240 entries, 0 to 2239\n",
      "Data columns (total 31 columns):\n",
      " #   Column               Non-Null Count  Dtype          \n",
      "---  ------               --------------  -----          \n",
      " 0   ID                   2240 non-null   int64          \n",
      " 1   Year_Birth           2240 non-null   int64          \n",
      " 2   Year_Old             2240 non-null   int64          \n",
      " 3   CustomerFor          2240 non-null   timedelta64[ns]\n",
      " 4   Dt_Customer          2240 non-null   datetime64[ns] \n",
      " 5   Education            2240 non-null   category       \n",
      " 6   Marital_Status       2240 non-null   category       \n",
      " 7   Income               2216 non-null   Int64          \n",
      " 8   Kidhome              2240 non-null   int64          \n",
      " 9   Teenhome             2240 non-null   int64          \n",
      " 10  Recency              2240 non-null   int64          \n",
      " 11  MntWines             2240 non-null   int64          \n",
      " 12  MntFruits            2240 non-null   int64          \n",
      " 13  MntMeatProducts      2240 non-null   int64          \n",
      " 14  MntFishProducts      2240 non-null   int64          \n",
      " 15  MntSweetProducts     2240 non-null   int64          \n",
      " 16  MntGoldProds         2240 non-null   int64          \n",
      " 17  NumDealsPurchases    2240 non-null   int64          \n",
      " 18  NumWebPurchases      2240 non-null   int64          \n",
      " 19  NumCatalogPurchases  2240 non-null   int64          \n",
      " 20  NumStorePurchases    2240 non-null   int64          \n",
      " 21  NumWebVisitsMonth    2240 non-null   int64          \n",
      " 22  AcceptedCmp3         2240 non-null   int64          \n",
      " 23  AcceptedCmp4         2240 non-null   int64          \n",
      " 24  AcceptedCmp5         2240 non-null   int64          \n",
      " 25  AcceptedCmp1         2240 non-null   int64          \n",
      " 26  AcceptedCmp2         2240 non-null   int64          \n",
      " 27  Complain             2240 non-null   int64          \n",
      " 28  Z_CostContact        2240 non-null   int64          \n",
      " 29  Z_Revenue            2240 non-null   int64          \n",
      " 30  Response             2240 non-null   int64          \n",
      "dtypes: Int64(1), category(2), datetime64[ns](1), int64(26), timedelta64[ns](1)\n",
      "memory usage: 514.8 KB\n"
     ]
    }
   ],
   "source": [
    "# Reordering columns\n",
    "\n",
    "pop_column = data.pop(\"Dt_Customer\")\n",
    "data.insert(2, \"Dt_Customer\", pop_column)\n",
    "\n",
    "last_columns = data.columns[-2:]\n",
    "first_columns = data.columns[:2]\n",
    "middle_columns = data.columns[2:-2]\n",
    "new_order = list(first_columns) + list(last_columns) + list(middle_columns)\n",
    "\n",
    "data = data[new_order]\n",
    "\n",
    "data.info()"
   ]
  },
  {
   "cell_type": "code",
   "execution_count": 8,
   "metadata": {},
   "outputs": [
    {
     "name": "stdout",
     "output_type": "stream",
     "text": [
      "631     0\n",
      "1837    0\n",
      "1200    1\n",
      "1317    0\n",
      "1081    1\n",
      "Name: PurchaseLastMonth, dtype: int64\n"
     ]
    }
   ],
   "source": [
    "# Checking if the customer bought in the last month\n",
    "\n",
    "data[\"PurchaseLastMonth\"] = (data[\"Recency\"] < 30)\n",
    "data[\"PurchaseLastMonth\"] = data[\"PurchaseLastMonth\"].replace({True:1, \n",
    "                                                               False:0})\n",
    "\n",
    "print(data[\"PurchaseLastMonth\"].sample(5))"
   ]
  },
  {
   "cell_type": "code",
   "execution_count": 9,
   "metadata": {},
   "outputs": [
    {
     "name": "stdout",
     "output_type": "stream",
     "text": [
      "856     41\n",
      "1732    55\n",
      "725     65\n",
      "613     37\n",
      "773     81\n",
      "Name: MntSpentTotal, dtype: int64\n"
     ]
    }
   ],
   "source": [
    "# Calculating total amount spent per customer\n",
    "\n",
    "MntSpentTotal_sum = [\"MntFishProducts\", \"MntFruits\", \"MntGoldProds\", \n",
    "                     \"MntMeatProducts\", \"MntSweetProducts\", \"MntWines\"]\n",
    "data[\"MntSpentTotal\"] = data[MntSpentTotal_sum].sum(axis=1)\n",
    "\n",
    "print(data[\"MntSpentTotal\"].sample(5))"
   ]
  },
  {
   "cell_type": "code",
   "execution_count": 10,
   "metadata": {},
   "outputs": [
    {
     "data": {
      "text/plain": [
       "152     0\n",
       "1288    3\n",
       "939     0\n",
       "1817    0\n",
       "1831    0\n",
       "Name: AcceptedCmpTotal, dtype: int64"
      ]
     },
     "execution_count": 10,
     "metadata": {},
     "output_type": "execute_result"
    }
   ],
   "source": [
    "# How many campaigns the customer accepted\n",
    "\n",
    "AcceptedCmpTotal_sum = [\"AcceptedCmp1\", \"AcceptedCmp2\", \"AcceptedCmp3\", \n",
    "                        \"AcceptedCmp4\", \"AcceptedCmp5\"]\n",
    "data[\"AcceptedCmpTotal\"] = data[AcceptedCmpTotal_sum].sum(axis=1)\n",
    "\n",
    "data[\"AcceptedCmpTotal\"].sample(5)"
   ]
  },
  {
   "cell_type": "code",
   "execution_count": 11,
   "metadata": {},
   "outputs": [
    {
     "data": {
      "text/plain": [
       "1862    1\n",
       "1684    1\n",
       "1050    0\n",
       "2085    1\n",
       "2078    2\n",
       "Name: ChildrenHome, dtype: int64"
      ]
     },
     "execution_count": 11,
     "metadata": {},
     "output_type": "execute_result"
    }
   ],
   "source": [
    "# How many children (Kids and teenagers) the customer has at home\n",
    "\n",
    "ChildrenHome_sum = [\"Kidhome\", \"Teenhome\"]\n",
    "data[\"ChildrenHome\"] = data[ChildrenHome_sum].sum(axis=\"columns\")\n",
    "\n",
    "data[\"ChildrenHome\"].sample(5)"
   ]
  },
  {
   "cell_type": "markdown",
   "metadata": {},
   "source": [
    "### Columns reordered"
   ]
  },
  {
   "cell_type": "code",
   "execution_count": 12,
   "metadata": {},
   "outputs": [
    {
     "name": "stdout",
     "output_type": "stream",
     "text": [
      "<class 'pandas.core.frame.DataFrame'>\n",
      "RangeIndex: 2240 entries, 0 to 2239\n",
      "Data columns (total 35 columns):\n",
      " #   Column               Non-Null Count  Dtype          \n",
      "---  ------               --------------  -----          \n",
      " 0   ID                   2240 non-null   int64          \n",
      " 1   Year_Birth           2240 non-null   int64          \n",
      " 2   Year_Old             2240 non-null   int64          \n",
      " 3   CustomerFor          2240 non-null   timedelta64[ns]\n",
      " 4   Dt_Customer          2240 non-null   datetime64[ns] \n",
      " 5   Education            2240 non-null   category       \n",
      " 6   Marital_Status       2240 non-null   category       \n",
      " 7   Income               2216 non-null   Int64          \n",
      " 8   Kidhome              2240 non-null   int64          \n",
      " 9   Teenhome             2240 non-null   int64          \n",
      " 10  ChildrenHome         2240 non-null   int64          \n",
      " 11  Recency              2240 non-null   int64          \n",
      " 12  MntSpentTotal        2240 non-null   int64          \n",
      " 13  MntWines             2240 non-null   int64          \n",
      " 14  MntFruits            2240 non-null   int64          \n",
      " 15  MntMeatProducts      2240 non-null   int64          \n",
      " 16  MntFishProducts      2240 non-null   int64          \n",
      " 17  MntSweetProducts     2240 non-null   int64          \n",
      " 18  MntGoldProds         2240 non-null   int64          \n",
      " 19  PurchaseLastMonth    2240 non-null   int64          \n",
      " 20  NumDealsPurchases    2240 non-null   int64          \n",
      " 21  NumWebPurchases      2240 non-null   int64          \n",
      " 22  NumCatalogPurchases  2240 non-null   int64          \n",
      " 23  NumStorePurchases    2240 non-null   int64          \n",
      " 24  NumWebVisitsMonth    2240 non-null   int64          \n",
      " 25  AcceptedCmp1         2240 non-null   int64          \n",
      " 26  AcceptedCmp2         2240 non-null   int64          \n",
      " 27  AcceptedCmp3         2240 non-null   int64          \n",
      " 28  AcceptedCmp4         2240 non-null   int64          \n",
      " 29  AcceptedCmp5         2240 non-null   int64          \n",
      " 30  Response             2240 non-null   int64          \n",
      " 31  AcceptedCmpTotal     2240 non-null   int64          \n",
      " 32  Complain             2240 non-null   int64          \n",
      " 33  Z_CostContact        2240 non-null   int64          \n",
      " 34  Z_Revenue            2240 non-null   int64          \n",
      "dtypes: Int64(1), category(2), datetime64[ns](1), int64(30), timedelta64[ns](1)\n",
      "memory usage: 584.8 KB\n"
     ]
    }
   ],
   "source": [
    "# Reordering columns\n",
    "\n",
    "pop_column = data.pop(\"AcceptedCmpTotal\")\n",
    "data.insert(27, \"AcceptedCmpTotal\", pop_column)\n",
    "\n",
    "pop_column = data.pop(\"PurchaseLastMonth\")\n",
    "data.insert(17, \"PurchaseLastMonth\", pop_column)\n",
    "\n",
    "pop_column = data.pop(\"MntSpentTotal\")\n",
    "data.insert(11, \"MntSpentTotal\", pop_column)\n",
    "\n",
    "pop_column = data.pop(\"ChildrenHome\")\n",
    "data.insert(10, \"ChildrenHome\", pop_column)\n",
    "\n",
    "pop_column = data.pop(\"AcceptedCmp2\")\n",
    "data.insert(25, \"AcceptedCmp2\", pop_column)\n",
    "\n",
    "pop_column = data.pop(\"AcceptedCmp1\")\n",
    "data.insert(25, \"AcceptedCmp1\", pop_column)\n",
    "\n",
    "pop_column = data.pop(\"Response\")\n",
    "data.insert(30, \"Response\", pop_column)\n",
    "\n",
    "data.info()"
   ]
  },
  {
   "cell_type": "markdown",
   "metadata": {},
   "source": [
    "## Data Cleaning"
   ]
  },
  {
   "cell_type": "code",
   "execution_count": 13,
   "metadata": {},
   "outputs": [
    {
     "name": "stdout",
     "output_type": "stream",
     "text": [
      "Customers with missing values:  24\n"
     ]
    }
   ],
   "source": [
    "# Missing Values\n",
    "\n",
    "row_nan = data[data.isna().any(axis=1)]\n",
    "print(\"Customers with missing values: \", len(row_nan))\n",
    "\n",
    "data.drop(row_nan.index, inplace=True)"
   ]
  },
  {
   "cell_type": "code",
   "execution_count": 14,
   "metadata": {},
   "outputs": [
    {
     "name": "stdout",
     "output_type": "stream",
     "text": [
      "Customers with a logically incoherent Marital Status:  7\n"
     ]
    }
   ],
   "source": [
    "# Identifying logically incoherent customers and dropping from the dataframe\n",
    "\n",
    "marital_filt = data[data[\"Marital_Status\"].isin(['Alone', 'Absurd', 'YOLO'])]\n",
    "print(\"Customers with a logically incoherent Marital Status: \", \n",
    "      len(marital_filt))\n",
    "\n",
    "data.drop(marital_filt.index, inplace=True)"
   ]
  },
  {
   "cell_type": "markdown",
   "metadata": {},
   "source": [
    "### Kolmogorov-Smirnov test"
   ]
  },
  {
   "cell_type": "code",
   "execution_count": 15,
   "metadata": {},
   "outputs": [
    {
     "name": "stdout",
     "output_type": "stream",
     "text": [
      "Test statistic: 0.0590\n",
      "p Value: 0.0000\n"
     ]
    }
   ],
   "source": [
    "# KS-Test on 'Year_Old' column\n",
    "ks_result = kstest(data[\"Year_Old\"], stats.norm.cdf, \n",
    "                   args=(data[\"Year_Old\"].mean(), data[\"Year_Old\"].std()))\n",
    "\n",
    "print(f\"Test statistic: {ks_result.statistic:.4f}\")\n",
    "print(f\"p Value: {ks_result.pvalue:.4f}\")"
   ]
  },
  {
   "cell_type": "code",
   "execution_count": 16,
   "metadata": {},
   "outputs": [
    {
     "name": "stdout",
     "output_type": "stream",
     "text": [
      "Test statistic: 0.0542\n",
      "p Value: 0.0000\n"
     ]
    }
   ],
   "source": [
    "# KS-Test on 'Year_Old' column\n",
    "ks_result = kstest(data[\"Income\"], stats.norm.cdf, \n",
    "                   args=(data[\"Income\"].mean(), data[\"Income\"].std()))\n",
    "\n",
    "print(f\"Test statistic: {ks_result.statistic:.4f}\")\n",
    "print(f\"p Value: {ks_result.pvalue:.4f}\")"
   ]
  },
  {
   "cell_type": "markdown",
   "metadata": {},
   "source": [
    "### Obtaining outliers"
   ]
  },
  {
   "cell_type": "code",
   "execution_count": 17,
   "metadata": {},
   "outputs": [
    {
     "name": "stdout",
     "output_type": "stream",
     "text": [
      "IQR:  18.0\n",
      "outliers: \n",
      "        ID  Year_Old  Income CustomerFor Marital_Status  MntSpentTotal\n",
      "192   7829       124   36640   3945 days       Divorced             65\n",
      "239  11004       131   60182   3712 days         Single             22\n",
      "339   1150       125   83532   3945 days       Together           1853\n"
     ]
    }
   ],
   "source": [
    "# Quartiles and IQR\n",
    "quartiles = data[\"Year_Old\"].quantile([0.25, 0.75])\n",
    "iqr = quartiles[0.75] - quartiles[0.25]\n",
    "\n",
    "# Identify Outliers\n",
    "lower_bound = quartiles[0.25] - 1.5 * iqr\n",
    "upper_bound = quartiles[0.75] + 1.5 * iqr\n",
    "\n",
    "# Filtering\n",
    "Year_Old_outliers = data[(data[\"Year_Old\"] < lower_bound) | \n",
    "                (data[\"Year_Old\"] > upper_bound)]\n",
    "\n",
    "print(\"IQR: \", iqr)\n",
    "print(\"outliers: \")\n",
    "print(Year_Old_outliers[[\"ID\", \"Year_Old\", \"Income\", \"CustomerFor\", \n",
    "                \"Marital_Status\", \"MntSpentTotal\"]])\n",
    "\n",
    "# Extracting Outliers from the Dataset\n",
    "data.drop(Year_Old_outliers.index, inplace=True)"
   ]
  },
  {
   "cell_type": "code",
   "execution_count": 18,
   "metadata": {},
   "outputs": [
    {
     "name": "stdout",
     "output_type": "stream",
     "text": [
      "IQR:  33383.5\n",
      "outliers: \n",
      "         ID  Year_Old  Income CustomerFor Marital_Status  MntSpentTotal\n",
      "2233   9432        47  666666   4061 days       Together             62\n",
      "617    1503        48  162397   4060 days       Together            107\n",
      "687    1501        42  160803   4363 days        Married           1717\n",
      "1300   5336        53  157733   4059 days       Together             59\n",
      "164    8475        51  157243   3789 days        Married           1608\n",
      "1653   4931        47  157146   4095 days       Together           1730\n",
      "2132  11181        75  156924   3973 days        Married              8\n",
      "655    5555        49  153924   3811 days       Divorced              6\n"
     ]
    }
   ],
   "source": [
    "# Quartiles and IQR\n",
    "quartiles = data[\"Income\"].quantile([0.25, 0.75])\n",
    "iqr = quartiles[0.75] - quartiles[0.25]\n",
    "\n",
    "# Identify Outliers\n",
    "lower_bound = quartiles[0.25] - 1.5 * iqr\n",
    "upper_bound = quartiles[0.75] + 1.5 * iqr\n",
    "\n",
    "# Filtering\n",
    "income_outliers = data[(data[\"Income\"] < lower_bound) | \n",
    "                (data[\"Income\"] > upper_bound)]\n",
    "\n",
    "print(\"IQR: \", iqr)\n",
    "print(\"outliers: \")\n",
    "print(income_outliers[[\"ID\", \"Year_Old\", \"Income\", \"CustomerFor\", \n",
    "                \"Marital_Status\", \"MntSpentTotal\"]]\\\n",
    "                    .sort_values(\"Income\", ascending=False))\n",
    "\n",
    "# Extracting logically incoherent Outlier from the Dataset\n",
    "income_excluded = data.drop(2233, inplace=True)"
   ]
  },
  {
   "cell_type": "code",
   "execution_count": 19,
   "metadata": {},
   "outputs": [
    {
     "name": "stdout",
     "output_type": "stream",
     "text": [
      "         ID  Year_Old  Income CustomerFor Marital_Status  MntSpentTotal\n",
      "153      92        36   34176   3717 days          Alone             89\n",
      "131     433        66   61331   4145 days          Alone            632\n",
      "2177    492        51   48432   4288 days           YOLO            424\n",
      "339    1150       125   83532   3945 days       Together           1853\n",
      "133    1295        61    <NA>   3991 days        Married            725\n",
      "2061   1612        43    <NA>   4063 days         Single             47\n",
      "10     1994        41    <NA>   3895 days        Married             19\n",
      "312    2437        35    <NA>   4060 days        Married           1611\n",
      "319    2863        54    <NA>   3979 days         Single           1052\n",
      "1382   2902        66    <NA>   4333 days       Together             45\n",
      "2081   3117        69    <NA>   3923 days         Single            450\n",
      "1386   3769        52    <NA>   3788 days       Together             42\n",
      "1383   4345        60    <NA>   3837 days         Single             21\n",
      "2134   4369        67   65487   3839 days         Absurd           1169\n",
      "2078   5079        53    <NA>   4152 days        Married             97\n",
      "2084   5250        81    <NA>   3911 days          Widow           1564\n",
      "27     5255        38    <NA>   4163 days         Single            637\n",
      "92     5798        51    <NA>   3887 days       Together            985\n",
      "2059   7187        55    <NA>   4076 days       Together            721\n",
      "48     7244        73    <NA>   3848 days         Single            124\n",
      "43     7281        65    <NA>   3905 days         Single            186\n",
      "138    7660        51   35860   3710 days          Alone             49\n",
      "2093   7734        31   79244   4226 days         Absurd           1216\n",
      "192    7829       124   36640   3945 days       Divorced             65\n",
      "128    8268        63    <NA>   4022 days        Married            404\n",
      "58     8557        42    <NA>   4046 days         Single             46\n",
      "2228   8720        46    <NA>   4355 days       Together           1679\n",
      "90     8996        67    <NA>   4256 days        Married            603\n",
      "91     9235        67    <NA>   3702 days         Single             18\n",
      "2079  10339        70    <NA>   4040 days       Together            207\n",
      "1379  10475        54    <NA>   4123 days       Together            317\n",
      "71    10629        51    <NA>   4322 days        Married            109\n",
      "239   11004       131   60182   3712 days         Single             22\n",
      "2202  11133        51   48432   4288 days           YOLO            424\n"
     ]
    }
   ],
   "source": [
    "# Storing excluded entries\n",
    "\n",
    "data_excluded = pd.concat([income_excluded, \n",
    "                          Year_Old_outliers, \n",
    "                          marital_filt, \n",
    "                          row_nan])\n",
    "\n",
    "print(data_excluded[[\"ID\", \"Year_Old\", \"Income\", \"CustomerFor\", \n",
    "                \"Marital_Status\", \"MntSpentTotal\"]]\\\n",
    "                    .sort_values(\"ID\"))"
   ]
  },
  {
   "cell_type": "markdown",
   "metadata": {},
   "source": [
    "## New Categorical columns"
   ]
  },
  {
   "cell_type": "code",
   "execution_count": 20,
   "metadata": {},
   "outputs": [
    {
     "name": "stdout",
     "output_type": "stream",
     "text": [
      "min     28.000000\n",
      "mean    55.101134\n",
      "max     84.000000\n",
      "Name: Year_Old, dtype: float64\n",
      "\n",
      "        ID  Year_Old   Age_cat  Income\n",
      "943   5386        71     65_74   94384\n",
      "1427  2836        52     45_54   43269\n",
      "461   7851        75  75_above   70165\n",
      "180   7698        48     45_54   51650\n",
      "1807  3130        60     55_64   18701\n"
     ]
    }
   ],
   "source": [
    "# Age binning categories\n",
    "\n",
    "print(data[\"Year_Old\"].describe()[[\"min\", \"mean\", \"max\"]])\n",
    "\n",
    "bins = [25, 35, 45, 55, 65, 75, 2000]\n",
    "labels = [\"25_34\", \"35_44\", \"45_54\", \"55_64\", \"65_74\", \"75_above\"]\n",
    "\n",
    "data[\"Age_cat\"] = pd.cut(data[\"Year_Old\"], bins, labels=labels, right=False)\n",
    "\n",
    "print(\"\\n\", data[[\"ID\", \"Year_Old\", \"Age_cat\", \"Income\"]].sample(5), sep='')"
   ]
  },
  {
   "cell_type": "code",
   "execution_count": 21,
   "metadata": {},
   "outputs": [
    {
     "name": "stdout",
     "output_type": "stream",
     "text": [
      "min          1730.0\n",
      "mean    51954.61542\n",
      "max        162397.0\n",
      "Name: Income, dtype: Float64\n"
     ]
    },
    {
     "name": "stdout",
     "output_type": "stream",
     "text": [
      "\n",
      "        ID   Age_cat  Income Income_cat\n",
      "193   1324     35_44   38872         D3\n",
      "1381  7514     65_74   54342         D4\n",
      "2108  5991  75_above   48150         D3\n",
      "774   4303     65_74    6835         D1\n",
      "803   9930  75_above   82716         D6\n"
     ]
    }
   ],
   "source": [
    "# Income binning categories\n",
    "\n",
    "print(data[\"Income\"].describe()[[\"min\", \"mean\", \"max\"]])\n",
    "\n",
    "labels = [f\"D{i+1}\" for i in np.arange(0,10)]\n",
    "\n",
    "data[\"Income_cat\"] = pd.cut(data[\"Income\"], 10, precision=0, labels=labels)\n",
    "\n",
    "print(\"\\n\", data[[\"ID\", \"Age_cat\", \"Income\", \"Income_cat\"]].sample(5), sep='')\n"
   ]
  },
  {
   "cell_type": "code",
   "execution_count": 22,
   "metadata": {},
   "outputs": [
    {
     "name": "stdout",
     "output_type": "stream",
     "text": [
      "min        5.000000\n",
      "mean     607.380499\n",
      "max     2525.000000\n",
      "Name: MntSpentTotal, dtype: float64\n",
      "\n",
      "        ID Age_cat  Income     MntTotal_cat  MntSpentTotal\n",
      "414   3523   55_64   75072  [845.0, 1265.0)           1073\n",
      "1824  1440   45_54   52513  [845.0, 1265.0)           1149\n",
      "2046  4268   65_74   53154    [87.0, 171.0)            158\n",
      "1938  9291   65_74   34242      [2.0, 87.0)             15\n",
      "1377  6770   35_44   21355      [2.0, 87.0)             68\n"
     ]
    }
   ],
   "source": [
    "# Total amount spent binning categories\n",
    "\n",
    "print(data[\"MntSpentTotal\"].describe()[[\"min\", \"mean\", \"max\"]])\n",
    "\n",
    "data[\"MntTotal_cat\"], intervals = pd.cut(data[\"MntSpentTotal\"], 6, \n",
    "                                         precision=0, retbins=True)\n",
    "\n",
    "# Exploring bins:\n",
    "# print(\"\\n\", data[\"MntTotal_cat\"].value_counts().sort_index(), sep='')\n",
    "\n",
    "# Creating new, more descriptive bins\n",
    "temp, first_int = pd.cut(np.arange(2, 426), 5, retbins=True)\n",
    "bins = list(first_int) + list(intervals[2:])\n",
    "\n",
    "data[\"MntTotal_cat\"], intervals = pd.cut(data[\"MntSpentTotal\"], bins, \n",
    "                                         precision=0, right=False, \n",
    "                                         retbins=True)\n",
    "\n",
    "print(\"\\n\", data[[\"ID\", \"Age_cat\", \n",
    "                  \"Income\", \"MntTotal_cat\", \n",
    "                  \"MntSpentTotal\"]].sample(5), sep='')\n"
   ]
  },
  {
   "cell_type": "code",
   "execution_count": 23,
   "metadata": {},
   "outputs": [
    {
     "name": "stdout",
     "output_type": "stream",
     "text": [
      "min      0.000000\n",
      "mean    49.082993\n",
      "max     99.000000\n",
      "Name: Recency, dtype: float64\n",
      "\n",
      "        MntTotal_cat Age_cat Income_cat Recency_cat\n",
      "1109  [256.0, 340.0)   55_64         D5       50_74\n",
      "925   [425.0, 845.0)   45_54         D2       75_99\n",
      "1715  [425.0, 845.0)   35_44         D3       50_74\n",
      "2179  [256.0, 340.0)   65_74         D3       75_99\n",
      "1318   [87.0, 171.0)   45_54         D3       50_74\n"
     ]
    }
   ],
   "source": [
    "# Recency binning categories\n",
    "\n",
    "print(data[\"Recency\"].describe()[[\"min\", \"mean\", \"max\"]])\n",
    "\n",
    "labels = [\"0_24\", \"25_49\", \"50_74\", \"75_99\"]\n",
    "\n",
    "data[\"Recency_cat\"] = pd.cut(data[\"Recency\"], 4, precision=0, labels=labels)\n",
    "\n",
    "print(\"\\n\", data[[\"MntTotal_cat\", \"Age_cat\", \n",
    "                  \"Income_cat\", \"Recency_cat\"]].sample(5), sep='')\n"
   ]
  },
  {
   "cell_type": "code",
   "execution_count": 24,
   "metadata": {},
   "outputs": [
    {
     "name": "stdout",
     "output_type": "stream",
     "text": [
      "There are duplicated customers based on 'ID' column?: False\n"
     ]
    }
   ],
   "source": [
    "# Check duplicated customers\n",
    "duplicated = data[\"ID\"].duplicated().any()\n",
    "print(f\"There are duplicated customers based on 'ID' column?: {duplicated}\")"
   ]
  },
  {
   "cell_type": "code",
   "execution_count": 25,
   "metadata": {},
   "outputs": [],
   "source": [
    "# standardizing int dtype\n",
    "\n",
    "for col in data.columns:\n",
    "    if data[col].dtype == \"int64\":\n",
    "        data[col] = data[col].astype(\"Int64\")"
   ]
  },
  {
   "cell_type": "markdown",
   "metadata": {},
   "source": [
    "## Saving new Dataset"
   ]
  },
  {
   "cell_type": "code",
   "execution_count": 26,
   "metadata": {},
   "outputs": [
    {
     "name": "stdout",
     "output_type": "stream",
     "text": [
      "<class 'pandas.core.frame.DataFrame'>\n",
      "Index: 2205 entries, 0 to 2239\n",
      "Data columns (total 39 columns):\n",
      " #   Column               Non-Null Count  Dtype          \n",
      "---  ------               --------------  -----          \n",
      " 0   ID                   2205 non-null   Int64          \n",
      " 1   Year_Birth           2205 non-null   Int64          \n",
      " 2   Year_Old             2205 non-null   Int64          \n",
      " 3   CustomerFor          2205 non-null   timedelta64[ns]\n",
      " 4   Dt_Customer          2205 non-null   datetime64[ns] \n",
      " 5   Education            2205 non-null   category       \n",
      " 6   Marital_Status       2205 non-null   category       \n",
      " 7   Income               2205 non-null   Int64          \n",
      " 8   Kidhome              2205 non-null   Int64          \n",
      " 9   Teenhome             2205 non-null   Int64          \n",
      " 10  ChildrenHome         2205 non-null   Int64          \n",
      " 11  Recency              2205 non-null   Int64          \n",
      " 12  MntSpentTotal        2205 non-null   Int64          \n",
      " 13  MntWines             2205 non-null   Int64          \n",
      " 14  MntFruits            2205 non-null   Int64          \n",
      " 15  MntMeatProducts      2205 non-null   Int64          \n",
      " 16  MntFishProducts      2205 non-null   Int64          \n",
      " 17  MntSweetProducts     2205 non-null   Int64          \n",
      " 18  MntGoldProds         2205 non-null   Int64          \n",
      " 19  PurchaseLastMonth    2205 non-null   Int64          \n",
      " 20  NumDealsPurchases    2205 non-null   Int64          \n",
      " 21  NumWebPurchases      2205 non-null   Int64          \n",
      " 22  NumCatalogPurchases  2205 non-null   Int64          \n",
      " 23  NumStorePurchases    2205 non-null   Int64          \n",
      " 24  NumWebVisitsMonth    2205 non-null   Int64          \n",
      " 25  AcceptedCmp1         2205 non-null   Int64          \n",
      " 26  AcceptedCmp2         2205 non-null   Int64          \n",
      " 27  AcceptedCmp3         2205 non-null   Int64          \n",
      " 28  AcceptedCmp4         2205 non-null   Int64          \n",
      " 29  AcceptedCmp5         2205 non-null   Int64          \n",
      " 30  Response             2205 non-null   Int64          \n",
      " 31  AcceptedCmpTotal     2205 non-null   Int64          \n",
      " 32  Complain             2205 non-null   Int64          \n",
      " 33  Z_CostContact        2205 non-null   Int64          \n",
      " 34  Z_Revenue            2205 non-null   Int64          \n",
      " 35  Age_cat              2205 non-null   category       \n",
      " 36  Income_cat           2205 non-null   category       \n",
      " 37  MntTotal_cat         2203 non-null   category       \n",
      " 38  Recency_cat          2205 non-null   category       \n",
      "dtypes: Int64(31), category(6), datetime64[ns](1), timedelta64[ns](1)\n",
      "memory usage: 667.2 KB\n"
     ]
    }
   ],
   "source": [
    "data.info()"
   ]
  },
  {
   "cell_type": "code",
   "execution_count": 27,
   "metadata": {},
   "outputs": [],
   "source": [
    "# Saving DataFrame as csv\n",
    "data.to_csv(\"../data/ifood_cleaned.csv\", index=False)\n",
    "\n",
    "# Saving dtypes of each column\n",
    "data_dtypes = data.dtypes.to_frame('dtypes').reset_index()\n",
    "dict = data_dtypes.set_index('index')['dtypes'].astype(str).to_dict()\n",
    "\n",
    "with open('../data/cleaned_dtypes.json', 'w') as f:\n",
    "    json.dump(dict, f)\n",
    "\n",
    "# Storing excluded rows\n",
    "data.to_csv(\"../data/ifood_excluded.csv\", index=False)"
   ]
  },
  {
   "cell_type": "code",
   "execution_count": 31,
   "metadata": {},
   "outputs": [
    {
     "name": "stdout",
     "output_type": "stream",
     "text": [
      "\n",
      "\tMemory used: 154.73 MB\n",
      "\n",
      "-----\n",
      "datetime    NA\n",
      "json        2.0.9\n",
      "numpy       1.26.4\n",
      "pandas      2.2.2\n",
      "pathlib     NA\n",
      "psutil      6.0.0\n",
      "scipy       1.14.0\n",
      "sinfo       0.3.1\n",
      "warnings    NA\n",
      "-----\n",
      "IPython             8.26.0\n",
      "jupyter_client      8.6.2\n",
      "jupyter_core        5.7.2\n",
      "-----\n",
      "Python 3.12.4 | packaged by conda-forge | (main, Jun 17 2024, 10:04:44) [MSC v.1940 64 bit (AMD64)]\n",
      "Windows-10-10.0.19045-SP0\n",
      "None\n",
      "-----\n",
      "Session information updated at 2024-07-15 11:53\n"
     ]
    }
   ],
   "source": [
    "# Notebook info\n",
    "process = psutil.Process()\n",
    "memory_used = process.memory_info().rss / (1024 ** 2)  # MB\n",
    "\n",
    "print(f\"\\n\\tMemory used: {memory_used:.2f} MB\\n\")\n",
    "\n",
    "sinfo(\n",
    "    na=True,\n",
    "    os=True,\n",
    "    cpu=False,\n",
    "    jupyter=True,\n",
    "    std_lib=True,\n",
    "    write_req_file=False,\n",
    ")"
   ]
  }
 ],
 "metadata": {
  "kernelspec": {
   "display_name": "learning",
   "language": "python",
   "name": "python3"
  },
  "language_info": {
   "codemirror_mode": {
    "name": "ipython",
    "version": 3
   },
   "file_extension": ".py",
   "mimetype": "text/x-python",
   "name": "python",
   "nbconvert_exporter": "python",
   "pygments_lexer": "ipython3",
   "version": "3.12.4"
  }
 },
 "nbformat": 4,
 "nbformat_minor": 2
}
