{
 "cells": [
  {
   "cell_type": "markdown",
   "metadata": {},
   "source": [
    "# Data Cleaning and Data Wrangling\n",
    "\n",
    "## Data\n",
    "\n",
    "Dataset contains socio-demographic and firmographic features about 2.240 \n",
    "customers.\n",
    "\n",
    "|Feature |Description|\n",
    "|--:|---|\n",
    "|AcceptedCmp1| 1 if customer accepted the offer in the 1st campaign, 0 otherwise|\n",
    "|AcceptedCmp2| 1 if customer accepted the offer in the 2nd campaign, 0 otherwise|\n",
    "|AcceptedCmp3| 1 if customer accepted the offer in the 3rd campaign, 0 otherwise|\n",
    "|AcceptedCmp4| 1 if customer accepted the offer in the 4th campaign, 0 otherwise|\n",
    "|AcceptedCmp5| 1 if customer accepted the offer in the 5th campaign, 0 otherwise|\n",
    "|Response (target)| 1 if customer accepted the offer in the last campaign, 0 otherwise|\n",
    "|Complain| 1 if customer complained in the last 2 years|\n",
    "|DtCustomer| date of customer's enrollment with the company|\n",
    "|Education| customer's level of education|\n",
    "|Marital| customer's marital status|\n",
    "|Kidhome| number of small children in customer's household|\n",
    "|Teenhome |number of teenagers in customer's household|\n",
    "|Income| customer's yearly household income|\n",
    "|MntFishProducts| amount spent on fish products in the last 2 years|\n",
    "|MntMeatProducts| amount spent on meat products in the last 2 years|\n",
    "|MntFruits| amount spent on fruits products in the last 2 years|\n",
    "|MntSweetProducts| amount spent on sweet products in the last 2 years|\n",
    "|MntWines| amount spent on wines products in the last 2 years|\n",
    "|MntGoldProds| amount spent on gold products in the last 2 years|\n",
    "|NumDealsPurchases| number of purchases made with discount|\n",
    "|NunCatalogPurchases| number of purchases made using catalog|\n",
    "|NunStorePurchases| number of purchases made directly in stores|\n",
    "|NumWebPurchases| number of purchases made through company's web site|\n",
    "|NumWebVisitsMonth| number of visits to company's web site in the last month|\n",
    "|Recency|number of days since the last purchase|\n",
    "|Z_Revenue|revenue from the new gadget|\n",
    "|Z_CostContact|cost of contact for the sixth campaign|"
   ]
  },
  {
   "cell_type": "code",
   "execution_count": 1,
   "metadata": {},
   "outputs": [],
   "source": [
    "import numpy as np\n",
    "import pandas as pd\n",
    "import json\n",
    "from pathlib import Path\n",
    "from datetime import datetime\n",
    "from scipy import stats\n",
    "from scipy.stats import kstest\n",
    "\n",
    "import psutil\n",
    "import warnings\n",
    "from sinfo import sinfo\n",
    "warnings.filterwarnings(\"ignore\")"
   ]
  },
  {
   "cell_type": "markdown",
   "metadata": {},
   "source": [
    "## Data Exploration"
   ]
  },
  {
   "cell_type": "code",
   "execution_count": 2,
   "metadata": {},
   "outputs": [
    {
     "data": {
      "text/html": [
       "<div>\n",
       "<style scoped>\n",
       "    .dataframe tbody tr th:only-of-type {\n",
       "        vertical-align: middle;\n",
       "    }\n",
       "\n",
       "    .dataframe tbody tr th {\n",
       "        vertical-align: top;\n",
       "    }\n",
       "\n",
       "    .dataframe thead th {\n",
       "        text-align: right;\n",
       "    }\n",
       "</style>\n",
       "<table border=\"1\" class=\"dataframe\">\n",
       "  <thead>\n",
       "    <tr style=\"text-align: right;\">\n",
       "      <th></th>\n",
       "      <th>ID</th>\n",
       "      <th>Year_Birth</th>\n",
       "      <th>Education</th>\n",
       "      <th>Marital_Status</th>\n",
       "      <th>Income</th>\n",
       "      <th>Kidhome</th>\n",
       "      <th>Teenhome</th>\n",
       "      <th>Dt_Customer</th>\n",
       "      <th>Recency</th>\n",
       "      <th>MntWines</th>\n",
       "      <th>...</th>\n",
       "      <th>NumWebVisitsMonth</th>\n",
       "      <th>AcceptedCmp3</th>\n",
       "      <th>AcceptedCmp4</th>\n",
       "      <th>AcceptedCmp5</th>\n",
       "      <th>AcceptedCmp1</th>\n",
       "      <th>AcceptedCmp2</th>\n",
       "      <th>Complain</th>\n",
       "      <th>Z_CostContact</th>\n",
       "      <th>Z_Revenue</th>\n",
       "      <th>Response</th>\n",
       "    </tr>\n",
       "  </thead>\n",
       "  <tbody>\n",
       "    <tr>\n",
       "      <th>595</th>\n",
       "      <td>4992</td>\n",
       "      <td>1975</td>\n",
       "      <td>Master</td>\n",
       "      <td>Together</td>\n",
       "      <td>17459.0</td>\n",
       "      <td>1</td>\n",
       "      <td>0</td>\n",
       "      <td>2013-09-19</td>\n",
       "      <td>12</td>\n",
       "      <td>6</td>\n",
       "      <td>...</td>\n",
       "      <td>7</td>\n",
       "      <td>0</td>\n",
       "      <td>0</td>\n",
       "      <td>0</td>\n",
       "      <td>0</td>\n",
       "      <td>0</td>\n",
       "      <td>0</td>\n",
       "      <td>3</td>\n",
       "      <td>11</td>\n",
       "      <td>1</td>\n",
       "    </tr>\n",
       "    <tr>\n",
       "      <th>1646</th>\n",
       "      <td>5177</td>\n",
       "      <td>1974</td>\n",
       "      <td>Master</td>\n",
       "      <td>Married</td>\n",
       "      <td>58494.0</td>\n",
       "      <td>0</td>\n",
       "      <td>1</td>\n",
       "      <td>2013-12-12</td>\n",
       "      <td>56</td>\n",
       "      <td>298</td>\n",
       "      <td>...</td>\n",
       "      <td>6</td>\n",
       "      <td>0</td>\n",
       "      <td>0</td>\n",
       "      <td>0</td>\n",
       "      <td>0</td>\n",
       "      <td>0</td>\n",
       "      <td>0</td>\n",
       "      <td>3</td>\n",
       "      <td>11</td>\n",
       "      <td>0</td>\n",
       "    </tr>\n",
       "    <tr>\n",
       "      <th>452</th>\n",
       "      <td>6471</td>\n",
       "      <td>1971</td>\n",
       "      <td>Master</td>\n",
       "      <td>Single</td>\n",
       "      <td>36230.0</td>\n",
       "      <td>1</td>\n",
       "      <td>0</td>\n",
       "      <td>2013-10-17</td>\n",
       "      <td>17</td>\n",
       "      <td>14</td>\n",
       "      <td>...</td>\n",
       "      <td>5</td>\n",
       "      <td>0</td>\n",
       "      <td>0</td>\n",
       "      <td>0</td>\n",
       "      <td>0</td>\n",
       "      <td>0</td>\n",
       "      <td>0</td>\n",
       "      <td>3</td>\n",
       "      <td>11</td>\n",
       "      <td>0</td>\n",
       "    </tr>\n",
       "    <tr>\n",
       "      <th>688</th>\n",
       "      <td>10767</td>\n",
       "      <td>1989</td>\n",
       "      <td>PhD</td>\n",
       "      <td>Together</td>\n",
       "      <td>77845.0</td>\n",
       "      <td>0</td>\n",
       "      <td>0</td>\n",
       "      <td>2014-05-16</td>\n",
       "      <td>40</td>\n",
       "      <td>760</td>\n",
       "      <td>...</td>\n",
       "      <td>1</td>\n",
       "      <td>0</td>\n",
       "      <td>0</td>\n",
       "      <td>1</td>\n",
       "      <td>1</td>\n",
       "      <td>0</td>\n",
       "      <td>0</td>\n",
       "      <td>3</td>\n",
       "      <td>11</td>\n",
       "      <td>0</td>\n",
       "    </tr>\n",
       "    <tr>\n",
       "      <th>517</th>\n",
       "      <td>10203</td>\n",
       "      <td>1990</td>\n",
       "      <td>Graduation</td>\n",
       "      <td>Single</td>\n",
       "      <td>26095.0</td>\n",
       "      <td>1</td>\n",
       "      <td>0</td>\n",
       "      <td>2013-06-30</td>\n",
       "      <td>77</td>\n",
       "      <td>11</td>\n",
       "      <td>...</td>\n",
       "      <td>7</td>\n",
       "      <td>0</td>\n",
       "      <td>0</td>\n",
       "      <td>0</td>\n",
       "      <td>0</td>\n",
       "      <td>0</td>\n",
       "      <td>0</td>\n",
       "      <td>3</td>\n",
       "      <td>11</td>\n",
       "      <td>0</td>\n",
       "    </tr>\n",
       "    <tr>\n",
       "      <th>1455</th>\n",
       "      <td>4399</td>\n",
       "      <td>1969</td>\n",
       "      <td>Graduation</td>\n",
       "      <td>Together</td>\n",
       "      <td>68695.0</td>\n",
       "      <td>0</td>\n",
       "      <td>0</td>\n",
       "      <td>2014-06-25</td>\n",
       "      <td>3</td>\n",
       "      <td>458</td>\n",
       "      <td>...</td>\n",
       "      <td>2</td>\n",
       "      <td>0</td>\n",
       "      <td>0</td>\n",
       "      <td>0</td>\n",
       "      <td>0</td>\n",
       "      <td>0</td>\n",
       "      <td>0</td>\n",
       "      <td>3</td>\n",
       "      <td>11</td>\n",
       "      <td>0</td>\n",
       "    </tr>\n",
       "    <tr>\n",
       "      <th>1505</th>\n",
       "      <td>3643</td>\n",
       "      <td>1974</td>\n",
       "      <td>Master</td>\n",
       "      <td>Married</td>\n",
       "      <td>63206.0</td>\n",
       "      <td>0</td>\n",
       "      <td>0</td>\n",
       "      <td>2014-03-20</td>\n",
       "      <td>65</td>\n",
       "      <td>750</td>\n",
       "      <td>...</td>\n",
       "      <td>2</td>\n",
       "      <td>0</td>\n",
       "      <td>0</td>\n",
       "      <td>1</td>\n",
       "      <td>0</td>\n",
       "      <td>0</td>\n",
       "      <td>0</td>\n",
       "      <td>3</td>\n",
       "      <td>11</td>\n",
       "      <td>0</td>\n",
       "    </tr>\n",
       "    <tr>\n",
       "      <th>1375</th>\n",
       "      <td>8805</td>\n",
       "      <td>1960</td>\n",
       "      <td>Graduation</td>\n",
       "      <td>Single</td>\n",
       "      <td>48904.0</td>\n",
       "      <td>0</td>\n",
       "      <td>1</td>\n",
       "      <td>2012-12-02</td>\n",
       "      <td>1</td>\n",
       "      <td>283</td>\n",
       "      <td>...</td>\n",
       "      <td>8</td>\n",
       "      <td>0</td>\n",
       "      <td>0</td>\n",
       "      <td>0</td>\n",
       "      <td>0</td>\n",
       "      <td>0</td>\n",
       "      <td>0</td>\n",
       "      <td>3</td>\n",
       "      <td>11</td>\n",
       "      <td>0</td>\n",
       "    </tr>\n",
       "  </tbody>\n",
       "</table>\n",
       "<p>8 rows × 29 columns</p>\n",
       "</div>"
      ],
      "text/plain": [
       "         ID  Year_Birth   Education Marital_Status   Income  Kidhome  \\\n",
       "595    4992        1975      Master       Together  17459.0        1   \n",
       "1646   5177        1974      Master        Married  58494.0        0   \n",
       "452    6471        1971      Master         Single  36230.0        1   \n",
       "688   10767        1989         PhD       Together  77845.0        0   \n",
       "517   10203        1990  Graduation         Single  26095.0        1   \n",
       "1455   4399        1969  Graduation       Together  68695.0        0   \n",
       "1505   3643        1974      Master        Married  63206.0        0   \n",
       "1375   8805        1960  Graduation         Single  48904.0        0   \n",
       "\n",
       "      Teenhome Dt_Customer  Recency  MntWines  ...  NumWebVisitsMonth  \\\n",
       "595          0  2013-09-19       12         6  ...                  7   \n",
       "1646         1  2013-12-12       56       298  ...                  6   \n",
       "452          0  2013-10-17       17        14  ...                  5   \n",
       "688          0  2014-05-16       40       760  ...                  1   \n",
       "517          0  2013-06-30       77        11  ...                  7   \n",
       "1455         0  2014-06-25        3       458  ...                  2   \n",
       "1505         0  2014-03-20       65       750  ...                  2   \n",
       "1375         1  2012-12-02        1       283  ...                  8   \n",
       "\n",
       "      AcceptedCmp3  AcceptedCmp4  AcceptedCmp5  AcceptedCmp1  AcceptedCmp2  \\\n",
       "595              0             0             0             0             0   \n",
       "1646             0             0             0             0             0   \n",
       "452              0             0             0             0             0   \n",
       "688              0             0             1             1             0   \n",
       "517              0             0             0             0             0   \n",
       "1455             0             0             0             0             0   \n",
       "1505             0             0             1             0             0   \n",
       "1375             0             0             0             0             0   \n",
       "\n",
       "      Complain  Z_CostContact  Z_Revenue  Response  \n",
       "595          0              3         11         1  \n",
       "1646         0              3         11         0  \n",
       "452          0              3         11         0  \n",
       "688          0              3         11         0  \n",
       "517          0              3         11         0  \n",
       "1455         0              3         11         0  \n",
       "1505         0              3         11         0  \n",
       "1375         0              3         11         0  \n",
       "\n",
       "[8 rows x 29 columns]"
      ]
     },
     "execution_count": 2,
     "metadata": {},
     "output_type": "execute_result"
    }
   ],
   "source": [
    "# Storing path\n",
    "path = Path(\"../data/ifood_customers.csv\")\n",
    "\n",
    "# Read CSV with pandas\n",
    "data = pd.read_csv(path)\n",
    "\n",
    "# showing a sample of the dataset\n",
    "data.sample(8)"
   ]
  },
  {
   "cell_type": "code",
   "execution_count": 3,
   "metadata": {},
   "outputs": [
    {
     "name": "stdout",
     "output_type": "stream",
     "text": [
      "<class 'pandas.core.frame.DataFrame'>\n",
      "RangeIndex: 2240 entries, 0 to 2239\n",
      "Data columns (total 29 columns):\n",
      " #   Column               Non-Null Count  Dtype  \n",
      "---  ------               --------------  -----  \n",
      " 0   ID                   2240 non-null   int64  \n",
      " 1   Year_Birth           2240 non-null   int64  \n",
      " 2   Education            2240 non-null   object \n",
      " 3   Marital_Status       2240 non-null   object \n",
      " 4   Income               2216 non-null   float64\n",
      " 5   Kidhome              2240 non-null   int64  \n",
      " 6   Teenhome             2240 non-null   int64  \n",
      " 7   Dt_Customer          2240 non-null   object \n",
      " 8   Recency              2240 non-null   int64  \n",
      " 9   MntWines             2240 non-null   int64  \n",
      " 10  MntFruits            2240 non-null   int64  \n",
      " 11  MntMeatProducts      2240 non-null   int64  \n",
      " 12  MntFishProducts      2240 non-null   int64  \n",
      " 13  MntSweetProducts     2240 non-null   int64  \n",
      " 14  MntGoldProds         2240 non-null   int64  \n",
      " 15  NumDealsPurchases    2240 non-null   int64  \n",
      " 16  NumWebPurchases      2240 non-null   int64  \n",
      " 17  NumCatalogPurchases  2240 non-null   int64  \n",
      " 18  NumStorePurchases    2240 non-null   int64  \n",
      " 19  NumWebVisitsMonth    2240 non-null   int64  \n",
      " 20  AcceptedCmp3         2240 non-null   int64  \n",
      " 21  AcceptedCmp4         2240 non-null   int64  \n",
      " 22  AcceptedCmp5         2240 non-null   int64  \n",
      " 23  AcceptedCmp1         2240 non-null   int64  \n",
      " 24  AcceptedCmp2         2240 non-null   int64  \n",
      " 25  Complain             2240 non-null   int64  \n",
      " 26  Z_CostContact        2240 non-null   int64  \n",
      " 27  Z_Revenue            2240 non-null   int64  \n",
      " 28  Response             2240 non-null   int64  \n",
      "dtypes: float64(1), int64(25), object(3)\n",
      "memory usage: 507.6+ KB\n"
     ]
    }
   ],
   "source": [
    "# Exploring the columns and dtype\n",
    "\n",
    "data.info()"
   ]
  },
  {
   "cell_type": "code",
   "execution_count": 4,
   "metadata": {},
   "outputs": [
    {
     "name": "stdout",
     "output_type": "stream",
     "text": [
      "\n",
      "'Education' Column Values:\n",
      "\t['Graduation' 'PhD' 'Master' 'Basic' '2n Cycle']\n",
      "\n",
      "'Marital_Status' Column Values:\n",
      "\t['Single' 'Together' 'Married' 'Divorced' 'Widow' 'Alone' 'Absurd' 'YOLO']\n",
      "\n",
      "'Dt_Customer' Column sample:\n",
      "207     2013-05-13\n",
      "85      2013-08-11\n",
      "2035    2013-12-05\n",
      "Name: Dt_Customer, dtype: object\n",
      "\t\n"
     ]
    }
   ],
   "source": [
    "# Exploring unique values in some columns\n",
    "\n",
    "print(\"\\n'Education' Column Values:\\n\", \"\\t\",\n",
    "      data[\"Education\"].unique(),\n",
    "      sep=''\n",
    "      )\n",
    "\n",
    "print(\"\\n'Marital_Status' Column Values:\\n\", \"\\t\",\n",
    "      data[\"Marital_Status\"].unique(),\n",
    "      sep=''\n",
    "      )\n",
    "\n",
    "print(\"\\n'Dt_Customer' Column sample:\\n\",\n",
    "      data[\"Dt_Customer\"].sample(3), \"\\n\", \"\\t\",\n",
    "      sep=''\n",
    "      )\n"
   ]
  },
  {
   "cell_type": "markdown",
   "metadata": {},
   "source": [
    "## Creating columns"
   ]
  },
  {
   "cell_type": "code",
   "execution_count": 5,
   "metadata": {},
   "outputs": [
    {
     "name": "stdout",
     "output_type": "stream",
     "text": [
      "<class 'pandas.core.frame.DataFrame'>\n",
      "RangeIndex: 2240 entries, 0 to 2239\n",
      "Data columns (total 29 columns):\n",
      " #   Column               Non-Null Count  Dtype         \n",
      "---  ------               --------------  -----         \n",
      " 0   ID                   2240 non-null   int64         \n",
      " 1   Year_Birth           2240 non-null   int64         \n",
      " 2   Education            2240 non-null   category      \n",
      " 3   Marital_Status       2240 non-null   category      \n",
      " 4   Income               2216 non-null   Int64         \n",
      " 5   Kidhome              2240 non-null   int64         \n",
      " 6   Teenhome             2240 non-null   int64         \n",
      " 7   Dt_Customer          2240 non-null   datetime64[ns]\n",
      " 8   Recency              2240 non-null   int64         \n",
      " 9   MntWines             2240 non-null   int64         \n",
      " 10  MntFruits            2240 non-null   int64         \n",
      " 11  MntMeatProducts      2240 non-null   int64         \n",
      " 12  MntFishProducts      2240 non-null   int64         \n",
      " 13  MntSweetProducts     2240 non-null   int64         \n",
      " 14  MntGoldProds         2240 non-null   int64         \n",
      " 15  NumDealsPurchases    2240 non-null   int64         \n",
      " 16  NumWebPurchases      2240 non-null   int64         \n",
      " 17  NumCatalogPurchases  2240 non-null   int64         \n",
      " 18  NumStorePurchases    2240 non-null   int64         \n",
      " 19  NumWebVisitsMonth    2240 non-null   int64         \n",
      " 20  AcceptedCmp3         2240 non-null   int64         \n",
      " 21  AcceptedCmp4         2240 non-null   int64         \n",
      " 22  AcceptedCmp5         2240 non-null   int64         \n",
      " 23  AcceptedCmp1         2240 non-null   int64         \n",
      " 24  AcceptedCmp2         2240 non-null   int64         \n",
      " 25  Complain             2240 non-null   int64         \n",
      " 26  Z_CostContact        2240 non-null   int64         \n",
      " 27  Z_Revenue            2240 non-null   int64         \n",
      " 28  Response             2240 non-null   int64         \n",
      "dtypes: Int64(1), category(2), datetime64[ns](1), int64(25)\n",
      "memory usage: 479.8 KB\n"
     ]
    }
   ],
   "source": [
    "# Stabilizing dtype 'category' to Education and Marital_Status columns\n",
    "# Also Dt_Customer to Datetime dtype and Income to 'Int64'\n",
    "\n",
    "data[\"Income\"] = data[\"Income\"].astype(\"Int64\")\n",
    "data[\"Education\"] = data[\"Education\"].astype(\"category\")\n",
    "data[\"Marital_Status\"] = data[\"Marital_Status\"].astype(\"category\")\n",
    "data[\"Dt_Customer\"] = pd.to_datetime(data[\"Dt_Customer\"], format=\"%Y-%m-%d\")\n",
    "\n",
    "data.info()\n"
   ]
  },
  {
   "cell_type": "code",
   "execution_count": 6,
   "metadata": {},
   "outputs": [
    {
     "data": {
      "text/html": [
       "<div>\n",
       "<style scoped>\n",
       "    .dataframe tbody tr th:only-of-type {\n",
       "        vertical-align: middle;\n",
       "    }\n",
       "\n",
       "    .dataframe tbody tr th {\n",
       "        vertical-align: top;\n",
       "    }\n",
       "\n",
       "    .dataframe thead th {\n",
       "        text-align: right;\n",
       "    }\n",
       "</style>\n",
       "<table border=\"1\" class=\"dataframe\">\n",
       "  <thead>\n",
       "    <tr style=\"text-align: right;\">\n",
       "      <th></th>\n",
       "      <th>Year_Old</th>\n",
       "      <th>CustomerFor</th>\n",
       "    </tr>\n",
       "  </thead>\n",
       "  <tbody>\n",
       "    <tr>\n",
       "      <th>1656</th>\n",
       "      <td>70</td>\n",
       "      <td>4069 days</td>\n",
       "    </tr>\n",
       "    <tr>\n",
       "      <th>79</th>\n",
       "      <td>59</td>\n",
       "      <td>4215 days</td>\n",
       "    </tr>\n",
       "    <tr>\n",
       "      <th>1364</th>\n",
       "      <td>47</td>\n",
       "      <td>4011 days</td>\n",
       "    </tr>\n",
       "    <tr>\n",
       "      <th>1097</th>\n",
       "      <td>38</td>\n",
       "      <td>4278 days</td>\n",
       "    </tr>\n",
       "    <tr>\n",
       "      <th>148</th>\n",
       "      <td>51</td>\n",
       "      <td>4348 days</td>\n",
       "    </tr>\n",
       "  </tbody>\n",
       "</table>\n",
       "</div>"
      ],
      "text/plain": [
       "      Year_Old CustomerFor\n",
       "1656        70   4069 days\n",
       "79          59   4215 days\n",
       "1364        47   4011 days\n",
       "1097        38   4278 days\n",
       "148         51   4348 days"
      ]
     },
     "execution_count": 6,
     "metadata": {},
     "output_type": "execute_result"
    }
   ],
   "source": [
    "# Creating new columns: customer year old and days since becoming customer\n",
    "\n",
    "today = pd.to_datetime(datetime.today().strftime('%Y-%m-%d'))\n",
    "\n",
    "data[\"Year_Old\"] = (today.year - data[\"Year_Birth\"])\n",
    "data[\"CustomerFor\"] = (today - data[\"Dt_Customer\"])\n",
    "\n",
    "data[[\"Year_Old\", \"CustomerFor\"]].sample(5)"
   ]
  },
  {
   "cell_type": "code",
   "execution_count": 7,
   "metadata": {},
   "outputs": [
    {
     "name": "stdout",
     "output_type": "stream",
     "text": [
      "<class 'pandas.core.frame.DataFrame'>\n",
      "RangeIndex: 2240 entries, 0 to 2239\n",
      "Data columns (total 31 columns):\n",
      " #   Column               Non-Null Count  Dtype          \n",
      "---  ------               --------------  -----          \n",
      " 0   ID                   2240 non-null   int64          \n",
      " 1   Year_Birth           2240 non-null   int64          \n",
      " 2   Year_Old             2240 non-null   int64          \n",
      " 3   CustomerFor          2240 non-null   timedelta64[ns]\n",
      " 4   Dt_Customer          2240 non-null   datetime64[ns] \n",
      " 5   Education            2240 non-null   category       \n",
      " 6   Marital_Status       2240 non-null   category       \n",
      " 7   Income               2216 non-null   Int64          \n",
      " 8   Kidhome              2240 non-null   int64          \n",
      " 9   Teenhome             2240 non-null   int64          \n",
      " 10  Recency              2240 non-null   int64          \n",
      " 11  MntWines             2240 non-null   int64          \n",
      " 12  MntFruits            2240 non-null   int64          \n",
      " 13  MntMeatProducts      2240 non-null   int64          \n",
      " 14  MntFishProducts      2240 non-null   int64          \n",
      " 15  MntSweetProducts     2240 non-null   int64          \n",
      " 16  MntGoldProds         2240 non-null   int64          \n",
      " 17  NumDealsPurchases    2240 non-null   int64          \n",
      " 18  NumWebPurchases      2240 non-null   int64          \n",
      " 19  NumCatalogPurchases  2240 non-null   int64          \n",
      " 20  NumStorePurchases    2240 non-null   int64          \n",
      " 21  NumWebVisitsMonth    2240 non-null   int64          \n",
      " 22  AcceptedCmp3         2240 non-null   int64          \n",
      " 23  AcceptedCmp4         2240 non-null   int64          \n",
      " 24  AcceptedCmp5         2240 non-null   int64          \n",
      " 25  AcceptedCmp1         2240 non-null   int64          \n",
      " 26  AcceptedCmp2         2240 non-null   int64          \n",
      " 27  Complain             2240 non-null   int64          \n",
      " 28  Z_CostContact        2240 non-null   int64          \n",
      " 29  Z_Revenue            2240 non-null   int64          \n",
      " 30  Response             2240 non-null   int64          \n",
      "dtypes: Int64(1), category(2), datetime64[ns](1), int64(26), timedelta64[ns](1)\n",
      "memory usage: 514.8 KB\n"
     ]
    }
   ],
   "source": [
    "# Reordering columns\n",
    "\n",
    "pop_column = data.pop(\"Dt_Customer\")\n",
    "data.insert(2, \"Dt_Customer\", pop_column)\n",
    "\n",
    "last_columns = data.columns[-2:]\n",
    "first_columns = data.columns[:2]\n",
    "middle_columns = data.columns[2:-2]\n",
    "new_order = list(first_columns) + list(last_columns) + list(middle_columns)\n",
    "\n",
    "data = data[new_order]\n",
    "\n",
    "data.info()"
   ]
  },
  {
   "cell_type": "code",
   "execution_count": 8,
   "metadata": {},
   "outputs": [
    {
     "name": "stdout",
     "output_type": "stream",
     "text": [
      "1636    1\n",
      "1333    0\n",
      "47      0\n",
      "1038    1\n",
      "1231    0\n",
      "Name: PurchaseLastMonth, dtype: int64\n"
     ]
    }
   ],
   "source": [
    "# Checking if the customer bought in the last month\n",
    "\n",
    "data[\"PurchaseLastMonth\"] = (data[\"Recency\"] < 30)\n",
    "data[\"PurchaseLastMonth\"] = data[\"PurchaseLastMonth\"].replace({True:1, \n",
    "                                                               False:0})\n",
    "\n",
    "print(data[\"PurchaseLastMonth\"].sample(5))"
   ]
  },
  {
   "cell_type": "code",
   "execution_count": 9,
   "metadata": {},
   "outputs": [
    {
     "name": "stdout",
     "output_type": "stream",
     "text": [
      "1098      12\n",
      "1068      18\n",
      "804     1526\n",
      "487      735\n",
      "1229      72\n",
      "Name: MntSpentTotal, dtype: int64\n"
     ]
    }
   ],
   "source": [
    "# Calculating total amount spent per customer\n",
    "\n",
    "MntSpentTotal_sum = [\"MntFishProducts\", \"MntFruits\", \"MntGoldProds\", \n",
    "                     \"MntMeatProducts\", \"MntSweetProducts\", \"MntWines\"]\n",
    "data[\"MntSpentTotal\"] = data[MntSpentTotal_sum].sum(axis=1)\n",
    "\n",
    "print(data[\"MntSpentTotal\"].sample(5))"
   ]
  },
  {
   "cell_type": "code",
   "execution_count": 10,
   "metadata": {},
   "outputs": [
    {
     "data": {
      "text/plain": [
       "679     0\n",
       "1857    0\n",
       "1878    0\n",
       "163     0\n",
       "563     0\n",
       "Name: AcceptedCmpTotal, dtype: int64"
      ]
     },
     "execution_count": 10,
     "metadata": {},
     "output_type": "execute_result"
    }
   ],
   "source": [
    "# How many campaigns the customer accepted\n",
    "\n",
    "AcceptedCmpTotal_sum = [\"AcceptedCmp1\", \"AcceptedCmp2\", \"AcceptedCmp3\", \n",
    "                        \"AcceptedCmp4\", \"AcceptedCmp5\"]\n",
    "data[\"AcceptedCmpTotal\"] = data[AcceptedCmpTotal_sum].sum(axis=1)\n",
    "\n",
    "data[\"AcceptedCmpTotal\"].sample(5)"
   ]
  },
  {
   "cell_type": "code",
   "execution_count": 11,
   "metadata": {},
   "outputs": [
    {
     "data": {
      "text/plain": [
       "312     0\n",
       "1570    0\n",
       "193     1\n",
       "2064    1\n",
       "229     1\n",
       "Name: ChildrenHome, dtype: int64"
      ]
     },
     "execution_count": 11,
     "metadata": {},
     "output_type": "execute_result"
    }
   ],
   "source": [
    "# How many children (Kids and teenagers) the customer has at home\n",
    "\n",
    "ChildrenHome_sum = [\"Kidhome\", \"Teenhome\"]\n",
    "data[\"ChildrenHome\"] = data[ChildrenHome_sum].sum(axis=\"columns\")\n",
    "\n",
    "data[\"ChildrenHome\"].sample(5)"
   ]
  },
  {
   "cell_type": "code",
   "execution_count": 12,
   "metadata": {},
   "outputs": [
    {
     "data": {
      "text/plain": [
       "731     15\n",
       "791     16\n",
       "1463     6\n",
       "1586     8\n",
       "358     13\n",
       "Name: NumPurchasesTotal, dtype: int64"
      ]
     },
     "execution_count": 12,
     "metadata": {},
     "output_type": "execute_result"
    }
   ],
   "source": [
    "NumPurchasesTotal_sum = [\"NumWebPurchases\", \n",
    "                         \"NumCatalogPurchases\", \n",
    "                         \"NumStorePurchases\"]\n",
    "\n",
    "data[\"NumPurchasesTotal\"] = data[NumPurchasesTotal_sum].sum(axis=\"columns\")\n",
    "\n",
    "data[\"NumPurchasesTotal\"].sample(5)"
   ]
  },
  {
   "cell_type": "markdown",
   "metadata": {},
   "source": [
    "### Columns reordered"
   ]
  },
  {
   "cell_type": "code",
   "execution_count": 13,
   "metadata": {},
   "outputs": [
    {
     "name": "stdout",
     "output_type": "stream",
     "text": [
      "<class 'pandas.core.frame.DataFrame'>\n",
      "RangeIndex: 2240 entries, 0 to 2239\n",
      "Data columns (total 36 columns):\n",
      " #   Column               Non-Null Count  Dtype          \n",
      "---  ------               --------------  -----          \n",
      " 0   ID                   2240 non-null   int64          \n",
      " 1   Year_Birth           2240 non-null   int64          \n",
      " 2   Year_Old             2240 non-null   int64          \n",
      " 3   CustomerFor          2240 non-null   timedelta64[ns]\n",
      " 4   Dt_Customer          2240 non-null   datetime64[ns] \n",
      " 5   Education            2240 non-null   category       \n",
      " 6   Marital_Status       2240 non-null   category       \n",
      " 7   Income               2216 non-null   Int64          \n",
      " 8   Kidhome              2240 non-null   int64          \n",
      " 9   Teenhome             2240 non-null   int64          \n",
      " 10  ChildrenHome         2240 non-null   int64          \n",
      " 11  Recency              2240 non-null   int64          \n",
      " 12  MntSpentTotal        2240 non-null   int64          \n",
      " 13  MntWines             2240 non-null   int64          \n",
      " 14  MntFruits            2240 non-null   int64          \n",
      " 15  MntMeatProducts      2240 non-null   int64          \n",
      " 16  MntFishProducts      2240 non-null   int64          \n",
      " 17  MntSweetProducts     2240 non-null   int64          \n",
      " 18  MntGoldProds         2240 non-null   int64          \n",
      " 19  PurchaseLastMonth    2240 non-null   int64          \n",
      " 20  NumPurchasesTotal    2240 non-null   int64          \n",
      " 21  NumDealsPurchases    2240 non-null   int64          \n",
      " 22  NumWebPurchases      2240 non-null   int64          \n",
      " 23  NumCatalogPurchases  2240 non-null   int64          \n",
      " 24  NumStorePurchases    2240 non-null   int64          \n",
      " 25  NumWebVisitsMonth    2240 non-null   int64          \n",
      " 26  AcceptedCmp1         2240 non-null   int64          \n",
      " 27  AcceptedCmp2         2240 non-null   int64          \n",
      " 28  AcceptedCmp3         2240 non-null   int64          \n",
      " 29  AcceptedCmp4         2240 non-null   int64          \n",
      " 30  AcceptedCmp5         2240 non-null   int64          \n",
      " 31  Response             2240 non-null   int64          \n",
      " 32  AcceptedCmpTotal     2240 non-null   int64          \n",
      " 33  Complain             2240 non-null   int64          \n",
      " 34  Z_CostContact        2240 non-null   int64          \n",
      " 35  Z_Revenue            2240 non-null   int64          \n",
      "dtypes: Int64(1), category(2), datetime64[ns](1), int64(31), timedelta64[ns](1)\n",
      "memory usage: 602.3 KB\n"
     ]
    }
   ],
   "source": [
    "# Reordering columns\n",
    "\n",
    "pop_column = data.pop(\"AcceptedCmpTotal\")\n",
    "data.insert(27, \"AcceptedCmpTotal\", pop_column)\n",
    "\n",
    "pop_column = data.pop(\"PurchaseLastMonth\")\n",
    "data.insert(17, \"PurchaseLastMonth\", pop_column)\n",
    "\n",
    "pop_column = data.pop(\"MntSpentTotal\")\n",
    "data.insert(11, \"MntSpentTotal\", pop_column)\n",
    "\n",
    "pop_column = data.pop(\"ChildrenHome\")\n",
    "data.insert(10, \"ChildrenHome\", pop_column)\n",
    "\n",
    "pop_column = data.pop(\"AcceptedCmp2\")\n",
    "data.insert(25, \"AcceptedCmp2\", pop_column)\n",
    "\n",
    "pop_column = data.pop(\"AcceptedCmp1\")\n",
    "data.insert(25, \"AcceptedCmp1\", pop_column)\n",
    "\n",
    "pop_column = data.pop(\"Response\")\n",
    "data.insert(30, \"Response\", pop_column)\n",
    "\n",
    "pop_column = data.pop(\"NumPurchasesTotal\")\n",
    "data.insert(20, \"NumPurchasesTotal\", pop_column)\n",
    "\n",
    "data.info()"
   ]
  },
  {
   "cell_type": "markdown",
   "metadata": {},
   "source": [
    "## Data Cleaning"
   ]
  },
  {
   "cell_type": "code",
   "execution_count": 14,
   "metadata": {},
   "outputs": [
    {
     "name": "stdout",
     "output_type": "stream",
     "text": [
      "Customers with missing values:  24\n"
     ]
    }
   ],
   "source": [
    "# Missing Values\n",
    "\n",
    "row_nan = data[data.isna().any(axis=1)]\n",
    "print(\"Customers with missing values: \", len(row_nan))\n",
    "\n",
    "data.drop(row_nan.index, inplace=True)"
   ]
  },
  {
   "cell_type": "code",
   "execution_count": 15,
   "metadata": {},
   "outputs": [
    {
     "name": "stdout",
     "output_type": "stream",
     "text": [
      "Customers with a logically incoherent Marital Status:  7\n"
     ]
    }
   ],
   "source": [
    "# Identifying logically incoherent customers and dropping from the dataframe\n",
    "\n",
    "marital_filt = data[data[\"Marital_Status\"].isin(['Alone', 'Absurd', 'YOLO'])]\n",
    "print(\"Customers with a logically incoherent Marital Status: \", \n",
    "      len(marital_filt))\n",
    "\n",
    "data.drop(marital_filt.index, inplace=True)"
   ]
  },
  {
   "cell_type": "markdown",
   "metadata": {},
   "source": [
    "### Kolmogorov-Smirnov test"
   ]
  },
  {
   "cell_type": "code",
   "execution_count": 16,
   "metadata": {},
   "outputs": [
    {
     "name": "stdout",
     "output_type": "stream",
     "text": [
      "Test statistic: 0.0590\n",
      "p Value: 0.0000\n"
     ]
    }
   ],
   "source": [
    "# KS-Test on 'Year_Old' column\n",
    "ks_result = kstest(data[\"Year_Old\"], stats.norm.cdf, \n",
    "                   args=(data[\"Year_Old\"].mean(), data[\"Year_Old\"].std()))\n",
    "\n",
    "print(f\"Test statistic: {ks_result.statistic:.4f}\")\n",
    "print(f\"p Value: {ks_result.pvalue:.4f}\")"
   ]
  },
  {
   "cell_type": "code",
   "execution_count": 17,
   "metadata": {},
   "outputs": [
    {
     "name": "stdout",
     "output_type": "stream",
     "text": [
      "Test statistic: 0.0542\n",
      "p Value: 0.0000\n"
     ]
    }
   ],
   "source": [
    "# KS-Test on 'Year_Old' column\n",
    "ks_result = kstest(data[\"Income\"], stats.norm.cdf, \n",
    "                   args=(data[\"Income\"].mean(), data[\"Income\"].std()))\n",
    "\n",
    "print(f\"Test statistic: {ks_result.statistic:.4f}\")\n",
    "print(f\"p Value: {ks_result.pvalue:.4f}\")"
   ]
  },
  {
   "cell_type": "markdown",
   "metadata": {},
   "source": [
    "### Obtaining outliers"
   ]
  },
  {
   "cell_type": "code",
   "execution_count": 18,
   "metadata": {},
   "outputs": [
    {
     "name": "stdout",
     "output_type": "stream",
     "text": [
      "IQR:  18.0\n",
      "outliers: \n",
      "        ID  Year_Old  Income CustomerFor Marital_Status  MntSpentTotal\n",
      "192   7829       124   36640   3948 days       Divorced             65\n",
      "239  11004       131   60182   3715 days         Single             22\n",
      "339   1150       125   83532   3948 days       Together           1853\n"
     ]
    }
   ],
   "source": [
    "# Quartiles and IQR\n",
    "quartiles = data[\"Year_Old\"].quantile([0.25, 0.75])\n",
    "iqr = quartiles[0.75] - quartiles[0.25]\n",
    "\n",
    "# Identify Outliers\n",
    "lower_bound = quartiles[0.25] - 1.5 * iqr\n",
    "upper_bound = quartiles[0.75] + 1.5 * iqr\n",
    "\n",
    "# Filtering\n",
    "Year_Old_outliers = data[(data[\"Year_Old\"] < lower_bound) | \n",
    "                (data[\"Year_Old\"] > upper_bound)]\n",
    "\n",
    "print(\"IQR: \", iqr)\n",
    "print(\"outliers: \")\n",
    "print(Year_Old_outliers[[\"ID\", \"Year_Old\", \"Income\", \"CustomerFor\", \n",
    "                \"Marital_Status\", \"MntSpentTotal\"]])\n",
    "\n",
    "# Extracting Outliers from the Dataset\n",
    "data.drop(Year_Old_outliers.index, inplace=True)"
   ]
  },
  {
   "cell_type": "code",
   "execution_count": 19,
   "metadata": {},
   "outputs": [
    {
     "name": "stdout",
     "output_type": "stream",
     "text": [
      "IQR:  33383.5\n",
      "outliers: \n",
      "         ID  Year_Old  Income CustomerFor Marital_Status  MntSpentTotal\n",
      "2233   9432        47  666666   4064 days       Together             62\n",
      "617    1503        48  162397   4063 days       Together            107\n",
      "687    1501        42  160803   4366 days        Married           1717\n",
      "1300   5336        53  157733   4062 days       Together             59\n",
      "164    8475        51  157243   3792 days        Married           1608\n",
      "1653   4931        47  157146   4098 days       Together           1730\n",
      "2132  11181        75  156924   3976 days        Married              8\n",
      "655    5555        49  153924   3814 days       Divorced              6\n"
     ]
    }
   ],
   "source": [
    "# Quartiles and IQR\n",
    "quartiles = data[\"Income\"].quantile([0.25, 0.75])\n",
    "iqr = quartiles[0.75] - quartiles[0.25]\n",
    "\n",
    "# Identify Outliers\n",
    "lower_bound = quartiles[0.25] - 1.5 * iqr\n",
    "upper_bound = quartiles[0.75] + 1.5 * iqr\n",
    "\n",
    "# Filtering\n",
    "income_outliers = data[(data[\"Income\"] < lower_bound) | \n",
    "                (data[\"Income\"] > upper_bound)]\n",
    "\n",
    "print(\"IQR: \", iqr)\n",
    "print(\"outliers: \")\n",
    "print(income_outliers[[\"ID\", \"Year_Old\", \"Income\", \"CustomerFor\", \n",
    "                \"Marital_Status\", \"MntSpentTotal\"]]\\\n",
    "                    .sort_values(\"Income\", ascending=False))\n",
    "\n",
    "# Extracting logically incoherent Outlier from the Dataset\n",
    "income_excluded = data.drop(2233, inplace=True)"
   ]
  },
  {
   "cell_type": "code",
   "execution_count": 20,
   "metadata": {},
   "outputs": [
    {
     "name": "stdout",
     "output_type": "stream",
     "text": [
      "         ID  Year_Old  Income CustomerFor Marital_Status  MntSpentTotal\n",
      "153      92        36   34176   3720 days          Alone             89\n",
      "131     433        66   61331   4148 days          Alone            632\n",
      "2177    492        51   48432   4291 days           YOLO            424\n",
      "339    1150       125   83532   3948 days       Together           1853\n",
      "133    1295        61    <NA>   3994 days        Married            725\n",
      "2061   1612        43    <NA>   4066 days         Single             47\n",
      "10     1994        41    <NA>   3898 days        Married             19\n",
      "312    2437        35    <NA>   4063 days        Married           1611\n",
      "319    2863        54    <NA>   3982 days         Single           1052\n",
      "1382   2902        66    <NA>   4336 days       Together             45\n",
      "2081   3117        69    <NA>   3926 days         Single            450\n",
      "1386   3769        52    <NA>   3791 days       Together             42\n",
      "1383   4345        60    <NA>   3840 days         Single             21\n",
      "2134   4369        67   65487   3842 days         Absurd           1169\n",
      "2078   5079        53    <NA>   4155 days        Married             97\n",
      "2084   5250        81    <NA>   3914 days          Widow           1564\n",
      "27     5255        38    <NA>   4166 days         Single            637\n",
      "92     5798        51    <NA>   3890 days       Together            985\n",
      "2059   7187        55    <NA>   4079 days       Together            721\n",
      "48     7244        73    <NA>   3851 days         Single            124\n",
      "43     7281        65    <NA>   3908 days         Single            186\n",
      "138    7660        51   35860   3713 days          Alone             49\n",
      "2093   7734        31   79244   4229 days         Absurd           1216\n",
      "192    7829       124   36640   3948 days       Divorced             65\n",
      "128    8268        63    <NA>   4025 days        Married            404\n",
      "58     8557        42    <NA>   4049 days         Single             46\n",
      "2228   8720        46    <NA>   4358 days       Together           1679\n",
      "90     8996        67    <NA>   4259 days        Married            603\n",
      "91     9235        67    <NA>   3705 days         Single             18\n",
      "2079  10339        70    <NA>   4043 days       Together            207\n",
      "1379  10475        54    <NA>   4126 days       Together            317\n",
      "71    10629        51    <NA>   4325 days        Married            109\n",
      "239   11004       131   60182   3715 days         Single             22\n",
      "2202  11133        51   48432   4291 days           YOLO            424\n"
     ]
    }
   ],
   "source": [
    "# Storing excluded entries\n",
    "\n",
    "data_excluded = pd.concat([income_excluded, \n",
    "                          Year_Old_outliers, \n",
    "                          marital_filt, \n",
    "                          row_nan])\n",
    "\n",
    "print(data_excluded[[\"ID\", \"Year_Old\", \"Income\", \"CustomerFor\", \n",
    "                \"Marital_Status\", \"MntSpentTotal\"]]\\\n",
    "                    .sort_values(\"ID\"))"
   ]
  },
  {
   "cell_type": "markdown",
   "metadata": {},
   "source": [
    "## New Categorical columns"
   ]
  },
  {
   "cell_type": "code",
   "execution_count": 21,
   "metadata": {},
   "outputs": [
    {
     "name": "stdout",
     "output_type": "stream",
     "text": [
      "min     28.000000\n",
      "mean    55.101134\n",
      "max     84.000000\n",
      "Name: Year_Old, dtype: float64\n",
      "\n",
      "        ID  Year_Old Age_cat  Income\n",
      "1807  3130        60   55_64   18701\n",
      "2041  4974        54   45_54   83273\n",
      "1451  6652        59   55_64   77343\n",
      "1475  3697        70   65_74   39898\n",
      "1394  2587        52   45_54   29791\n"
     ]
    }
   ],
   "source": [
    "# Age binning categories\n",
    "\n",
    "print(data[\"Year_Old\"].describe()[[\"min\", \"mean\", \"max\"]])\n",
    "\n",
    "bins = [25, 35, 45, 55, 65, 75, 2000]\n",
    "labels = [\"25_34\", \"35_44\", \"45_54\", \"55_64\", \"65_74\", \"75_above\"]\n",
    "\n",
    "data[\"Age_cat\"] = pd.cut(data[\"Year_Old\"], bins, labels=labels, right=False)\n",
    "\n",
    "print(\"\\n\", data[[\"ID\", \"Year_Old\", \"Age_cat\", \"Income\"]].sample(5), sep='')"
   ]
  },
  {
   "cell_type": "code",
   "execution_count": 22,
   "metadata": {},
   "outputs": [
    {
     "name": "stdout",
     "output_type": "stream",
     "text": [
      "min          1730.0\n",
      "mean    51954.61542\n",
      "max        162397.0\n",
      "Name: Income, dtype: Float64\n",
      "\n",
      "        ID   Age_cat  Income Income_cat\n",
      "103   9370  75_above   65846         D4\n",
      "1547  5636     55_64   30983         D2\n",
      "1196  2246     55_64   46891         D3\n",
      "1085  6295     45_54   54233         D4\n",
      "1315  6197     55_64   27238         D2\n"
     ]
    }
   ],
   "source": [
    "# Income binning categories\n",
    "\n",
    "print(data[\"Income\"].describe()[[\"min\", \"mean\", \"max\"]])\n",
    "\n",
    "labels = [f\"D{i+1}\" for i in np.arange(0,10)]\n",
    "\n",
    "data[\"Income_cat\"] = pd.cut(data[\"Income\"], 10, precision=0, labels=labels)\n",
    "\n",
    "print(\"\\n\", data[[\"ID\", \"Age_cat\", \"Income\", \"Income_cat\"]].sample(5), sep='')\n"
   ]
  },
  {
   "cell_type": "code",
   "execution_count": 23,
   "metadata": {},
   "outputs": [
    {
     "name": "stdout",
     "output_type": "stream",
     "text": [
      "min        5.000000\n",
      "mean     607.380499\n",
      "max     2525.000000\n",
      "Name: MntSpentTotal, dtype: float64\n",
      "\n",
      "         ID Age_cat  Income      MntTotal_cat  MntSpentTotal\n",
      "226    7375   45_54   51369    [425.0, 845.0)            576\n",
      "1904  10951   55_64   45688    [256.0, 340.0)            306\n",
      "342    9707   55_64   55212   [845.0, 1265.0)           1182\n",
      "1411   9121   45_54   80134  [1685.0, 2105.0)           1690\n",
      "1502   3340   45_54   42014    [425.0, 845.0)            436\n"
     ]
    }
   ],
   "source": [
    "# Total amount spent binning categories\n",
    "\n",
    "print(data[\"MntSpentTotal\"].describe()[[\"min\", \"mean\", \"max\"]])\n",
    "\n",
    "data[\"MntTotal_cat\"], intervals = pd.cut(data[\"MntSpentTotal\"], 6, \n",
    "                                         precision=0, retbins=True)\n",
    "\n",
    "# Exploring bins:\n",
    "# print(\"\\n\", data[\"MntTotal_cat\"].value_counts().sort_index(), sep='')\n",
    "\n",
    "# Creating new, more descriptive bins\n",
    "temp, first_int = pd.cut(np.arange(2, 426), 5, retbins=True)\n",
    "bins = list(first_int) + list(intervals[2:])\n",
    "\n",
    "data[\"MntTotal_cat\"], intervals = pd.cut(data[\"MntSpentTotal\"], bins, \n",
    "                                         precision=0, right=False, \n",
    "                                         retbins=True)\n",
    "\n",
    "print(\"\\n\", data[[\"ID\", \"Age_cat\", \n",
    "                  \"Income\", \"MntTotal_cat\", \n",
    "                  \"MntSpentTotal\"]].sample(5), sep='')\n"
   ]
  },
  {
   "cell_type": "code",
   "execution_count": 24,
   "metadata": {},
   "outputs": [
    {
     "name": "stdout",
     "output_type": "stream",
     "text": [
      "min      0.000000\n",
      "mean    49.082993\n",
      "max     99.000000\n",
      "Name: Recency, dtype: float64\n",
      "\n",
      "         MntTotal_cat Age_cat Income_cat Recency_cat\n",
      "704    [171.0, 256.0)   55_64         D3        0_24\n",
      "493   [845.0, 1265.0)   55_64         D4       75_99\n",
      "2107   [425.0, 845.0)   45_54         D5        0_24\n",
      "1395   [425.0, 845.0)   65_74         D4        0_24\n",
      "2097   [256.0, 340.0)   65_74         D4       25_49\n"
     ]
    }
   ],
   "source": [
    "# Recency binning categories\n",
    "\n",
    "print(data[\"Recency\"].describe()[[\"min\", \"mean\", \"max\"]])\n",
    "\n",
    "labels = [\"0_24\", \"25_49\", \"50_74\", \"75_99\"]\n",
    "\n",
    "data[\"Recency_cat\"] = pd.cut(data[\"Recency\"], 4, precision=0, labels=labels)\n",
    "\n",
    "print(\"\\n\", data[[\"MntTotal_cat\", \"Age_cat\", \n",
    "                  \"Income_cat\", \"Recency_cat\"]].sample(5), sep='')\n"
   ]
  },
  {
   "cell_type": "code",
   "execution_count": 25,
   "metadata": {},
   "outputs": [
    {
     "name": "stdout",
     "output_type": "stream",
     "text": [
      "There are duplicated customers based on 'ID' column?: False\n"
     ]
    }
   ],
   "source": [
    "# Check duplicated customers\n",
    "duplicated = data[\"ID\"].duplicated().any()\n",
    "print(f\"There are duplicated customers based on 'ID' column?: {duplicated}\")"
   ]
  },
  {
   "cell_type": "code",
   "execution_count": 26,
   "metadata": {},
   "outputs": [],
   "source": [
    "# standardizing int dtype\n",
    "\n",
    "for col in data.columns:\n",
    "    if data[col].dtype == \"int64\":\n",
    "        data[col] = data[col].astype(\"Int64\")"
   ]
  },
  {
   "cell_type": "markdown",
   "metadata": {},
   "source": [
    "## Saving new Dataset"
   ]
  },
  {
   "cell_type": "code",
   "execution_count": 27,
   "metadata": {},
   "outputs": [
    {
     "name": "stdout",
     "output_type": "stream",
     "text": [
      "<class 'pandas.core.frame.DataFrame'>\n",
      "Index: 2205 entries, 0 to 2239\n",
      "Data columns (total 40 columns):\n",
      " #   Column               Non-Null Count  Dtype          \n",
      "---  ------               --------------  -----          \n",
      " 0   ID                   2205 non-null   Int64          \n",
      " 1   Year_Birth           2205 non-null   Int64          \n",
      " 2   Year_Old             2205 non-null   Int64          \n",
      " 3   CustomerFor          2205 non-null   timedelta64[ns]\n",
      " 4   Dt_Customer          2205 non-null   datetime64[ns] \n",
      " 5   Education            2205 non-null   category       \n",
      " 6   Marital_Status       2205 non-null   category       \n",
      " 7   Income               2205 non-null   Int64          \n",
      " 8   Kidhome              2205 non-null   Int64          \n",
      " 9   Teenhome             2205 non-null   Int64          \n",
      " 10  ChildrenHome         2205 non-null   Int64          \n",
      " 11  Recency              2205 non-null   Int64          \n",
      " 12  MntSpentTotal        2205 non-null   Int64          \n",
      " 13  MntWines             2205 non-null   Int64          \n",
      " 14  MntFruits            2205 non-null   Int64          \n",
      " 15  MntMeatProducts      2205 non-null   Int64          \n",
      " 16  MntFishProducts      2205 non-null   Int64          \n",
      " 17  MntSweetProducts     2205 non-null   Int64          \n",
      " 18  MntGoldProds         2205 non-null   Int64          \n",
      " 19  PurchaseLastMonth    2205 non-null   Int64          \n",
      " 20  NumPurchasesTotal    2205 non-null   Int64          \n",
      " 21  NumDealsPurchases    2205 non-null   Int64          \n",
      " 22  NumWebPurchases      2205 non-null   Int64          \n",
      " 23  NumCatalogPurchases  2205 non-null   Int64          \n",
      " 24  NumStorePurchases    2205 non-null   Int64          \n",
      " 25  NumWebVisitsMonth    2205 non-null   Int64          \n",
      " 26  AcceptedCmp1         2205 non-null   Int64          \n",
      " 27  AcceptedCmp2         2205 non-null   Int64          \n",
      " 28  AcceptedCmp3         2205 non-null   Int64          \n",
      " 29  AcceptedCmp4         2205 non-null   Int64          \n",
      " 30  AcceptedCmp5         2205 non-null   Int64          \n",
      " 31  Response             2205 non-null   Int64          \n",
      " 32  AcceptedCmpTotal     2205 non-null   Int64          \n",
      " 33  Complain             2205 non-null   Int64          \n",
      " 34  Z_CostContact        2205 non-null   Int64          \n",
      " 35  Z_Revenue            2205 non-null   Int64          \n",
      " 36  Age_cat              2205 non-null   category       \n",
      " 37  Income_cat           2205 non-null   category       \n",
      " 38  MntTotal_cat         2203 non-null   category       \n",
      " 39  Recency_cat          2205 non-null   category       \n",
      "dtypes: Int64(32), category(6), datetime64[ns](1), timedelta64[ns](1)\n",
      "memory usage: 686.6 KB\n"
     ]
    }
   ],
   "source": [
    "data.info()"
   ]
  },
  {
   "cell_type": "code",
   "execution_count": 28,
   "metadata": {},
   "outputs": [],
   "source": [
    "# Saving DataFrame as csv\n",
    "data.to_csv(\"../data/ifood_cleaned.csv\", index=False)\n",
    "\n",
    "# Saving dtypes of each column\n",
    "data_dtypes = data.dtypes.to_frame('dtypes').reset_index()\n",
    "dict = data_dtypes.set_index('index')['dtypes'].astype(str).to_dict()\n",
    "\n",
    "with open('../data/cleaned_dtypes.json', 'w') as f:\n",
    "    json.dump(dict, f)\n",
    "\n",
    "# Storing excluded rows\n",
    "data.to_csv(\"../data/ifood_excluded.csv\", index=False)"
   ]
  },
  {
   "cell_type": "code",
   "execution_count": 29,
   "metadata": {},
   "outputs": [
    {
     "name": "stdout",
     "output_type": "stream",
     "text": [
      "\n",
      "\tMemory used: 149.75 MB\n",
      "\n",
      "-----\n",
      "datetime    NA\n",
      "json        2.0.9\n",
      "numpy       1.26.4\n",
      "pandas      2.2.2\n",
      "pathlib     NA\n",
      "psutil      6.0.0\n",
      "scipy       1.14.0\n",
      "sinfo       0.3.1\n",
      "warnings    NA\n",
      "-----\n",
      "IPython             8.26.0\n",
      "jupyter_client      8.6.2\n",
      "jupyter_core        5.7.2\n",
      "-----\n",
      "Python 3.12.4 | packaged by conda-forge | (main, Jun 17 2024, 10:04:44) [MSC v.1940 64 bit (AMD64)]\n",
      "Windows-10-10.0.19045-SP0\n",
      "None\n",
      "-----\n",
      "Session information updated at 2024-07-18 09:25\n"
     ]
    }
   ],
   "source": [
    "# Notebook info\n",
    "process = psutil.Process()\n",
    "memory_used = process.memory_info().rss / (1024 ** 2)  # MB\n",
    "\n",
    "print(f\"\\n\\tMemory used: {memory_used:.2f} MB\\n\")\n",
    "\n",
    "sinfo(\n",
    "    na=True,\n",
    "    os=True,\n",
    "    cpu=False,\n",
    "    jupyter=True,\n",
    "    std_lib=True,\n",
    "    write_req_file=False,\n",
    ")"
   ]
  }
 ],
 "metadata": {
  "kernelspec": {
   "display_name": "learning",
   "language": "python",
   "name": "python3"
  },
  "language_info": {
   "codemirror_mode": {
    "name": "ipython",
    "version": 3
   },
   "file_extension": ".py",
   "mimetype": "text/x-python",
   "name": "python",
   "nbconvert_exporter": "python",
   "pygments_lexer": "ipython3",
   "version": "3.12.4"
  }
 },
 "nbformat": 4,
 "nbformat_minor": 2
}
