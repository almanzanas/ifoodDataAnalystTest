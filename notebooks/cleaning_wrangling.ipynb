{
 "cells": [
  {
   "cell_type": "markdown",
   "metadata": {},
   "source": [
    "# Data Cleaning and Data Wrangling\n",
    "\n",
    "## Data\n",
    "\n",
    "Dataset contains socio-demographic and firmographic features about 2.240 \n",
    "customers.\n",
    "\n",
    "|Feature |Description|\n",
    "|--:|---|\n",
    "|AcceptedCmp1| 1 if customer accepted the offer in the 1st campaign, 0 otherwise|\n",
    "|AcceptedCmp2| 1 if customer accepted the offer in the 2nd campaign, 0 otherwise|\n",
    "|AcceptedCmp3| 1 if customer accepted the offer in the 3rd campaign, 0 otherwise|\n",
    "|AcceptedCmp4| 1 if customer accepted the offer in the 4th campaign, 0 otherwise|\n",
    "|AcceptedCmp5| 1 if customer accepted the offer in the 5th campaign, 0 otherwise|\n",
    "|Response (target)| 1 if customer accepted the offer in the last campaign, 0 otherwise|\n",
    "|Complain| 1 if customer complained in the last 2 years|\n",
    "|DtCustomer| date of customer's enrollment with the company|\n",
    "|Education| customer's level of education|\n",
    "|Marital| customer's marital status|\n",
    "|Kidhome| number of small children in customer's household|\n",
    "|Teenhome |number of teenagers in customer's household|\n",
    "|Income| customer's yearly household income|\n",
    "|MntFishProducts| amount spent on fish products in the last 2 years|\n",
    "|MntMeatProducts| amount spent on meat products in the last 2 years|\n",
    "|MntFruits| amount spent on fruits products in the last 2 years|\n",
    "|MntSweetProducts| amount spent on sweet products in the last 2 years|\n",
    "|MntWines| amount spent on wines products in the last 2 years|\n",
    "|MntGoldProds| amount spent on gold products in the last 2 years|\n",
    "|NumDealsPurchases| number of purchases made with discount|\n",
    "|NunCatalogPurchases| number of purchases made using catalog|\n",
    "|NunStorePurchases| number of purchases made directly in stores|\n",
    "|NumWebPurchases| number of purchases made through company's web site|\n",
    "|NumWebVisitsMonth| number of visits to company's web site in the last month|\n",
    "|Recency|number of days since the last purchase|\n",
    "|Z_Revenue|revenue from the new gadget|\n",
    "|Z_CostContact|cost of contact for the sixth campaign|"
   ]
  },
  {
   "cell_type": "code",
   "execution_count": 1,
   "metadata": {},
   "outputs": [],
   "source": [
    "import numpy as np\n",
    "import pandas as pd\n",
    "from pathlib import Path\n",
    "from datetime import datetime\n",
    "from scipy import stats\n",
    "from scipy.stats import kstest\n",
    "\n",
    "import warnings\n",
    "warnings.filterwarnings(\"ignore\")"
   ]
  },
  {
   "cell_type": "markdown",
   "metadata": {},
   "source": [
    "## Data Exploration"
   ]
  },
  {
   "cell_type": "code",
   "execution_count": 2,
   "metadata": {},
   "outputs": [
    {
     "data": {
      "text/html": [
       "<div>\n",
       "<style scoped>\n",
       "    .dataframe tbody tr th:only-of-type {\n",
       "        vertical-align: middle;\n",
       "    }\n",
       "\n",
       "    .dataframe tbody tr th {\n",
       "        vertical-align: top;\n",
       "    }\n",
       "\n",
       "    .dataframe thead th {\n",
       "        text-align: right;\n",
       "    }\n",
       "</style>\n",
       "<table border=\"1\" class=\"dataframe\">\n",
       "  <thead>\n",
       "    <tr style=\"text-align: right;\">\n",
       "      <th></th>\n",
       "      <th>ID</th>\n",
       "      <th>Year_Birth</th>\n",
       "      <th>Education</th>\n",
       "      <th>Marital_Status</th>\n",
       "      <th>Income</th>\n",
       "      <th>Kidhome</th>\n",
       "      <th>Teenhome</th>\n",
       "      <th>Dt_Customer</th>\n",
       "      <th>Recency</th>\n",
       "      <th>MntWines</th>\n",
       "      <th>...</th>\n",
       "      <th>NumWebVisitsMonth</th>\n",
       "      <th>AcceptedCmp3</th>\n",
       "      <th>AcceptedCmp4</th>\n",
       "      <th>AcceptedCmp5</th>\n",
       "      <th>AcceptedCmp1</th>\n",
       "      <th>AcceptedCmp2</th>\n",
       "      <th>Complain</th>\n",
       "      <th>Z_CostContact</th>\n",
       "      <th>Z_Revenue</th>\n",
       "      <th>Response</th>\n",
       "    </tr>\n",
       "  </thead>\n",
       "  <tbody>\n",
       "    <tr>\n",
       "      <th>1436</th>\n",
       "      <td>8588</td>\n",
       "      <td>1961</td>\n",
       "      <td>Graduation</td>\n",
       "      <td>Married</td>\n",
       "      <td>60544.0</td>\n",
       "      <td>1</td>\n",
       "      <td>1</td>\n",
       "      <td>2012-08-25</td>\n",
       "      <td>92</td>\n",
       "      <td>201</td>\n",
       "      <td>...</td>\n",
       "      <td>6</td>\n",
       "      <td>0</td>\n",
       "      <td>0</td>\n",
       "      <td>0</td>\n",
       "      <td>0</td>\n",
       "      <td>0</td>\n",
       "      <td>0</td>\n",
       "      <td>3</td>\n",
       "      <td>11</td>\n",
       "      <td>0</td>\n",
       "    </tr>\n",
       "    <tr>\n",
       "      <th>2228</th>\n",
       "      <td>8720</td>\n",
       "      <td>1978</td>\n",
       "      <td>2n Cycle</td>\n",
       "      <td>Together</td>\n",
       "      <td>NaN</td>\n",
       "      <td>0</td>\n",
       "      <td>0</td>\n",
       "      <td>2012-08-12</td>\n",
       "      <td>53</td>\n",
       "      <td>32</td>\n",
       "      <td>...</td>\n",
       "      <td>0</td>\n",
       "      <td>0</td>\n",
       "      <td>1</td>\n",
       "      <td>0</td>\n",
       "      <td>0</td>\n",
       "      <td>0</td>\n",
       "      <td>0</td>\n",
       "      <td>3</td>\n",
       "      <td>11</td>\n",
       "      <td>0</td>\n",
       "    </tr>\n",
       "    <tr>\n",
       "      <th>1243</th>\n",
       "      <td>7718</td>\n",
       "      <td>1947</td>\n",
       "      <td>Master</td>\n",
       "      <td>Together</td>\n",
       "      <td>66000.0</td>\n",
       "      <td>0</td>\n",
       "      <td>0</td>\n",
       "      <td>2014-04-20</td>\n",
       "      <td>36</td>\n",
       "      <td>244</td>\n",
       "      <td>...</td>\n",
       "      <td>1</td>\n",
       "      <td>0</td>\n",
       "      <td>0</td>\n",
       "      <td>0</td>\n",
       "      <td>0</td>\n",
       "      <td>0</td>\n",
       "      <td>0</td>\n",
       "      <td>3</td>\n",
       "      <td>11</td>\n",
       "      <td>0</td>\n",
       "    </tr>\n",
       "    <tr>\n",
       "      <th>1319</th>\n",
       "      <td>8749</td>\n",
       "      <td>1984</td>\n",
       "      <td>Graduation</td>\n",
       "      <td>Together</td>\n",
       "      <td>37235.0</td>\n",
       "      <td>1</td>\n",
       "      <td>0</td>\n",
       "      <td>2014-02-01</td>\n",
       "      <td>68</td>\n",
       "      <td>20</td>\n",
       "      <td>...</td>\n",
       "      <td>4</td>\n",
       "      <td>0</td>\n",
       "      <td>0</td>\n",
       "      <td>0</td>\n",
       "      <td>0</td>\n",
       "      <td>0</td>\n",
       "      <td>0</td>\n",
       "      <td>3</td>\n",
       "      <td>11</td>\n",
       "      <td>0</td>\n",
       "    </tr>\n",
       "    <tr>\n",
       "      <th>2017</th>\n",
       "      <td>10598</td>\n",
       "      <td>1967</td>\n",
       "      <td>Graduation</td>\n",
       "      <td>Together</td>\n",
       "      <td>27943.0</td>\n",
       "      <td>1</td>\n",
       "      <td>1</td>\n",
       "      <td>2013-04-15</td>\n",
       "      <td>89</td>\n",
       "      <td>12</td>\n",
       "      <td>...</td>\n",
       "      <td>8</td>\n",
       "      <td>0</td>\n",
       "      <td>0</td>\n",
       "      <td>0</td>\n",
       "      <td>0</td>\n",
       "      <td>0</td>\n",
       "      <td>0</td>\n",
       "      <td>3</td>\n",
       "      <td>11</td>\n",
       "      <td>0</td>\n",
       "    </tr>\n",
       "    <tr>\n",
       "      <th>1014</th>\n",
       "      <td>5313</td>\n",
       "      <td>1971</td>\n",
       "      <td>Master</td>\n",
       "      <td>Married</td>\n",
       "      <td>38196.0</td>\n",
       "      <td>1</td>\n",
       "      <td>1</td>\n",
       "      <td>2014-04-18</td>\n",
       "      <td>20</td>\n",
       "      <td>30</td>\n",
       "      <td>...</td>\n",
       "      <td>5</td>\n",
       "      <td>0</td>\n",
       "      <td>0</td>\n",
       "      <td>0</td>\n",
       "      <td>0</td>\n",
       "      <td>0</td>\n",
       "      <td>0</td>\n",
       "      <td>3</td>\n",
       "      <td>11</td>\n",
       "      <td>0</td>\n",
       "    </tr>\n",
       "    <tr>\n",
       "      <th>1303</th>\n",
       "      <td>3099</td>\n",
       "      <td>1970</td>\n",
       "      <td>Graduation</td>\n",
       "      <td>Divorced</td>\n",
       "      <td>44267.0</td>\n",
       "      <td>1</td>\n",
       "      <td>1</td>\n",
       "      <td>2013-02-25</td>\n",
       "      <td>48</td>\n",
       "      <td>183</td>\n",
       "      <td>...</td>\n",
       "      <td>9</td>\n",
       "      <td>0</td>\n",
       "      <td>0</td>\n",
       "      <td>0</td>\n",
       "      <td>0</td>\n",
       "      <td>0</td>\n",
       "      <td>0</td>\n",
       "      <td>3</td>\n",
       "      <td>11</td>\n",
       "      <td>0</td>\n",
       "    </tr>\n",
       "    <tr>\n",
       "      <th>296</th>\n",
       "      <td>2874</td>\n",
       "      <td>1988</td>\n",
       "      <td>2n Cycle</td>\n",
       "      <td>Divorced</td>\n",
       "      <td>35388.0</td>\n",
       "      <td>1</td>\n",
       "      <td>0</td>\n",
       "      <td>2013-03-07</td>\n",
       "      <td>20</td>\n",
       "      <td>6</td>\n",
       "      <td>...</td>\n",
       "      <td>7</td>\n",
       "      <td>0</td>\n",
       "      <td>0</td>\n",
       "      <td>0</td>\n",
       "      <td>0</td>\n",
       "      <td>0</td>\n",
       "      <td>0</td>\n",
       "      <td>3</td>\n",
       "      <td>11</td>\n",
       "      <td>0</td>\n",
       "    </tr>\n",
       "  </tbody>\n",
       "</table>\n",
       "<p>8 rows × 29 columns</p>\n",
       "</div>"
      ],
      "text/plain": [
       "         ID  Year_Birth   Education Marital_Status   Income  Kidhome  \\\n",
       "1436   8588        1961  Graduation        Married  60544.0        1   \n",
       "2228   8720        1978    2n Cycle       Together      NaN        0   \n",
       "1243   7718        1947      Master       Together  66000.0        0   \n",
       "1319   8749        1984  Graduation       Together  37235.0        1   \n",
       "2017  10598        1967  Graduation       Together  27943.0        1   \n",
       "1014   5313        1971      Master        Married  38196.0        1   \n",
       "1303   3099        1970  Graduation       Divorced  44267.0        1   \n",
       "296    2874        1988    2n Cycle       Divorced  35388.0        1   \n",
       "\n",
       "      Teenhome Dt_Customer  Recency  MntWines  ...  NumWebVisitsMonth  \\\n",
       "1436         1  2012-08-25       92       201  ...                  6   \n",
       "2228         0  2012-08-12       53        32  ...                  0   \n",
       "1243         0  2014-04-20       36       244  ...                  1   \n",
       "1319         0  2014-02-01       68        20  ...                  4   \n",
       "2017         1  2013-04-15       89        12  ...                  8   \n",
       "1014         1  2014-04-18       20        30  ...                  5   \n",
       "1303         1  2013-02-25       48       183  ...                  9   \n",
       "296          0  2013-03-07       20         6  ...                  7   \n",
       "\n",
       "      AcceptedCmp3  AcceptedCmp4  AcceptedCmp5  AcceptedCmp1  AcceptedCmp2  \\\n",
       "1436             0             0             0             0             0   \n",
       "2228             0             1             0             0             0   \n",
       "1243             0             0             0             0             0   \n",
       "1319             0             0             0             0             0   \n",
       "2017             0             0             0             0             0   \n",
       "1014             0             0             0             0             0   \n",
       "1303             0             0             0             0             0   \n",
       "296              0             0             0             0             0   \n",
       "\n",
       "      Complain  Z_CostContact  Z_Revenue  Response  \n",
       "1436         0              3         11         0  \n",
       "2228         0              3         11         0  \n",
       "1243         0              3         11         0  \n",
       "1319         0              3         11         0  \n",
       "2017         0              3         11         0  \n",
       "1014         0              3         11         0  \n",
       "1303         0              3         11         0  \n",
       "296          0              3         11         0  \n",
       "\n",
       "[8 rows x 29 columns]"
      ]
     },
     "execution_count": 2,
     "metadata": {},
     "output_type": "execute_result"
    }
   ],
   "source": [
    "# Storing path\n",
    "path = Path(\"../data/ifood_customers.csv\")\n",
    "\n",
    "# Read CSV with pandas\n",
    "data = pd.read_csv(path)\n",
    "\n",
    "# showing a sample of the dataset\n",
    "data.sample(8)"
   ]
  },
  {
   "cell_type": "code",
   "execution_count": 3,
   "metadata": {},
   "outputs": [
    {
     "name": "stdout",
     "output_type": "stream",
     "text": [
      "<class 'pandas.core.frame.DataFrame'>\n",
      "RangeIndex: 2240 entries, 0 to 2239\n",
      "Data columns (total 29 columns):\n",
      " #   Column               Non-Null Count  Dtype  \n",
      "---  ------               --------------  -----  \n",
      " 0   ID                   2240 non-null   int64  \n",
      " 1   Year_Birth           2240 non-null   int64  \n",
      " 2   Education            2240 non-null   object \n",
      " 3   Marital_Status       2240 non-null   object \n",
      " 4   Income               2216 non-null   float64\n",
      " 5   Kidhome              2240 non-null   int64  \n",
      " 6   Teenhome             2240 non-null   int64  \n",
      " 7   Dt_Customer          2240 non-null   object \n",
      " 8   Recency              2240 non-null   int64  \n",
      " 9   MntWines             2240 non-null   int64  \n",
      " 10  MntFruits            2240 non-null   int64  \n",
      " 11  MntMeatProducts      2240 non-null   int64  \n",
      " 12  MntFishProducts      2240 non-null   int64  \n",
      " 13  MntSweetProducts     2240 non-null   int64  \n",
      " 14  MntGoldProds         2240 non-null   int64  \n",
      " 15  NumDealsPurchases    2240 non-null   int64  \n",
      " 16  NumWebPurchases      2240 non-null   int64  \n",
      " 17  NumCatalogPurchases  2240 non-null   int64  \n",
      " 18  NumStorePurchases    2240 non-null   int64  \n",
      " 19  NumWebVisitsMonth    2240 non-null   int64  \n",
      " 20  AcceptedCmp3         2240 non-null   int64  \n",
      " 21  AcceptedCmp4         2240 non-null   int64  \n",
      " 22  AcceptedCmp5         2240 non-null   int64  \n",
      " 23  AcceptedCmp1         2240 non-null   int64  \n",
      " 24  AcceptedCmp2         2240 non-null   int64  \n",
      " 25  Complain             2240 non-null   int64  \n",
      " 26  Z_CostContact        2240 non-null   int64  \n",
      " 27  Z_Revenue            2240 non-null   int64  \n",
      " 28  Response             2240 non-null   int64  \n",
      "dtypes: float64(1), int64(25), object(3)\n",
      "memory usage: 507.6+ KB\n"
     ]
    }
   ],
   "source": [
    "# Exploring the columns and dtype\n",
    "\n",
    "data.info()"
   ]
  },
  {
   "cell_type": "code",
   "execution_count": 4,
   "metadata": {},
   "outputs": [
    {
     "name": "stdout",
     "output_type": "stream",
     "text": [
      "\n",
      "'Education' Column Values:\n",
      "\t['Graduation' 'PhD' 'Master' 'Basic' '2n Cycle']\n",
      "\n",
      "'Marital_Status' Column Values:\n",
      "\t['Single' 'Together' 'Married' 'Divorced' 'Widow' 'Alone' 'Absurd' 'YOLO']\n",
      "\n",
      "'Dt_Customer' Column sample:\n",
      "223     2013-01-05\n",
      "1346    2013-02-10\n",
      "1329    2013-11-17\n",
      "Name: Dt_Customer, dtype: object\n",
      "\t\n"
     ]
    }
   ],
   "source": [
    "# Exploring unique values in some columns\n",
    "\n",
    "print(\"\\n'Education' Column Values:\\n\", \"\\t\",\n",
    "      data[\"Education\"].unique(),\n",
    "      sep=''\n",
    "      )\n",
    "\n",
    "print(\"\\n'Marital_Status' Column Values:\\n\", \"\\t\",\n",
    "      data[\"Marital_Status\"].unique(),\n",
    "      sep=''\n",
    "      )\n",
    "\n",
    "print(\"\\n'Dt_Customer' Column sample:\\n\",\n",
    "      data[\"Dt_Customer\"].sample(3), \"\\n\", \"\\t\",\n",
    "      sep=''\n",
    "      )\n"
   ]
  },
  {
   "cell_type": "markdown",
   "metadata": {},
   "source": [
    "## Creating columns"
   ]
  },
  {
   "cell_type": "code",
   "execution_count": 5,
   "metadata": {},
   "outputs": [
    {
     "name": "stdout",
     "output_type": "stream",
     "text": [
      "<class 'pandas.core.frame.DataFrame'>\n",
      "RangeIndex: 2240 entries, 0 to 2239\n",
      "Data columns (total 29 columns):\n",
      " #   Column               Non-Null Count  Dtype         \n",
      "---  ------               --------------  -----         \n",
      " 0   ID                   2240 non-null   int64         \n",
      " 1   Year_Birth           2240 non-null   int64         \n",
      " 2   Education            2240 non-null   category      \n",
      " 3   Marital_Status       2240 non-null   category      \n",
      " 4   Income               2216 non-null   Int64         \n",
      " 5   Kidhome              2240 non-null   int64         \n",
      " 6   Teenhome             2240 non-null   int64         \n",
      " 7   Dt_Customer          2240 non-null   datetime64[ns]\n",
      " 8   Recency              2240 non-null   int64         \n",
      " 9   MntWines             2240 non-null   int64         \n",
      " 10  MntFruits            2240 non-null   int64         \n",
      " 11  MntMeatProducts      2240 non-null   int64         \n",
      " 12  MntFishProducts      2240 non-null   int64         \n",
      " 13  MntSweetProducts     2240 non-null   int64         \n",
      " 14  MntGoldProds         2240 non-null   int64         \n",
      " 15  NumDealsPurchases    2240 non-null   int64         \n",
      " 16  NumWebPurchases      2240 non-null   int64         \n",
      " 17  NumCatalogPurchases  2240 non-null   int64         \n",
      " 18  NumStorePurchases    2240 non-null   int64         \n",
      " 19  NumWebVisitsMonth    2240 non-null   int64         \n",
      " 20  AcceptedCmp3         2240 non-null   int64         \n",
      " 21  AcceptedCmp4         2240 non-null   int64         \n",
      " 22  AcceptedCmp5         2240 non-null   int64         \n",
      " 23  AcceptedCmp1         2240 non-null   int64         \n",
      " 24  AcceptedCmp2         2240 non-null   int64         \n",
      " 25  Complain             2240 non-null   int64         \n",
      " 26  Z_CostContact        2240 non-null   int64         \n",
      " 27  Z_Revenue            2240 non-null   int64         \n",
      " 28  Response             2240 non-null   int64         \n",
      "dtypes: Int64(1), category(2), datetime64[ns](1), int64(25)\n",
      "memory usage: 479.8 KB\n"
     ]
    }
   ],
   "source": [
    "# Stabilizing dtype 'category' to Education and Marital_Status columns\n",
    "# Also Dt_Customer to Datetime dtype and Income to 'Int64'\n",
    "\n",
    "data[\"Income\"] = data[\"Income\"].astype(\"Int64\")\n",
    "data[\"Education\"] = data[\"Education\"].astype(\"category\")\n",
    "data[\"Marital_Status\"] = data[\"Marital_Status\"].astype(\"category\")\n",
    "data[\"Dt_Customer\"] = pd.to_datetime(data[\"Dt_Customer\"], format=\"%Y-%m-%d\")\n",
    "\n",
    "data.info()\n"
   ]
  },
  {
   "cell_type": "code",
   "execution_count": 6,
   "metadata": {},
   "outputs": [
    {
     "data": {
      "text/html": [
       "<div>\n",
       "<style scoped>\n",
       "    .dataframe tbody tr th:only-of-type {\n",
       "        vertical-align: middle;\n",
       "    }\n",
       "\n",
       "    .dataframe tbody tr th {\n",
       "        vertical-align: top;\n",
       "    }\n",
       "\n",
       "    .dataframe thead th {\n",
       "        text-align: right;\n",
       "    }\n",
       "</style>\n",
       "<table border=\"1\" class=\"dataframe\">\n",
       "  <thead>\n",
       "    <tr style=\"text-align: right;\">\n",
       "      <th></th>\n",
       "      <th>Year_Old</th>\n",
       "      <th>CustomerFor</th>\n",
       "    </tr>\n",
       "  </thead>\n",
       "  <tbody>\n",
       "    <tr>\n",
       "      <th>778</th>\n",
       "      <td>69</td>\n",
       "      <td>3854 days</td>\n",
       "    </tr>\n",
       "    <tr>\n",
       "      <th>1934</th>\n",
       "      <td>73</td>\n",
       "      <td>4108 days</td>\n",
       "    </tr>\n",
       "    <tr>\n",
       "      <th>165</th>\n",
       "      <td>58</td>\n",
       "      <td>3889 days</td>\n",
       "    </tr>\n",
       "    <tr>\n",
       "      <th>1406</th>\n",
       "      <td>73</td>\n",
       "      <td>4105 days</td>\n",
       "    </tr>\n",
       "    <tr>\n",
       "      <th>206</th>\n",
       "      <td>36</td>\n",
       "      <td>3864 days</td>\n",
       "    </tr>\n",
       "  </tbody>\n",
       "</table>\n",
       "</div>"
      ],
      "text/plain": [
       "      Year_Old CustomerFor\n",
       "778         69   3854 days\n",
       "1934        73   4108 days\n",
       "165         58   3889 days\n",
       "1406        73   4105 days\n",
       "206         36   3864 days"
      ]
     },
     "execution_count": 6,
     "metadata": {},
     "output_type": "execute_result"
    }
   ],
   "source": [
    "# Creating new columns: customer year old and days since becoming customer\n",
    "\n",
    "today = pd.to_datetime(datetime.today().strftime('%Y-%m-%d'))\n",
    "\n",
    "data[\"Year_Old\"] = (today.year - data[\"Year_Birth\"])\n",
    "data[\"CustomerFor\"] = (today - data[\"Dt_Customer\"])\n",
    "\n",
    "data[[\"Year_Old\", \"CustomerFor\"]].sample(5)"
   ]
  },
  {
   "cell_type": "code",
   "execution_count": 7,
   "metadata": {},
   "outputs": [
    {
     "name": "stdout",
     "output_type": "stream",
     "text": [
      "<class 'pandas.core.frame.DataFrame'>\n",
      "RangeIndex: 2240 entries, 0 to 2239\n",
      "Data columns (total 31 columns):\n",
      " #   Column               Non-Null Count  Dtype          \n",
      "---  ------               --------------  -----          \n",
      " 0   ID                   2240 non-null   int64          \n",
      " 1   Year_Birth           2240 non-null   int64          \n",
      " 2   Year_Old             2240 non-null   int64          \n",
      " 3   CustomerFor          2240 non-null   timedelta64[ns]\n",
      " 4   Dt_Customer          2240 non-null   datetime64[ns] \n",
      " 5   Education            2240 non-null   category       \n",
      " 6   Marital_Status       2240 non-null   category       \n",
      " 7   Income               2216 non-null   Int64          \n",
      " 8   Kidhome              2240 non-null   int64          \n",
      " 9   Teenhome             2240 non-null   int64          \n",
      " 10  Recency              2240 non-null   int64          \n",
      " 11  MntWines             2240 non-null   int64          \n",
      " 12  MntFruits            2240 non-null   int64          \n",
      " 13  MntMeatProducts      2240 non-null   int64          \n",
      " 14  MntFishProducts      2240 non-null   int64          \n",
      " 15  MntSweetProducts     2240 non-null   int64          \n",
      " 16  MntGoldProds         2240 non-null   int64          \n",
      " 17  NumDealsPurchases    2240 non-null   int64          \n",
      " 18  NumWebPurchases      2240 non-null   int64          \n",
      " 19  NumCatalogPurchases  2240 non-null   int64          \n",
      " 20  NumStorePurchases    2240 non-null   int64          \n",
      " 21  NumWebVisitsMonth    2240 non-null   int64          \n",
      " 22  AcceptedCmp3         2240 non-null   int64          \n",
      " 23  AcceptedCmp4         2240 non-null   int64          \n",
      " 24  AcceptedCmp5         2240 non-null   int64          \n",
      " 25  AcceptedCmp1         2240 non-null   int64          \n",
      " 26  AcceptedCmp2         2240 non-null   int64          \n",
      " 27  Complain             2240 non-null   int64          \n",
      " 28  Z_CostContact        2240 non-null   int64          \n",
      " 29  Z_Revenue            2240 non-null   int64          \n",
      " 30  Response             2240 non-null   int64          \n",
      "dtypes: Int64(1), category(2), datetime64[ns](1), int64(26), timedelta64[ns](1)\n",
      "memory usage: 514.8 KB\n"
     ]
    }
   ],
   "source": [
    "# Reordering columns\n",
    "\n",
    "pop_column = data.pop(\"Dt_Customer\")\n",
    "data.insert(2, \"Dt_Customer\", pop_column)\n",
    "\n",
    "last_columns = data.columns[-2:]\n",
    "first_columns = data.columns[:2]\n",
    "middle_columns = data.columns[2:-2]\n",
    "new_order = list(first_columns) + list(last_columns) + list(middle_columns)\n",
    "\n",
    "data = data[new_order]\n",
    "\n",
    "data.info()"
   ]
  },
  {
   "cell_type": "code",
   "execution_count": 8,
   "metadata": {},
   "outputs": [
    {
     "name": "stdout",
     "output_type": "stream",
     "text": [
      "764     0\n",
      "1574    0\n",
      "21      0\n",
      "1152    0\n",
      "1864    1\n",
      "Name: PurchaseLastMonth, dtype: int64\n"
     ]
    }
   ],
   "source": [
    "# Checking if the customer bought in the last month\n",
    "\n",
    "data[\"PurchaseLastMonth\"] = (data[\"Recency\"] < 30)\n",
    "data[\"PurchaseLastMonth\"] = data[\"PurchaseLastMonth\"].replace({True:1, \n",
    "                                                               False:0})\n",
    "\n",
    "print(data[\"PurchaseLastMonth\"].sample(5))"
   ]
  },
  {
   "cell_type": "code",
   "execution_count": 9,
   "metadata": {},
   "outputs": [
    {
     "name": "stdout",
     "output_type": "stream",
     "text": [
      "182     1033\n",
      "105       29\n",
      "956      475\n",
      "1722    1991\n",
      "1684     304\n",
      "Name: MntSpentTotal, dtype: int64\n"
     ]
    }
   ],
   "source": [
    "# Calculating total amount spent per customer\n",
    "\n",
    "MntSpentTotal_sum = [\"MntFishProducts\", \"MntFruits\", \"MntGoldProds\", \n",
    "                     \"MntMeatProducts\", \"MntSweetProducts\", \"MntWines\"]\n",
    "data[\"MntSpentTotal\"] = data[MntSpentTotal_sum].sum(axis=1)\n",
    "\n",
    "print(data[\"MntSpentTotal\"].sample(5))"
   ]
  },
  {
   "cell_type": "code",
   "execution_count": 10,
   "metadata": {},
   "outputs": [
    {
     "data": {
      "text/plain": [
       "582     0\n",
       "2052    0\n",
       "2153    1\n",
       "22      1\n",
       "1102    0\n",
       "Name: AcceptedCmpTotal, dtype: int64"
      ]
     },
     "execution_count": 10,
     "metadata": {},
     "output_type": "execute_result"
    }
   ],
   "source": [
    "# How many campaigns the customer accepted\n",
    "\n",
    "AcceptedCmpTotal_sum = [\"AcceptedCmp1\", \"AcceptedCmp2\", \"AcceptedCmp3\", \n",
    "                        \"AcceptedCmp4\", \"AcceptedCmp5\", \"Response\"]\n",
    "data[\"AcceptedCmpTotal\"] = data[AcceptedCmpTotal_sum].sum(axis=1)\n",
    "\n",
    "data[\"AcceptedCmpTotal\"].sample(5)"
   ]
  },
  {
   "cell_type": "code",
   "execution_count": 11,
   "metadata": {},
   "outputs": [
    {
     "data": {
      "text/plain": [
       "2201    1\n",
       "1914    1\n",
       "1474    1\n",
       "1193    1\n",
       "710     1\n",
       "Name: ChildrenHome, dtype: int64"
      ]
     },
     "execution_count": 11,
     "metadata": {},
     "output_type": "execute_result"
    }
   ],
   "source": [
    "# How many children (Kids and teenagers) the customer has at home\n",
    "\n",
    "ChildrenHome_sum = [\"Kidhome\", \"Teenhome\"]\n",
    "data[\"ChildrenHome\"] = data[ChildrenHome_sum].sum(axis=\"columns\")\n",
    "\n",
    "data[\"ChildrenHome\"].sample(5)"
   ]
  },
  {
   "cell_type": "markdown",
   "metadata": {},
   "source": [
    "### Columns reordered"
   ]
  },
  {
   "cell_type": "code",
   "execution_count": 12,
   "metadata": {},
   "outputs": [
    {
     "name": "stdout",
     "output_type": "stream",
     "text": [
      "<class 'pandas.core.frame.DataFrame'>\n",
      "RangeIndex: 2240 entries, 0 to 2239\n",
      "Data columns (total 35 columns):\n",
      " #   Column               Non-Null Count  Dtype          \n",
      "---  ------               --------------  -----          \n",
      " 0   ID                   2240 non-null   int64          \n",
      " 1   Year_Birth           2240 non-null   int64          \n",
      " 2   Year_Old             2240 non-null   int64          \n",
      " 3   CustomerFor          2240 non-null   timedelta64[ns]\n",
      " 4   Dt_Customer          2240 non-null   datetime64[ns] \n",
      " 5   Education            2240 non-null   category       \n",
      " 6   Marital_Status       2240 non-null   category       \n",
      " 7   Income               2216 non-null   Int64          \n",
      " 8   Kidhome              2240 non-null   int64          \n",
      " 9   Teenhome             2240 non-null   int64          \n",
      " 10  ChildrenHome         2240 non-null   int64          \n",
      " 11  Recency              2240 non-null   int64          \n",
      " 12  MntSpentTotal        2240 non-null   int64          \n",
      " 13  MntWines             2240 non-null   int64          \n",
      " 14  MntFruits            2240 non-null   int64          \n",
      " 15  MntMeatProducts      2240 non-null   int64          \n",
      " 16  MntFishProducts      2240 non-null   int64          \n",
      " 17  MntSweetProducts     2240 non-null   int64          \n",
      " 18  MntGoldProds         2240 non-null   int64          \n",
      " 19  PurchaseLastMonth    2240 non-null   int64          \n",
      " 20  NumDealsPurchases    2240 non-null   int64          \n",
      " 21  NumWebPurchases      2240 non-null   int64          \n",
      " 22  NumCatalogPurchases  2240 non-null   int64          \n",
      " 23  NumStorePurchases    2240 non-null   int64          \n",
      " 24  NumWebVisitsMonth    2240 non-null   int64          \n",
      " 25  AcceptedCmp1         2240 non-null   int64          \n",
      " 26  AcceptedCmp2         2240 non-null   int64          \n",
      " 27  AcceptedCmp3         2240 non-null   int64          \n",
      " 28  AcceptedCmp4         2240 non-null   int64          \n",
      " 29  AcceptedCmp5         2240 non-null   int64          \n",
      " 30  Response             2240 non-null   int64          \n",
      " 31  AcceptedCmpTotal     2240 non-null   int64          \n",
      " 32  Complain             2240 non-null   int64          \n",
      " 33  Z_CostContact        2240 non-null   int64          \n",
      " 34  Z_Revenue            2240 non-null   int64          \n",
      "dtypes: Int64(1), category(2), datetime64[ns](1), int64(30), timedelta64[ns](1)\n",
      "memory usage: 584.8 KB\n"
     ]
    }
   ],
   "source": [
    "# Reordering columns\n",
    "\n",
    "pop_column = data.pop(\"AcceptedCmpTotal\")\n",
    "data.insert(27, \"AcceptedCmpTotal\", pop_column)\n",
    "\n",
    "pop_column = data.pop(\"PurchaseLastMonth\")\n",
    "data.insert(17, \"PurchaseLastMonth\", pop_column)\n",
    "\n",
    "pop_column = data.pop(\"MntSpentTotal\")\n",
    "data.insert(11, \"MntSpentTotal\", pop_column)\n",
    "\n",
    "pop_column = data.pop(\"ChildrenHome\")\n",
    "data.insert(10, \"ChildrenHome\", pop_column)\n",
    "\n",
    "pop_column = data.pop(\"AcceptedCmp2\")\n",
    "data.insert(25, \"AcceptedCmp2\", pop_column)\n",
    "\n",
    "pop_column = data.pop(\"AcceptedCmp1\")\n",
    "data.insert(25, \"AcceptedCmp1\", pop_column)\n",
    "\n",
    "pop_column = data.pop(\"Response\")\n",
    "data.insert(30, \"Response\", pop_column)\n",
    "\n",
    "data.info()"
   ]
  },
  {
   "cell_type": "markdown",
   "metadata": {},
   "source": [
    "## Data Cleaning"
   ]
  },
  {
   "cell_type": "code",
   "execution_count": 13,
   "metadata": {},
   "outputs": [
    {
     "name": "stdout",
     "output_type": "stream",
     "text": [
      "Customers with missing values:  24\n"
     ]
    }
   ],
   "source": [
    "# Missing Values\n",
    "\n",
    "row_nan = data[data.isna().any(axis=1)]\n",
    "print(\"Customers with missing values: \", len(row_nan))\n",
    "\n",
    "data.drop(row_nan.index, inplace=True)"
   ]
  },
  {
   "cell_type": "code",
   "execution_count": 14,
   "metadata": {},
   "outputs": [
    {
     "name": "stdout",
     "output_type": "stream",
     "text": [
      "Customers with a logically incoherent Marital Status:  7\n"
     ]
    }
   ],
   "source": [
    "# Identifying logically incoherent customers and dropping from the dataframe\n",
    "\n",
    "marital_filt = data[data[\"Marital_Status\"].isin(['Alone', 'Absurd', 'YOLO'])]\n",
    "print(\"Customers with a logically incoherent Marital Status: \", \n",
    "      len(marital_filt))\n",
    "\n",
    "data.drop(marital_filt.index, inplace=True)"
   ]
  },
  {
   "cell_type": "markdown",
   "metadata": {},
   "source": [
    "### Kolmogorov-Smirnov test"
   ]
  },
  {
   "cell_type": "code",
   "execution_count": 15,
   "metadata": {},
   "outputs": [
    {
     "name": "stdout",
     "output_type": "stream",
     "text": [
      "Test statistic: 0.0590\n",
      "p Value: 0.0000\n"
     ]
    }
   ],
   "source": [
    "# KS-Test on 'Year_Old' column\n",
    "ks_result = kstest(data[\"Year_Old\"], stats.norm.cdf, \n",
    "                   args=(data[\"Year_Old\"].mean(), data[\"Year_Old\"].std()))\n",
    "\n",
    "print(f\"Test statistic: {ks_result.statistic:.4f}\")\n",
    "print(f\"p Value: {ks_result.pvalue:.4f}\")"
   ]
  },
  {
   "cell_type": "code",
   "execution_count": 16,
   "metadata": {},
   "outputs": [
    {
     "name": "stdout",
     "output_type": "stream",
     "text": [
      "Test statistic: 0.0542\n",
      "p Value: 0.0000\n"
     ]
    }
   ],
   "source": [
    "# KS-Test on 'Year_Old' column\n",
    "ks_result = kstest(data[\"Income\"], stats.norm.cdf, \n",
    "                   args=(data[\"Income\"].mean(), data[\"Income\"].std()))\n",
    "\n",
    "print(f\"Test statistic: {ks_result.statistic:.4f}\")\n",
    "print(f\"p Value: {ks_result.pvalue:.4f}\")"
   ]
  },
  {
   "cell_type": "markdown",
   "metadata": {},
   "source": [
    "### Obtaining outliers"
   ]
  },
  {
   "cell_type": "code",
   "execution_count": 17,
   "metadata": {},
   "outputs": [
    {
     "name": "stdout",
     "output_type": "stream",
     "text": [
      "IQR:  18.0\n",
      "outliers: \n",
      "        ID  Year_Old  Income CustomerFor Marital_Status  MntSpentTotal\n",
      "192   7829       124   36640   3937 days       Divorced             65\n",
      "239  11004       131   60182   3704 days         Single             22\n",
      "339   1150       125   83532   3937 days       Together           1853\n"
     ]
    }
   ],
   "source": [
    "# Quartiles and IQR\n",
    "quartiles = data[\"Year_Old\"].quantile([0.25, 0.75])\n",
    "iqr = quartiles[0.75] - quartiles[0.25]\n",
    "\n",
    "# Identify Outliers\n",
    "lower_bound = quartiles[0.25] - 1.5 * iqr\n",
    "upper_bound = quartiles[0.75] + 1.5 * iqr\n",
    "\n",
    "# Filtering\n",
    "Year_Old_outliers = data[(data[\"Year_Old\"] < lower_bound) | \n",
    "                (data[\"Year_Old\"] > upper_bound)]\n",
    "\n",
    "print(\"IQR: \", iqr)\n",
    "print(\"outliers: \")\n",
    "print(Year_Old_outliers[[\"ID\", \"Year_Old\", \"Income\", \"CustomerFor\", \n",
    "                \"Marital_Status\", \"MntSpentTotal\"]])\n",
    "\n",
    "# Extracting Outliers from the Dataset\n",
    "data.drop(Year_Old_outliers.index, inplace=True)"
   ]
  },
  {
   "cell_type": "code",
   "execution_count": 18,
   "metadata": {},
   "outputs": [
    {
     "name": "stdout",
     "output_type": "stream",
     "text": [
      "IQR:  33383.5\n",
      "outliers: \n",
      "         ID  Year_Old  Income CustomerFor Marital_Status  MntSpentTotal\n",
      "2233   9432        47  666666   4053 days       Together             62\n",
      "617    1503        48  162397   4052 days       Together            107\n",
      "687    1501        42  160803   4355 days        Married           1717\n",
      "1300   5336        53  157733   4051 days       Together             59\n",
      "164    8475        51  157243   3781 days        Married           1608\n",
      "1653   4931        47  157146   4087 days       Together           1730\n",
      "2132  11181        75  156924   3965 days        Married              8\n",
      "655    5555        49  153924   3803 days       Divorced              6\n"
     ]
    }
   ],
   "source": [
    "# Quartiles and IQR\n",
    "quartiles = data[\"Income\"].quantile([0.25, 0.75])\n",
    "iqr = quartiles[0.75] - quartiles[0.25]\n",
    "\n",
    "# Identify Outliers\n",
    "lower_bound = quartiles[0.25] - 1.5 * iqr\n",
    "upper_bound = quartiles[0.75] + 1.5 * iqr\n",
    "\n",
    "# Filtering\n",
    "income_outliers = data[(data[\"Income\"] < lower_bound) | \n",
    "                (data[\"Income\"] > upper_bound)]\n",
    "\n",
    "print(\"IQR: \", iqr)\n",
    "print(\"outliers: \")\n",
    "print(income_outliers[[\"ID\", \"Year_Old\", \"Income\", \"CustomerFor\", \n",
    "                \"Marital_Status\", \"MntSpentTotal\"]]\\\n",
    "                    .sort_values(\"Income\", ascending=False))\n",
    "\n",
    "# Extracting logically incoherent Outlier from the Dataset\n",
    "data.drop(2233, inplace=True)"
   ]
  },
  {
   "cell_type": "markdown",
   "metadata": {},
   "source": [
    "## New Categorical columns"
   ]
  },
  {
   "cell_type": "code",
   "execution_count": 19,
   "metadata": {},
   "outputs": [
    {
     "name": "stdout",
     "output_type": "stream",
     "text": [
      "min     28.000000\n",
      "mean    55.101134\n",
      "max     84.000000\n",
      "Name: Year_Old, dtype: float64\n",
      "\n",
      "        ID  Year_Old Age_cat  Income\n",
      "638   1907        74   65_74   63120\n",
      "1881  8341        55   55_64   30396\n",
      "1502  3340        47   45_54   42014\n",
      "1044  6287        38   35_44   34728\n",
      "771   1915        73   65_74   78939\n"
     ]
    }
   ],
   "source": [
    "# Age binning categories\n",
    "\n",
    "print(data[\"Year_Old\"].describe()[[\"min\", \"mean\", \"max\"]])\n",
    "\n",
    "bins = [25, 35, 45, 55, 65, 75, 2000]\n",
    "labels = [\"25_34\", \"35_44\", \"45_54\", \"55_64\", \"65_74\", \"75_above\"]\n",
    "\n",
    "data[\"Age_cat\"] = pd.cut(data[\"Year_Old\"], bins, labels=labels, right=False)\n",
    "\n",
    "print(\"\\n\", data[[\"ID\", \"Year_Old\", \"Age_cat\", \"Income\"]].sample(5), sep='')"
   ]
  },
  {
   "cell_type": "code",
   "execution_count": 20,
   "metadata": {},
   "outputs": [
    {
     "name": "stdout",
     "output_type": "stream",
     "text": [
      "min          1730.0\n",
      "mean    51954.61542\n",
      "max        162397.0\n",
      "Name: Income, dtype: Float64\n",
      "\n",
      "        ID Age_cat  Income Income_cat\n",
      "326   5835   45_54   14849         D1\n",
      "539    304   35_44   22944         D2\n",
      "927   3139   35_44   74116         D5\n",
      "879   3270   45_54   17117         D1\n",
      "2161   902   35_44   62994         D4\n"
     ]
    }
   ],
   "source": [
    "# Income binning categories\n",
    "\n",
    "print(data[\"Income\"].describe()[[\"min\", \"mean\", \"max\"]])\n",
    "\n",
    "labels = [f\"D{i+1}\" for i in np.arange(0,10)]\n",
    "\n",
    "data[\"Income_cat\"] = pd.cut(data[\"Income\"], 10, precision=0, labels=labels)\n",
    "\n",
    "print(\"\\n\", data[[\"ID\", \"Age_cat\", \"Income\", \"Income_cat\"]].sample(5), sep='')\n"
   ]
  },
  {
   "cell_type": "code",
   "execution_count": 21,
   "metadata": {},
   "outputs": [
    {
     "name": "stdout",
     "output_type": "stream",
     "text": [
      "min        5.000000\n",
      "mean     607.380499\n",
      "max     2525.000000\n",
      "Name: MntSpentTotal, dtype: float64\n",
      "\n",
      "        ID Age_cat  Income      MntTotal_cat  MntSpentTotal\n",
      "87    4452   65_74   50388    [340.0, 425.0)            372\n",
      "1566  7476   55_64   63972  [1265.0, 1685.0)           1269\n",
      "63    6518   65_74   67680    [425.0, 845.0)            606\n",
      "2169  4548   35_44   41967       [2.0, 87.0)             54\n",
      "167   3712   65_74   52332    [256.0, 340.0)            259\n"
     ]
    }
   ],
   "source": [
    "# Total amount spent binning categories\n",
    "\n",
    "print(data[\"MntSpentTotal\"].describe()[[\"min\", \"mean\", \"max\"]])\n",
    "\n",
    "data[\"MntTotal_cat\"], intervals = pd.cut(data[\"MntSpentTotal\"], 6, \n",
    "                                         precision=0, retbins=True)\n",
    "\n",
    "# Exploring bins:\n",
    "# print(\"\\n\", data[\"MntTotal_cat\"].value_counts().sort_index(), sep='')\n",
    "\n",
    "# Creating new, more descriptive bins\n",
    "temp, first_int = pd.cut(np.arange(2, 426), 5, retbins=True)\n",
    "bins = list(first_int) + list(intervals[2:])\n",
    "\n",
    "data[\"MntTotal_cat\"], intervals = pd.cut(data[\"MntSpentTotal\"], bins, \n",
    "                                         precision=0, right=False, \n",
    "                                         retbins=True)\n",
    "\n",
    "print(\"\\n\", data[[\"ID\", \"Age_cat\", \n",
    "                  \"Income\", \"MntTotal_cat\", \n",
    "                  \"MntSpentTotal\"]].sample(5), sep='')\n"
   ]
  },
  {
   "cell_type": "code",
   "execution_count": 22,
   "metadata": {},
   "outputs": [
    {
     "name": "stdout",
     "output_type": "stream",
     "text": [
      "min      0.000000\n",
      "mean    49.082993\n",
      "max     99.000000\n",
      "Name: Recency, dtype: float64\n",
      "\n",
      "         ID   Age_cat  Recency Recency_cat\n",
      "1512   9451     55_64       92       75_99\n",
      "1367   3231     45_54       97       75_99\n",
      "872    3623     45_54       55       50_74\n",
      "1019   4436     45_54       27       25_49\n",
      "1634  10906  75_above       52       50_74\n"
     ]
    }
   ],
   "source": [
    "# Recency binning categories\n",
    "\n",
    "print(data[\"Recency\"].describe()[[\"min\", \"mean\", \"max\"]])\n",
    "\n",
    "labels = [\"0_24\", \"25_49\", \"50_74\", \"75_99\"]\n",
    "\n",
    "data[\"Recency_cat\"] = pd.cut(data[\"Recency\"], 4, precision=0, labels=labels)\n",
    "\n",
    "print(\"\\n\", data[[\"ID\", \"Age_cat\", \"Recency\", \"Recency_cat\"]].sample(5), \n",
    "      sep='')\n"
   ]
  },
  {
   "cell_type": "markdown",
   "metadata": {},
   "source": [
    "## Saving new Dataset"
   ]
  },
  {
   "cell_type": "code",
   "execution_count": 24,
   "metadata": {},
   "outputs": [
    {
     "name": "stdout",
     "output_type": "stream",
     "text": [
      "<class 'pandas.core.frame.DataFrame'>\n",
      "Index: 2205 entries, 0 to 2239\n",
      "Data columns (total 39 columns):\n",
      " #   Column               Non-Null Count  Dtype          \n",
      "---  ------               --------------  -----          \n",
      " 0   ID                   2205 non-null   int64          \n",
      " 1   Year_Birth           2205 non-null   int64          \n",
      " 2   Year_Old             2205 non-null   int64          \n",
      " 3   CustomerFor          2205 non-null   timedelta64[ns]\n",
      " 4   Dt_Customer          2205 non-null   datetime64[ns] \n",
      " 5   Education            2205 non-null   category       \n",
      " 6   Marital_Status       2205 non-null   category       \n",
      " 7   Income               2205 non-null   Int64          \n",
      " 8   Kidhome              2205 non-null   int64          \n",
      " 9   Teenhome             2205 non-null   int64          \n",
      " 10  ChildrenHome         2205 non-null   int64          \n",
      " 11  Recency              2205 non-null   int64          \n",
      " 12  MntSpentTotal        2205 non-null   int64          \n",
      " 13  MntWines             2205 non-null   int64          \n",
      " 14  MntFruits            2205 non-null   int64          \n",
      " 15  MntMeatProducts      2205 non-null   int64          \n",
      " 16  MntFishProducts      2205 non-null   int64          \n",
      " 17  MntSweetProducts     2205 non-null   int64          \n",
      " 18  MntGoldProds         2205 non-null   int64          \n",
      " 19  PurchaseLastMonth    2205 non-null   int64          \n",
      " 20  NumDealsPurchases    2205 non-null   int64          \n",
      " 21  NumWebPurchases      2205 non-null   int64          \n",
      " 22  NumCatalogPurchases  2205 non-null   int64          \n",
      " 23  NumStorePurchases    2205 non-null   int64          \n",
      " 24  NumWebVisitsMonth    2205 non-null   int64          \n",
      " 25  AcceptedCmp1         2205 non-null   int64          \n",
      " 26  AcceptedCmp2         2205 non-null   int64          \n",
      " 27  AcceptedCmp3         2205 non-null   int64          \n",
      " 28  AcceptedCmp4         2205 non-null   int64          \n",
      " 29  AcceptedCmp5         2205 non-null   int64          \n",
      " 30  Response             2205 non-null   int64          \n",
      " 31  AcceptedCmpTotal     2205 non-null   int64          \n",
      " 32  Complain             2205 non-null   int64          \n",
      " 33  Z_CostContact        2205 non-null   int64          \n",
      " 34  Z_Revenue            2205 non-null   int64          \n",
      " 35  Age_cat              2205 non-null   category       \n",
      " 36  Income_cat           2205 non-null   category       \n",
      " 37  MntTotal_cat         2203 non-null   category       \n",
      " 38  Recency_cat          2205 non-null   category       \n",
      "dtypes: Int64(1), category(6), datetime64[ns](1), int64(30), timedelta64[ns](1)\n",
      "memory usage: 602.6 KB\n"
     ]
    }
   ],
   "source": [
    "data.info()"
   ]
  },
  {
   "cell_type": "code",
   "execution_count": 25,
   "metadata": {},
   "outputs": [],
   "source": [
    "data.to_csv(\"../data/ifood_customers_cleaned.csv\")"
   ]
  }
 ],
 "metadata": {
  "kernelspec": {
   "display_name": "learning",
   "language": "python",
   "name": "python3"
  },
  "language_info": {
   "codemirror_mode": {
    "name": "ipython",
    "version": 3
   },
   "file_extension": ".py",
   "mimetype": "text/x-python",
   "name": "python",
   "nbconvert_exporter": "python",
   "pygments_lexer": "ipython3",
   "version": "3.12.3"
  }
 },
 "nbformat": 4,
 "nbformat_minor": 2
}
