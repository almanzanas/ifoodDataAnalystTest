{
 "cells": [
  {
   "cell_type": "markdown",
   "metadata": {},
   "source": [
    "# iFood\n",
    "\n",
    "## Objetives\n",
    "\n",
    "*Build an analysis to address the highest profit for the next direct marketing* \n",
    "*campaign (sixth) which aims at selling a new gadget. Pilot campaign:*\n",
    "- 2240 customers\n",
    "- Cost of the sample campaign: 6.720MU (Millions of Euros)\n",
    "- Revenew generated: 3.674MU\n",
    "- Global profit: -3.046MU\n",
    "- Success: 15%\n",
    "\n",
    "*Develop a model that predicts customer behavior and to apply it to the rest* \n",
    "*of the customer base.*\n",
    "- Cherry pick the customers that are most likely to purchase the offer.\n",
    "- Leaving out the non-respondents.\n",
    "- Characteristic features of those customers who are willing to buy the gadget.\n",
    "\n"
   ]
  }
 ],
 "metadata": {
  "language_info": {
   "name": "python"
  }
 },
 "nbformat": 4,
 "nbformat_minor": 2
}
